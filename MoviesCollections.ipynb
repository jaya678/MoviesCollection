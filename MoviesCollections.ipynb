{
 "cells": [
  {
   "cell_type": "markdown",
   "metadata": {},
   "source": [
    "### Data importing and preprocessing"
   ]
  },
  {
   "cell_type": "code",
   "execution_count": 1,
   "metadata": {},
   "outputs": [],
   "source": [
    "import numpy as np\n",
    "import pandas as pd\n",
    "import seaborn as sns\n",
    "\n",
    "import warnings \n",
    "warnings.filterwarnings(action=\"ignore\")"
   ]
  },
  {
   "cell_type": "code",
   "execution_count": 2,
   "metadata": {},
   "outputs": [],
   "source": [
    "df = pd.read_csv(\"Movie_collection_train.csv\",header=0)"
   ]
  },
  {
   "cell_type": "code",
   "execution_count": 3,
   "metadata": {},
   "outputs": [
    {
     "data": {
      "text/html": [
       "<div>\n",
       "<style scoped>\n",
       "    .dataframe tbody tr th:only-of-type {\n",
       "        vertical-align: middle;\n",
       "    }\n",
       "\n",
       "    .dataframe tbody tr th {\n",
       "        vertical-align: top;\n",
       "    }\n",
       "\n",
       "    .dataframe thead th {\n",
       "        text-align: right;\n",
       "    }\n",
       "</style>\n",
       "<table border=\"1\" class=\"dataframe\">\n",
       "  <thead>\n",
       "    <tr style=\"text-align: right;\">\n",
       "      <th></th>\n",
       "      <th>Collection</th>\n",
       "      <th>Marketin_expense</th>\n",
       "      <th>Production_expense</th>\n",
       "      <th>Multiplex_coverage</th>\n",
       "      <th>Budget</th>\n",
       "      <th>Movie_length</th>\n",
       "      <th>Lead_ Actor_Rating</th>\n",
       "      <th>Lead_Actress_rating</th>\n",
       "      <th>Director_rating</th>\n",
       "      <th>Producer_rating</th>\n",
       "      <th>Critic_rating</th>\n",
       "      <th>Trailer_views</th>\n",
       "      <th>Time_taken</th>\n",
       "      <th>Twitter_hastags</th>\n",
       "      <th>Genre</th>\n",
       "      <th>Avg_age_actors</th>\n",
       "      <th>MPAA_film_rating</th>\n",
       "      <th>Num_multiplex</th>\n",
       "      <th>3D_available</th>\n",
       "    </tr>\n",
       "  </thead>\n",
       "  <tbody>\n",
       "    <tr>\n",
       "      <th>0</th>\n",
       "      <td>48000</td>\n",
       "      <td>20.1264</td>\n",
       "      <td>59.62</td>\n",
       "      <td>0.462</td>\n",
       "      <td>36524.125</td>\n",
       "      <td>138.7</td>\n",
       "      <td>7.825</td>\n",
       "      <td>8.095</td>\n",
       "      <td>7.910</td>\n",
       "      <td>7.995</td>\n",
       "      <td>7.94</td>\n",
       "      <td>527367</td>\n",
       "      <td>109.60</td>\n",
       "      <td>223.840</td>\n",
       "      <td>Thriller</td>\n",
       "      <td>23</td>\n",
       "      <td>PG</td>\n",
       "      <td>494</td>\n",
       "      <td>YES</td>\n",
       "    </tr>\n",
       "    <tr>\n",
       "      <th>1</th>\n",
       "      <td>43200</td>\n",
       "      <td>20.5462</td>\n",
       "      <td>69.14</td>\n",
       "      <td>0.531</td>\n",
       "      <td>35668.655</td>\n",
       "      <td>152.4</td>\n",
       "      <td>7.505</td>\n",
       "      <td>7.650</td>\n",
       "      <td>7.440</td>\n",
       "      <td>7.470</td>\n",
       "      <td>7.44</td>\n",
       "      <td>494055</td>\n",
       "      <td>146.64</td>\n",
       "      <td>243.456</td>\n",
       "      <td>Drama</td>\n",
       "      <td>42</td>\n",
       "      <td>PG</td>\n",
       "      <td>462</td>\n",
       "      <td>NO</td>\n",
       "    </tr>\n",
       "    <tr>\n",
       "      <th>2</th>\n",
       "      <td>69400</td>\n",
       "      <td>20.5458</td>\n",
       "      <td>69.14</td>\n",
       "      <td>0.531</td>\n",
       "      <td>39912.675</td>\n",
       "      <td>134.6</td>\n",
       "      <td>7.485</td>\n",
       "      <td>7.570</td>\n",
       "      <td>7.495</td>\n",
       "      <td>7.515</td>\n",
       "      <td>7.44</td>\n",
       "      <td>547051</td>\n",
       "      <td>147.88</td>\n",
       "      <td>2022.400</td>\n",
       "      <td>Comedy</td>\n",
       "      <td>38</td>\n",
       "      <td>PG</td>\n",
       "      <td>458</td>\n",
       "      <td>NO</td>\n",
       "    </tr>\n",
       "    <tr>\n",
       "      <th>3</th>\n",
       "      <td>66800</td>\n",
       "      <td>20.6474</td>\n",
       "      <td>59.36</td>\n",
       "      <td>0.542</td>\n",
       "      <td>38873.890</td>\n",
       "      <td>119.3</td>\n",
       "      <td>6.895</td>\n",
       "      <td>7.035</td>\n",
       "      <td>6.920</td>\n",
       "      <td>7.020</td>\n",
       "      <td>8.26</td>\n",
       "      <td>516279</td>\n",
       "      <td>185.36</td>\n",
       "      <td>225.344</td>\n",
       "      <td>Drama</td>\n",
       "      <td>45</td>\n",
       "      <td>PG</td>\n",
       "      <td>472</td>\n",
       "      <td>YES</td>\n",
       "    </tr>\n",
       "    <tr>\n",
       "      <th>4</th>\n",
       "      <td>72400</td>\n",
       "      <td>21.3810</td>\n",
       "      <td>59.36</td>\n",
       "      <td>0.542</td>\n",
       "      <td>39701.585</td>\n",
       "      <td>127.7</td>\n",
       "      <td>6.920</td>\n",
       "      <td>7.070</td>\n",
       "      <td>6.815</td>\n",
       "      <td>7.070</td>\n",
       "      <td>8.26</td>\n",
       "      <td>531448</td>\n",
       "      <td>176.48</td>\n",
       "      <td>225.792</td>\n",
       "      <td>Drama</td>\n",
       "      <td>55</td>\n",
       "      <td>PG</td>\n",
       "      <td>395</td>\n",
       "      <td>NO</td>\n",
       "    </tr>\n",
       "  </tbody>\n",
       "</table>\n",
       "</div>"
      ],
      "text/plain": [
       "   Collection  Marketin_expense  Production_expense  Multiplex_coverage  \\\n",
       "0       48000           20.1264               59.62               0.462   \n",
       "1       43200           20.5462               69.14               0.531   \n",
       "2       69400           20.5458               69.14               0.531   \n",
       "3       66800           20.6474               59.36               0.542   \n",
       "4       72400           21.3810               59.36               0.542   \n",
       "\n",
       "      Budget  Movie_length  Lead_ Actor_Rating  Lead_Actress_rating  \\\n",
       "0  36524.125         138.7               7.825                8.095   \n",
       "1  35668.655         152.4               7.505                7.650   \n",
       "2  39912.675         134.6               7.485                7.570   \n",
       "3  38873.890         119.3               6.895                7.035   \n",
       "4  39701.585         127.7               6.920                7.070   \n",
       "\n",
       "   Director_rating  Producer_rating  Critic_rating  Trailer_views  Time_taken  \\\n",
       "0            7.910            7.995           7.94         527367      109.60   \n",
       "1            7.440            7.470           7.44         494055      146.64   \n",
       "2            7.495            7.515           7.44         547051      147.88   \n",
       "3            6.920            7.020           8.26         516279      185.36   \n",
       "4            6.815            7.070           8.26         531448      176.48   \n",
       "\n",
       "   Twitter_hastags     Genre  Avg_age_actors MPAA_film_rating  Num_multiplex  \\\n",
       "0          223.840  Thriller              23               PG            494   \n",
       "1          243.456     Drama              42               PG            462   \n",
       "2         2022.400    Comedy              38               PG            458   \n",
       "3          225.344     Drama              45               PG            472   \n",
       "4          225.792     Drama              55               PG            395   \n",
       "\n",
       "  3D_available  \n",
       "0          YES  \n",
       "1           NO  \n",
       "2           NO  \n",
       "3          YES  \n",
       "4           NO  "
      ]
     },
     "execution_count": 3,
     "metadata": {},
     "output_type": "execute_result"
    }
   ],
   "source": [
    "df.head()"
   ]
  },
  {
   "cell_type": "code",
   "execution_count": 4,
   "metadata": {},
   "outputs": [
    {
     "data": {
      "text/plain": [
       "(400, 19)"
      ]
     },
     "execution_count": 4,
     "metadata": {},
     "output_type": "execute_result"
    }
   ],
   "source": [
    "df.shape"
   ]
  },
  {
   "cell_type": "markdown",
   "metadata": {},
   "source": [
    "#### EDA (Exploratory data analysis)"
   ]
  },
  {
   "cell_type": "code",
   "execution_count": 5,
   "metadata": {},
   "outputs": [
    {
     "data": {
      "text/html": [
       "<div>\n",
       "<style scoped>\n",
       "    .dataframe tbody tr th:only-of-type {\n",
       "        vertical-align: middle;\n",
       "    }\n",
       "\n",
       "    .dataframe tbody tr th {\n",
       "        vertical-align: top;\n",
       "    }\n",
       "\n",
       "    .dataframe thead th {\n",
       "        text-align: right;\n",
       "    }\n",
       "</style>\n",
       "<table border=\"1\" class=\"dataframe\">\n",
       "  <thead>\n",
       "    <tr style=\"text-align: right;\">\n",
       "      <th></th>\n",
       "      <th>Collection</th>\n",
       "      <th>Marketin_expense</th>\n",
       "      <th>Production_expense</th>\n",
       "      <th>Multiplex_coverage</th>\n",
       "      <th>Budget</th>\n",
       "      <th>Movie_length</th>\n",
       "      <th>Lead_ Actor_Rating</th>\n",
       "      <th>Lead_Actress_rating</th>\n",
       "      <th>Director_rating</th>\n",
       "      <th>Producer_rating</th>\n",
       "      <th>Critic_rating</th>\n",
       "      <th>Trailer_views</th>\n",
       "      <th>Time_taken</th>\n",
       "      <th>Twitter_hastags</th>\n",
       "      <th>Avg_age_actors</th>\n",
       "      <th>Num_multiplex</th>\n",
       "    </tr>\n",
       "  </thead>\n",
       "  <tbody>\n",
       "    <tr>\n",
       "      <th>count</th>\n",
       "      <td>400.000000</td>\n",
       "      <td>400.000000</td>\n",
       "      <td>400.000000</td>\n",
       "      <td>400.000000</td>\n",
       "      <td>400.000000</td>\n",
       "      <td>400.000000</td>\n",
       "      <td>400.000000</td>\n",
       "      <td>400.000000</td>\n",
       "      <td>400.000000</td>\n",
       "      <td>400.000000</td>\n",
       "      <td>400.000000</td>\n",
       "      <td>400.000000</td>\n",
       "      <td>392.000000</td>\n",
       "      <td>400.000000</td>\n",
       "      <td>400.000000</td>\n",
       "      <td>400.000000</td>\n",
       "    </tr>\n",
       "    <tr>\n",
       "      <th>mean</th>\n",
       "      <td>48646.500000</td>\n",
       "      <td>55.017181</td>\n",
       "      <td>73.832700</td>\n",
       "      <td>0.469881</td>\n",
       "      <td>35197.771537</td>\n",
       "      <td>137.581750</td>\n",
       "      <td>7.810275</td>\n",
       "      <td>7.982813</td>\n",
       "      <td>7.813375</td>\n",
       "      <td>7.993888</td>\n",
       "      <td>7.894100</td>\n",
       "      <td>463223.567500</td>\n",
       "      <td>157.790000</td>\n",
       "      <td>258.083840</td>\n",
       "      <td>38.715000</td>\n",
       "      <td>523.650000</td>\n",
       "    </tr>\n",
       "    <tr>\n",
       "      <th>std</th>\n",
       "      <td>18308.499136</td>\n",
       "      <td>119.755634</td>\n",
       "      <td>13.023426</td>\n",
       "      <td>0.113920</td>\n",
       "      <td>4075.766926</td>\n",
       "      <td>28.990673</td>\n",
       "      <td>1.088694</td>\n",
       "      <td>1.089923</td>\n",
       "      <td>1.093581</td>\n",
       "      <td>1.088619</td>\n",
       "      <td>0.672413</td>\n",
       "      <td>65225.567649</td>\n",
       "      <td>31.723517</td>\n",
       "      <td>94.621476</td>\n",
       "      <td>12.651043</td>\n",
       "      <td>103.661283</td>\n",
       "    </tr>\n",
       "    <tr>\n",
       "      <th>min</th>\n",
       "      <td>10000.000000</td>\n",
       "      <td>20.126400</td>\n",
       "      <td>55.920000</td>\n",
       "      <td>0.129000</td>\n",
       "      <td>19781.355000</td>\n",
       "      <td>76.400000</td>\n",
       "      <td>3.840000</td>\n",
       "      <td>4.035000</td>\n",
       "      <td>3.840000</td>\n",
       "      <td>4.030000</td>\n",
       "      <td>6.600000</td>\n",
       "      <td>215432.000000</td>\n",
       "      <td>0.000000</td>\n",
       "      <td>201.632000</td>\n",
       "      <td>3.000000</td>\n",
       "      <td>333.000000</td>\n",
       "    </tr>\n",
       "    <tr>\n",
       "      <th>25%</th>\n",
       "      <td>37800.000000</td>\n",
       "      <td>21.321950</td>\n",
       "      <td>63.250000</td>\n",
       "      <td>0.419000</td>\n",
       "      <td>32721.727500</td>\n",
       "      <td>111.175000</td>\n",
       "      <td>7.092500</td>\n",
       "      <td>7.252500</td>\n",
       "      <td>7.123750</td>\n",
       "      <td>7.273750</td>\n",
       "      <td>7.320000</td>\n",
       "      <td>436793.500000</td>\n",
       "      <td>133.360000</td>\n",
       "      <td>223.804000</td>\n",
       "      <td>26.000000</td>\n",
       "      <td>451.000000</td>\n",
       "    </tr>\n",
       "    <tr>\n",
       "      <th>50%</th>\n",
       "      <td>45000.000000</td>\n",
       "      <td>23.214700</td>\n",
       "      <td>69.030000</td>\n",
       "      <td>0.494500</td>\n",
       "      <td>34593.762500</td>\n",
       "      <td>142.250000</td>\n",
       "      <td>7.995000</td>\n",
       "      <td>8.157500</td>\n",
       "      <td>7.990000</td>\n",
       "      <td>8.140000</td>\n",
       "      <td>7.960000</td>\n",
       "      <td>474930.000000</td>\n",
       "      <td>159.720000</td>\n",
       "      <td>246.680000</td>\n",
       "      <td>39.000000</td>\n",
       "      <td>510.000000</td>\n",
       "    </tr>\n",
       "    <tr>\n",
       "      <th>75%</th>\n",
       "      <td>56500.000000</td>\n",
       "      <td>34.638300</td>\n",
       "      <td>82.840000</td>\n",
       "      <td>0.558000</td>\n",
       "      <td>37142.118750</td>\n",
       "      <td>165.400000</td>\n",
       "      <td>8.725000</td>\n",
       "      <td>8.912500</td>\n",
       "      <td>8.740000</td>\n",
       "      <td>8.931250</td>\n",
       "      <td>8.400000</td>\n",
       "      <td>507690.500000</td>\n",
       "      <td>183.210000</td>\n",
       "      <td>283.444000</td>\n",
       "      <td>50.000000</td>\n",
       "      <td>571.000000</td>\n",
       "    </tr>\n",
       "    <tr>\n",
       "      <th>max</th>\n",
       "      <td>100000.000000</td>\n",
       "      <td>1799.524000</td>\n",
       "      <td>106.300000</td>\n",
       "      <td>0.615000</td>\n",
       "      <td>48772.900000</td>\n",
       "      <td>173.500000</td>\n",
       "      <td>9.435000</td>\n",
       "      <td>9.540000</td>\n",
       "      <td>9.425000</td>\n",
       "      <td>9.635000</td>\n",
       "      <td>9.400000</td>\n",
       "      <td>567784.000000</td>\n",
       "      <td>217.520000</td>\n",
       "      <td>2022.400000</td>\n",
       "      <td>60.000000</td>\n",
       "      <td>868.000000</td>\n",
       "    </tr>\n",
       "  </tbody>\n",
       "</table>\n",
       "</div>"
      ],
      "text/plain": [
       "          Collection  Marketin_expense  Production_expense  \\\n",
       "count     400.000000        400.000000          400.000000   \n",
       "mean    48646.500000         55.017181           73.832700   \n",
       "std     18308.499136        119.755634           13.023426   \n",
       "min     10000.000000         20.126400           55.920000   \n",
       "25%     37800.000000         21.321950           63.250000   \n",
       "50%     45000.000000         23.214700           69.030000   \n",
       "75%     56500.000000         34.638300           82.840000   \n",
       "max    100000.000000       1799.524000          106.300000   \n",
       "\n",
       "       Multiplex_coverage        Budget  Movie_length  Lead_ Actor_Rating  \\\n",
       "count          400.000000    400.000000    400.000000          400.000000   \n",
       "mean             0.469881  35197.771537    137.581750            7.810275   \n",
       "std              0.113920   4075.766926     28.990673            1.088694   \n",
       "min              0.129000  19781.355000     76.400000            3.840000   \n",
       "25%              0.419000  32721.727500    111.175000            7.092500   \n",
       "50%              0.494500  34593.762500    142.250000            7.995000   \n",
       "75%              0.558000  37142.118750    165.400000            8.725000   \n",
       "max              0.615000  48772.900000    173.500000            9.435000   \n",
       "\n",
       "       Lead_Actress_rating  Director_rating  Producer_rating  Critic_rating  \\\n",
       "count           400.000000       400.000000       400.000000     400.000000   \n",
       "mean              7.982813         7.813375         7.993888       7.894100   \n",
       "std               1.089923         1.093581         1.088619       0.672413   \n",
       "min               4.035000         3.840000         4.030000       6.600000   \n",
       "25%               7.252500         7.123750         7.273750       7.320000   \n",
       "50%               8.157500         7.990000         8.140000       7.960000   \n",
       "75%               8.912500         8.740000         8.931250       8.400000   \n",
       "max               9.540000         9.425000         9.635000       9.400000   \n",
       "\n",
       "       Trailer_views  Time_taken  Twitter_hastags  Avg_age_actors  \\\n",
       "count     400.000000  392.000000       400.000000      400.000000   \n",
       "mean   463223.567500  157.790000       258.083840       38.715000   \n",
       "std     65225.567649   31.723517        94.621476       12.651043   \n",
       "min    215432.000000    0.000000       201.632000        3.000000   \n",
       "25%    436793.500000  133.360000       223.804000       26.000000   \n",
       "50%    474930.000000  159.720000       246.680000       39.000000   \n",
       "75%    507690.500000  183.210000       283.444000       50.000000   \n",
       "max    567784.000000  217.520000      2022.400000       60.000000   \n",
       "\n",
       "       Num_multiplex  \n",
       "count     400.000000  \n",
       "mean      523.650000  \n",
       "std       103.661283  \n",
       "min       333.000000  \n",
       "25%       451.000000  \n",
       "50%       510.000000  \n",
       "75%       571.000000  \n",
       "max       868.000000  "
      ]
     },
     "execution_count": 5,
     "metadata": {},
     "output_type": "execute_result"
    }
   ],
   "source": [
    "df.describe()"
   ]
  },
  {
   "cell_type": "code",
   "execution_count": 6,
   "metadata": {},
   "outputs": [
    {
     "name": "stdout",
     "output_type": "stream",
     "text": [
      "<class 'pandas.core.frame.DataFrame'>\n",
      "RangeIndex: 400 entries, 0 to 399\n",
      "Data columns (total 19 columns):\n",
      " #   Column               Non-Null Count  Dtype  \n",
      "---  ------               --------------  -----  \n",
      " 0   Collection           400 non-null    int64  \n",
      " 1   Marketin_expense     400 non-null    float64\n",
      " 2   Production_expense   400 non-null    float64\n",
      " 3   Multiplex_coverage   400 non-null    float64\n",
      " 4   Budget               400 non-null    float64\n",
      " 5   Movie_length         400 non-null    float64\n",
      " 6   Lead_ Actor_Rating   400 non-null    float64\n",
      " 7   Lead_Actress_rating  400 non-null    float64\n",
      " 8   Director_rating      400 non-null    float64\n",
      " 9   Producer_rating      400 non-null    float64\n",
      " 10  Critic_rating        400 non-null    float64\n",
      " 11  Trailer_views        400 non-null    int64  \n",
      " 12  Time_taken           392 non-null    float64\n",
      " 13  Twitter_hastags      400 non-null    float64\n",
      " 14  Genre                400 non-null    object \n",
      " 15  Avg_age_actors       400 non-null    int64  \n",
      " 16  MPAA_film_rating     400 non-null    object \n",
      " 17  Num_multiplex        400 non-null    int64  \n",
      " 18  3D_available         400 non-null    object \n",
      "dtypes: float64(12), int64(4), object(3)\n",
      "memory usage: 59.5+ KB\n"
     ]
    }
   ],
   "source": [
    "df.info()"
   ]
  },
  {
   "cell_type": "code",
   "execution_count": 7,
   "metadata": {},
   "outputs": [
    {
     "data": {
      "text/plain": [
       "<seaborn.axisgrid.JointGrid at 0x1bf1e067160>"
      ]
     },
     "execution_count": 7,
     "metadata": {},
     "output_type": "execute_result"
    },
    {
     "data": {
      "image/png": "[encoded data removed]",
      "text/plain": [
       "<Figure size 432x432 with 3 Axes>"
      ]
     },
     "metadata": {
      "needs_background": "light"
     },
     "output_type": "display_data"
    }
   ],
   "source": [
    "sns.jointplot(x='Marketin_expense',y='Collection', data=df)"
   ]
  },
  {
   "cell_type": "code",
   "execution_count": 8,
   "metadata": {},
   "outputs": [
    {
     "data": {
      "text/plain": [
       "<seaborn.axisgrid.JointGrid at 0x1bf26210c40>"
      ]
     },
     "execution_count": 8,
     "metadata": {},
     "output_type": "execute_result"
    },
    {
     "data": {
      "image/png": "[encoded data removed]",
      "text/plain": [
       "<Figure size 432x432 with 3 Axes>"
      ]
     },
     "metadata": {
      "needs_background": "light"
     },
     "output_type": "display_data"
    }
   ],
   "source": [
    "sns.jointplot(x='Twitter_hastags',y='Collection', data=df)"
   ]
  },
  {
   "cell_type": "code",
   "execution_count": 9,
   "metadata": {},
   "outputs": [
    {
     "data": {
      "text/plain": [
       "<seaborn.axisgrid.JointGrid at 0x1bf2665d640>"
      ]
     },
     "execution_count": 9,
     "metadata": {},
     "output_type": "execute_result"
    },
    {
     "data": {
      "image/png": "[encoded data removed]",
      "text/plain": [
       "<Figure size 432x432 with 3 Axes>"
      ]
     },
     "metadata": {
      "needs_background": "light"
     },
     "output_type": "display_data"
    }
   ],
   "source": [
    "sns.jointplot(x='Avg_age_actors',y='Collection', data=df)"
   ]
  },
  {
   "cell_type": "code",
   "execution_count": 10,
   "metadata": {},
   "outputs": [
    {
     "data": {
      "text/plain": [
       "<seaborn.axisgrid.JointGrid at 0x1bf26af4070>"
      ]
     },
     "execution_count": 10,
     "metadata": {},
     "output_type": "execute_result"
    },
    {
     "data": {
      "image/png": "[encoded data removed]",
      "text/plain": [
       "<Figure size 432x432 with 3 Axes>"
      ]
     },
     "metadata": {
      "needs_background": "light"
     },
     "output_type": "display_data"
    }
   ],
   "source": [
    "sns.jointplot(x='Time_taken',y='Collection', data=df)"
   ]
  },
  {
   "cell_type": "code",
   "execution_count": 11,
   "metadata": {},
   "outputs": [
    {
     "data": {
      "text/plain": [
       "<AxesSubplot:xlabel='Genre', ylabel='count'>"
      ]
     },
     "execution_count": 11,
     "metadata": {},
     "output_type": "execute_result"
    },
    {
     "data": {
      "image/png": "[encoded data removed]",
      "text/plain": [
       "<Figure size 432x288 with 1 Axes>"
      ]
     },
     "metadata": {
      "needs_background": "light"
     },
     "output_type": "display_data"
    }
   ],
   "source": [
    "sns.countplot(x=\"Genre\",data=df)"
   ]
  },
  {
   "cell_type": "code",
   "execution_count": 12,
   "metadata": {},
   "outputs": [
    {
     "data": {
      "text/plain": [
       "<AxesSubplot:xlabel='MPAA_film_rating', ylabel='count'>"
      ]
     },
     "execution_count": 12,
     "metadata": {},
     "output_type": "execute_result"
    },
    {
     "data": {
      "image/png": "[encoded data removed]",
      "text/plain": [
       "<Figure size 432x288 with 1 Axes>"
      ]
     },
     "metadata": {
      "needs_background": "light"
     },
     "output_type": "display_data"
    }
   ],
   "source": [
    "sns.countplot(x=\"MPAA_film_rating\",data=df)"
   ]
  },
  {
   "cell_type": "code",
   "execution_count": 13,
   "metadata": {},
   "outputs": [
    {
     "data": {
      "text/plain": [
       "<AxesSubplot:xlabel='3D_available', ylabel='count'>"
      ]
     },
     "execution_count": 13,
     "metadata": {},
     "output_type": "execute_result"
    },
    {
     "data": {
      "image/png": "[encoded data removed]",
      "text/plain": [
       "<Figure size 432x288 with 1 Axes>"
      ]
     },
     "metadata": {
      "needs_background": "light"
     },
     "output_type": "display_data"
    }
   ],
   "source": [
    "sns.countplot(x=\"3D_available\",data=df)"
   ]
  },
  {
   "cell_type": "markdown",
   "metadata": {},
   "source": [
    "### Observations:\n",
    "* Outliers in Marketing_expense and Twitter_hashtags and  Avg_age_actors\n",
    "* Outliersin Time_taken \n",
    "* Skewness in Marketing_expense\n",
    "* Time_taken has null values\n",
    "* MPAA_film_rating is redundant since it has only one value"
   ]
  },
  {
   "cell_type": "markdown",
   "metadata": {},
   "source": [
    "##### Treatment of skewness of data in Marketing_expense"
   ]
  },
  {
   "cell_type": "code",
   "execution_count": 14,
   "metadata": {},
   "outputs": [],
   "source": [
    "df.Marketin_expense = np.log(1+df.Marketin_expense)"
   ]
  },
  {
   "cell_type": "code",
   "execution_count": 15,
   "metadata": {},
   "outputs": [
    {
     "data": {
      "text/plain": [
       "<seaborn.axisgrid.JointGrid at 0x1bf26d7acd0>"
      ]
     },
     "execution_count": 15,
     "metadata": {},
     "output_type": "execute_result"
    },
    {
     "data": {
      "image/png": "[encoded data removed]",
      "text/plain": [
       "<Figure size 432x432 with 3 Axes>"
      ]
     },
     "metadata": {
      "needs_background": "light"
     },
     "output_type": "display_data"
    }
   ],
   "source": [
    "sns.jointplot(x='Marketin_expense',y='Collection', data=df)"
   ]
  },
  {
   "cell_type": "markdown",
   "metadata": {},
   "source": [
    "#### *Treating the missing values in Time_taken*"
   ]
  },
  {
   "cell_type": "code",
   "execution_count": 16,
   "metadata": {},
   "outputs": [],
   "source": [
    "df.Time_taken = df.Time_taken.fillna(df.Time_taken.mean())"
   ]
  },
  {
   "cell_type": "code",
   "execution_count": 17,
   "metadata": {},
   "outputs": [
    {
     "name": "stdout",
     "output_type": "stream",
     "text": [
      "<class 'pandas.core.frame.DataFrame'>\n",
      "RangeIndex: 400 entries, 0 to 399\n",
      "Data columns (total 19 columns):\n",
      " #   Column               Non-Null Count  Dtype  \n",
      "---  ------               --------------  -----  \n",
      " 0   Collection           400 non-null    int64  \n",
      " 1   Marketin_expense     400 non-null    float64\n",
      " 2   Production_expense   400 non-null    float64\n",
      " 3   Multiplex_coverage   400 non-null    float64\n",
      " 4   Budget               400 non-null    float64\n",
      " 5   Movie_length         400 non-null    float64\n",
      " 6   Lead_ Actor_Rating   400 non-null    float64\n",
      " 7   Lead_Actress_rating  400 non-null    float64\n",
      " 8   Director_rating      400 non-null    float64\n",
      " 9   Producer_rating      400 non-null    float64\n",
      " 10  Critic_rating        400 non-null    float64\n",
      " 11  Trailer_views        400 non-null    int64  \n",
      " 12  Time_taken           400 non-null    float64\n",
      " 13  Twitter_hastags      400 non-null    float64\n",
      " 14  Genre                400 non-null    object \n",
      " 15  Avg_age_actors       400 non-null    int64  \n",
      " 16  MPAA_film_rating     400 non-null    object \n",
      " 17  Num_multiplex        400 non-null    int64  \n",
      " 18  3D_available         400 non-null    object \n",
      "dtypes: float64(12), int64(4), object(3)\n",
      "memory usage: 59.5+ KB\n"
     ]
    }
   ],
   "source": [
    "df.info()"
   ]
  },
  {
   "cell_type": "markdown",
   "metadata": {},
   "source": [
    "####  *Removing the redundant variable*"
   ]
  },
  {
   "cell_type": "code",
   "execution_count": 18,
   "metadata": {},
   "outputs": [],
   "source": [
    "del df['MPAA_film_rating']"
   ]
  },
  {
   "cell_type": "code",
   "execution_count": 19,
   "metadata": {
    "scrolled": true
   },
   "outputs": [
    {
     "data": {
      "text/html": [
       "<div>\n",
       "<style scoped>\n",
       "    .dataframe tbody tr th:only-of-type {\n",
       "        vertical-align: middle;\n",
       "    }\n",
       "\n",
       "    .dataframe tbody tr th {\n",
       "        vertical-align: top;\n",
       "    }\n",
       "\n",
       "    .dataframe thead th {\n",
       "        text-align: right;\n",
       "    }\n",
       "</style>\n",
       "<table border=\"1\" class=\"dataframe\">\n",
       "  <thead>\n",
       "    <tr style=\"text-align: right;\">\n",
       "      <th></th>\n",
       "      <th>Collection</th>\n",
       "      <th>Marketin_expense</th>\n",
       "      <th>Production_expense</th>\n",
       "      <th>Multiplex_coverage</th>\n",
       "      <th>Budget</th>\n",
       "      <th>Movie_length</th>\n",
       "      <th>Lead_ Actor_Rating</th>\n",
       "      <th>Lead_Actress_rating</th>\n",
       "      <th>Director_rating</th>\n",
       "      <th>Producer_rating</th>\n",
       "      <th>Critic_rating</th>\n",
       "      <th>Trailer_views</th>\n",
       "      <th>Time_taken</th>\n",
       "      <th>Twitter_hastags</th>\n",
       "      <th>Genre</th>\n",
       "      <th>Avg_age_actors</th>\n",
       "      <th>Num_multiplex</th>\n",
       "      <th>3D_available</th>\n",
       "    </tr>\n",
       "  </thead>\n",
       "  <tbody>\n",
       "    <tr>\n",
       "      <th>0</th>\n",
       "      <td>48000</td>\n",
       "      <td>3.050523</td>\n",
       "      <td>59.62</td>\n",
       "      <td>0.462</td>\n",
       "      <td>36524.125</td>\n",
       "      <td>138.7</td>\n",
       "      <td>7.825</td>\n",
       "      <td>8.095</td>\n",
       "      <td>7.910</td>\n",
       "      <td>7.995</td>\n",
       "      <td>7.94</td>\n",
       "      <td>527367</td>\n",
       "      <td>109.60</td>\n",
       "      <td>223.840</td>\n",
       "      <td>Thriller</td>\n",
       "      <td>23</td>\n",
       "      <td>494</td>\n",
       "      <td>YES</td>\n",
       "    </tr>\n",
       "    <tr>\n",
       "      <th>1</th>\n",
       "      <td>43200</td>\n",
       "      <td>3.070199</td>\n",
       "      <td>69.14</td>\n",
       "      <td>0.531</td>\n",
       "      <td>35668.655</td>\n",
       "      <td>152.4</td>\n",
       "      <td>7.505</td>\n",
       "      <td>7.650</td>\n",
       "      <td>7.440</td>\n",
       "      <td>7.470</td>\n",
       "      <td>7.44</td>\n",
       "      <td>494055</td>\n",
       "      <td>146.64</td>\n",
       "      <td>243.456</td>\n",
       "      <td>Drama</td>\n",
       "      <td>42</td>\n",
       "      <td>462</td>\n",
       "      <td>NO</td>\n",
       "    </tr>\n",
       "    <tr>\n",
       "      <th>2</th>\n",
       "      <td>69400</td>\n",
       "      <td>3.070181</td>\n",
       "      <td>69.14</td>\n",
       "      <td>0.531</td>\n",
       "      <td>39912.675</td>\n",
       "      <td>134.6</td>\n",
       "      <td>7.485</td>\n",
       "      <td>7.570</td>\n",
       "      <td>7.495</td>\n",
       "      <td>7.515</td>\n",
       "      <td>7.44</td>\n",
       "      <td>547051</td>\n",
       "      <td>147.88</td>\n",
       "      <td>2022.400</td>\n",
       "      <td>Comedy</td>\n",
       "      <td>38</td>\n",
       "      <td>458</td>\n",
       "      <td>NO</td>\n",
       "    </tr>\n",
       "    <tr>\n",
       "      <th>3</th>\n",
       "      <td>66800</td>\n",
       "      <td>3.074885</td>\n",
       "      <td>59.36</td>\n",
       "      <td>0.542</td>\n",
       "      <td>38873.890</td>\n",
       "      <td>119.3</td>\n",
       "      <td>6.895</td>\n",
       "      <td>7.035</td>\n",
       "      <td>6.920</td>\n",
       "      <td>7.020</td>\n",
       "      <td>8.26</td>\n",
       "      <td>516279</td>\n",
       "      <td>185.36</td>\n",
       "      <td>225.344</td>\n",
       "      <td>Drama</td>\n",
       "      <td>45</td>\n",
       "      <td>472</td>\n",
       "      <td>YES</td>\n",
       "    </tr>\n",
       "    <tr>\n",
       "      <th>4</th>\n",
       "      <td>72400</td>\n",
       "      <td>3.108212</td>\n",
       "      <td>59.36</td>\n",
       "      <td>0.542</td>\n",
       "      <td>39701.585</td>\n",
       "      <td>127.7</td>\n",
       "      <td>6.920</td>\n",
       "      <td>7.070</td>\n",
       "      <td>6.815</td>\n",
       "      <td>7.070</td>\n",
       "      <td>8.26</td>\n",
       "      <td>531448</td>\n",
       "      <td>176.48</td>\n",
       "      <td>225.792</td>\n",
       "      <td>Drama</td>\n",
       "      <td>55</td>\n",
       "      <td>395</td>\n",
       "      <td>NO</td>\n",
       "    </tr>\n",
       "  </tbody>\n",
       "</table>\n",
       "</div>"
      ],
      "text/plain": [
       "   Collection  Marketin_expense  Production_expense  Multiplex_coverage  \\\n",
       "0       48000          3.050523               59.62               0.462   \n",
       "1       43200          3.070199               69.14               0.531   \n",
       "2       69400          3.070181               69.14               0.531   \n",
       "3       66800          3.074885               59.36               0.542   \n",
       "4       72400          3.108212               59.36               0.542   \n",
       "\n",
       "      Budget  Movie_length  Lead_ Actor_Rating  Lead_Actress_rating  \\\n",
       "0  36524.125         138.7               7.825                8.095   \n",
       "1  35668.655         152.4               7.505                7.650   \n",
       "2  39912.675         134.6               7.485                7.570   \n",
       "3  38873.890         119.3               6.895                7.035   \n",
       "4  39701.585         127.7               6.920                7.070   \n",
       "\n",
       "   Director_rating  Producer_rating  Critic_rating  Trailer_views  Time_taken  \\\n",
       "0            7.910            7.995           7.94         527367      109.60   \n",
       "1            7.440            7.470           7.44         494055      146.64   \n",
       "2            7.495            7.515           7.44         547051      147.88   \n",
       "3            6.920            7.020           8.26         516279      185.36   \n",
       "4            6.815            7.070           8.26         531448      176.48   \n",
       "\n",
       "   Twitter_hastags     Genre  Avg_age_actors  Num_multiplex 3D_available  \n",
       "0          223.840  Thriller              23            494          YES  \n",
       "1          243.456     Drama              42            462           NO  \n",
       "2         2022.400    Comedy              38            458           NO  \n",
       "3          225.344     Drama              45            472          YES  \n",
       "4          225.792     Drama              55            395           NO  "
      ]
     },
     "execution_count": 19,
     "metadata": {},
     "output_type": "execute_result"
    }
   ],
   "source": [
    "df.head()"
   ]
  },
  {
   "cell_type": "markdown",
   "metadata": {},
   "source": [
    "#### *Treating the outliers*"
   ]
  },
  {
   "cell_type": "code",
   "execution_count": 20,
   "metadata": {},
   "outputs": [],
   "source": [
    "uv1 = np.percentile( df.Twitter_hastags,[99])[0]"
   ]
  },
  {
   "cell_type": "code",
   "execution_count": 21,
   "metadata": {},
   "outputs": [
    {
     "data": {
      "text/plain": [
       "308.0"
      ]
     },
     "execution_count": 21,
     "metadata": {},
     "output_type": "execute_result"
    }
   ],
   "source": [
    "uv1"
   ]
  },
  {
   "cell_type": "code",
   "execution_count": 22,
   "metadata": {},
   "outputs": [
    {
     "data": {
      "text/html": [
       "<div>\n",
       "<style scoped>\n",
       "    .dataframe tbody tr th:only-of-type {\n",
       "        vertical-align: middle;\n",
       "    }\n",
       "\n",
       "    .dataframe tbody tr th {\n",
       "        vertical-align: top;\n",
       "    }\n",
       "\n",
       "    .dataframe thead th {\n",
       "        text-align: right;\n",
       "    }\n",
       "</style>\n",
       "<table border=\"1\" class=\"dataframe\">\n",
       "  <thead>\n",
       "    <tr style=\"text-align: right;\">\n",
       "      <th></th>\n",
       "      <th>Collection</th>\n",
       "      <th>Marketin_expense</th>\n",
       "      <th>Production_expense</th>\n",
       "      <th>Multiplex_coverage</th>\n",
       "      <th>Budget</th>\n",
       "      <th>Movie_length</th>\n",
       "      <th>Lead_ Actor_Rating</th>\n",
       "      <th>Lead_Actress_rating</th>\n",
       "      <th>Director_rating</th>\n",
       "      <th>Producer_rating</th>\n",
       "      <th>Critic_rating</th>\n",
       "      <th>Trailer_views</th>\n",
       "      <th>Time_taken</th>\n",
       "      <th>Twitter_hastags</th>\n",
       "      <th>Genre</th>\n",
       "      <th>Avg_age_actors</th>\n",
       "      <th>Num_multiplex</th>\n",
       "      <th>3D_available</th>\n",
       "    </tr>\n",
       "  </thead>\n",
       "  <tbody>\n",
       "    <tr>\n",
       "      <th>2</th>\n",
       "      <td>69400</td>\n",
       "      <td>3.070181</td>\n",
       "      <td>69.14</td>\n",
       "      <td>0.531</td>\n",
       "      <td>39912.675</td>\n",
       "      <td>134.6</td>\n",
       "      <td>7.485</td>\n",
       "      <td>7.57</td>\n",
       "      <td>7.495</td>\n",
       "      <td>7.515</td>\n",
       "      <td>7.44</td>\n",
       "      <td>547051</td>\n",
       "      <td>147.88</td>\n",
       "      <td>2022.4</td>\n",
       "      <td>Comedy</td>\n",
       "      <td>38</td>\n",
       "      <td>458</td>\n",
       "      <td>NO</td>\n",
       "    </tr>\n",
       "  </tbody>\n",
       "</table>\n",
       "</div>"
      ],
      "text/plain": [
       "   Collection  Marketin_expense  Production_expense  Multiplex_coverage  \\\n",
       "2       69400          3.070181               69.14               0.531   \n",
       "\n",
       "      Budget  Movie_length  Lead_ Actor_Rating  Lead_Actress_rating  \\\n",
       "2  39912.675         134.6               7.485                 7.57   \n",
       "\n",
       "   Director_rating  Producer_rating  Critic_rating  Trailer_views  Time_taken  \\\n",
       "2            7.495            7.515           7.44         547051      147.88   \n",
       "\n",
       "   Twitter_hastags   Genre  Avg_age_actors  Num_multiplex 3D_available  \n",
       "2           2022.4  Comedy              38            458           NO  "
      ]
     },
     "execution_count": 22,
     "metadata": {},
     "output_type": "execute_result"
    }
   ],
   "source": [
    "df[df.Twitter_hastags > uv1]"
   ]
  },
  {
   "cell_type": "code",
   "execution_count": 23,
   "metadata": {},
   "outputs": [],
   "source": [
    "df['Twitter_hastags'][df.Twitter_hastags > 3*uv1] = 3*uv1"
   ]
  },
  {
   "cell_type": "code",
   "execution_count": 24,
   "metadata": {},
   "outputs": [],
   "source": [
    "lv = np.percentile(df.Avg_age_actors, [1])[0]"
   ]
  },
  {
   "cell_type": "code",
   "execution_count": 25,
   "metadata": {},
   "outputs": [
    {
     "data": {
      "text/plain": [
       "20.0"
      ]
     },
     "execution_count": 25,
     "metadata": {},
     "output_type": "execute_result"
    }
   ],
   "source": [
    "lv"
   ]
  },
  {
   "cell_type": "code",
   "execution_count": 26,
   "metadata": {},
   "outputs": [
    {
     "data": {
      "text/html": [
       "<div>\n",
       "<style scoped>\n",
       "    .dataframe tbody tr th:only-of-type {\n",
       "        vertical-align: middle;\n",
       "    }\n",
       "\n",
       "    .dataframe tbody tr th {\n",
       "        vertical-align: top;\n",
       "    }\n",
       "\n",
       "    .dataframe thead th {\n",
       "        text-align: right;\n",
       "    }\n",
       "</style>\n",
       "<table border=\"1\" class=\"dataframe\">\n",
       "  <thead>\n",
       "    <tr style=\"text-align: right;\">\n",
       "      <th></th>\n",
       "      <th>Collection</th>\n",
       "      <th>Marketin_expense</th>\n",
       "      <th>Production_expense</th>\n",
       "      <th>Multiplex_coverage</th>\n",
       "      <th>Budget</th>\n",
       "      <th>Movie_length</th>\n",
       "      <th>Lead_ Actor_Rating</th>\n",
       "      <th>Lead_Actress_rating</th>\n",
       "      <th>Director_rating</th>\n",
       "      <th>Producer_rating</th>\n",
       "      <th>Critic_rating</th>\n",
       "      <th>Trailer_views</th>\n",
       "      <th>Time_taken</th>\n",
       "      <th>Twitter_hastags</th>\n",
       "      <th>Genre</th>\n",
       "      <th>Avg_age_actors</th>\n",
       "      <th>Num_multiplex</th>\n",
       "      <th>3D_available</th>\n",
       "    </tr>\n",
       "  </thead>\n",
       "  <tbody>\n",
       "    <tr>\n",
       "      <th>213</th>\n",
       "      <td>56200</td>\n",
       "      <td>3.170122</td>\n",
       "      <td>76.18</td>\n",
       "      <td>0.511</td>\n",
       "      <td>35413.125</td>\n",
       "      <td>105.8</td>\n",
       "      <td>7.945</td>\n",
       "      <td>8.04</td>\n",
       "      <td>7.91</td>\n",
       "      <td>8.215</td>\n",
       "      <td>7.28</td>\n",
       "      <td>504226</td>\n",
       "      <td>151.24</td>\n",
       "      <td>204.496</td>\n",
       "      <td>Comedy</td>\n",
       "      <td>3</td>\n",
       "      <td>441</td>\n",
       "      <td>YES</td>\n",
       "    </tr>\n",
       "  </tbody>\n",
       "</table>\n",
       "</div>"
      ],
      "text/plain": [
       "     Collection  Marketin_expense  Production_expense  Multiplex_coverage  \\\n",
       "213       56200          3.170122               76.18               0.511   \n",
       "\n",
       "        Budget  Movie_length  Lead_ Actor_Rating  Lead_Actress_rating  \\\n",
       "213  35413.125         105.8               7.945                 8.04   \n",
       "\n",
       "     Director_rating  Producer_rating  Critic_rating  Trailer_views  \\\n",
       "213             7.91            8.215           7.28         504226   \n",
       "\n",
       "     Time_taken  Twitter_hastags   Genre  Avg_age_actors  Num_multiplex  \\\n",
       "213      151.24          204.496  Comedy               3            441   \n",
       "\n",
       "    3D_available  \n",
       "213          YES  "
      ]
     },
     "execution_count": 26,
     "metadata": {},
     "output_type": "execute_result"
    }
   ],
   "source": [
    "df[df.Avg_age_actors < lv]"
   ]
  },
  {
   "cell_type": "code",
   "execution_count": 27,
   "metadata": {},
   "outputs": [],
   "source": [
    "df['Avg_age_actors'][df.Avg_age_actors < 0.3*lv] = 0.3*lv"
   ]
  },
  {
   "cell_type": "code",
   "execution_count": 28,
   "metadata": {},
   "outputs": [],
   "source": [
    "lv1 = np.percentile(df.Time_taken, [1])[0]"
   ]
  },
  {
   "cell_type": "code",
   "execution_count": 29,
   "metadata": {},
   "outputs": [
    {
     "data": {
      "text/plain": [
       "108.1052"
      ]
     },
     "execution_count": 29,
     "metadata": {},
     "output_type": "execute_result"
    }
   ],
   "source": [
    "lv1"
   ]
  },
  {
   "cell_type": "code",
   "execution_count": 30,
   "metadata": {},
   "outputs": [
    {
     "data": {
      "text/html": [
       "<div>\n",
       "<style scoped>\n",
       "    .dataframe tbody tr th:only-of-type {\n",
       "        vertical-align: middle;\n",
       "    }\n",
       "\n",
       "    .dataframe tbody tr th {\n",
       "        vertical-align: top;\n",
       "    }\n",
       "\n",
       "    .dataframe thead th {\n",
       "        text-align: right;\n",
       "    }\n",
       "</style>\n",
       "<table border=\"1\" class=\"dataframe\">\n",
       "  <thead>\n",
       "    <tr style=\"text-align: right;\">\n",
       "      <th></th>\n",
       "      <th>Collection</th>\n",
       "      <th>Marketin_expense</th>\n",
       "      <th>Production_expense</th>\n",
       "      <th>Multiplex_coverage</th>\n",
       "      <th>Budget</th>\n",
       "      <th>Movie_length</th>\n",
       "      <th>Lead_ Actor_Rating</th>\n",
       "      <th>Lead_Actress_rating</th>\n",
       "      <th>Director_rating</th>\n",
       "      <th>Producer_rating</th>\n",
       "      <th>Critic_rating</th>\n",
       "      <th>Trailer_views</th>\n",
       "      <th>Time_taken</th>\n",
       "      <th>Twitter_hastags</th>\n",
       "      <th>Genre</th>\n",
       "      <th>Avg_age_actors</th>\n",
       "      <th>Num_multiplex</th>\n",
       "      <th>3D_available</th>\n",
       "    </tr>\n",
       "  </thead>\n",
       "  <tbody>\n",
       "    <tr>\n",
       "      <th>47</th>\n",
       "      <td>33200</td>\n",
       "      <td>3.242022</td>\n",
       "      <td>68.82</td>\n",
       "      <td>0.552</td>\n",
       "      <td>33496.650</td>\n",
       "      <td>159.0</td>\n",
       "      <td>7.085</td>\n",
       "      <td>7.180</td>\n",
       "      <td>7.125</td>\n",
       "      <td>7.230</td>\n",
       "      <td>7.42</td>\n",
       "      <td>374797</td>\n",
       "      <td>106.64</td>\n",
       "      <td>242.656</td>\n",
       "      <td>Thriller</td>\n",
       "      <td>44</td>\n",
       "      <td>526</td>\n",
       "      <td>YES</td>\n",
       "    </tr>\n",
       "    <tr>\n",
       "      <th>50</th>\n",
       "      <td>39400</td>\n",
       "      <td>3.125646</td>\n",
       "      <td>66.28</td>\n",
       "      <td>0.561</td>\n",
       "      <td>33124.465</td>\n",
       "      <td>119.2</td>\n",
       "      <td>6.460</td>\n",
       "      <td>6.725</td>\n",
       "      <td>6.500</td>\n",
       "      <td>6.685</td>\n",
       "      <td>7.64</td>\n",
       "      <td>442225</td>\n",
       "      <td>0.00</td>\n",
       "      <td>223.152</td>\n",
       "      <td>Thriller</td>\n",
       "      <td>21</td>\n",
       "      <td>404</td>\n",
       "      <td>YES</td>\n",
       "    </tr>\n",
       "    <tr>\n",
       "      <th>112</th>\n",
       "      <td>37600</td>\n",
       "      <td>3.155544</td>\n",
       "      <td>75.02</td>\n",
       "      <td>0.453</td>\n",
       "      <td>32846.715</td>\n",
       "      <td>166.4</td>\n",
       "      <td>8.725</td>\n",
       "      <td>8.885</td>\n",
       "      <td>8.720</td>\n",
       "      <td>8.965</td>\n",
       "      <td>7.44</td>\n",
       "      <td>394329</td>\n",
       "      <td>0.00</td>\n",
       "      <td>303.008</td>\n",
       "      <td>Thriller</td>\n",
       "      <td>35</td>\n",
       "      <td>577</td>\n",
       "      <td>YES</td>\n",
       "    </tr>\n",
       "    <tr>\n",
       "      <th>142</th>\n",
       "      <td>26800</td>\n",
       "      <td>4.470736</td>\n",
       "      <td>94.16</td>\n",
       "      <td>0.129</td>\n",
       "      <td>30013.665</td>\n",
       "      <td>173.5</td>\n",
       "      <td>9.330</td>\n",
       "      <td>9.480</td>\n",
       "      <td>9.180</td>\n",
       "      <td>9.365</td>\n",
       "      <td>9.06</td>\n",
       "      <td>329378</td>\n",
       "      <td>105.36</td>\n",
       "      <td>262.144</td>\n",
       "      <td>Thriller</td>\n",
       "      <td>42</td>\n",
       "      <td>807</td>\n",
       "      <td>YES</td>\n",
       "    </tr>\n",
       "  </tbody>\n",
       "</table>\n",
       "</div>"
      ],
      "text/plain": [
       "     Collection  Marketin_expense  Production_expense  Multiplex_coverage  \\\n",
       "47        33200          3.242022               68.82               0.552   \n",
       "50        39400          3.125646               66.28               0.561   \n",
       "112       37600          3.155544               75.02               0.453   \n",
       "142       26800          4.470736               94.16               0.129   \n",
       "\n",
       "        Budget  Movie_length  Lead_ Actor_Rating  Lead_Actress_rating  \\\n",
       "47   33496.650         159.0               7.085                7.180   \n",
       "50   33124.465         119.2               6.460                6.725   \n",
       "112  32846.715         166.4               8.725                8.885   \n",
       "142  30013.665         173.5               9.330                9.480   \n",
       "\n",
       "     Director_rating  Producer_rating  Critic_rating  Trailer_views  \\\n",
       "47             7.125            7.230           7.42         374797   \n",
       "50             6.500            6.685           7.64         442225   \n",
       "112            8.720            8.965           7.44         394329   \n",
       "142            9.180            9.365           9.06         329378   \n",
       "\n",
       "     Time_taken  Twitter_hastags     Genre  Avg_age_actors  Num_multiplex  \\\n",
       "47       106.64          242.656  Thriller              44            526   \n",
       "50         0.00          223.152  Thriller              21            404   \n",
       "112        0.00          303.008  Thriller              35            577   \n",
       "142      105.36          262.144  Thriller              42            807   \n",
       "\n",
       "    3D_available  \n",
       "47           YES  \n",
       "50           YES  \n",
       "112          YES  \n",
       "142          YES  "
      ]
     },
     "execution_count": 30,
     "metadata": {},
     "output_type": "execute_result"
    }
   ],
   "source": [
    "df[df.Time_taken < lv1]"
   ]
  },
  {
   "cell_type": "code",
   "execution_count": 31,
   "metadata": {},
   "outputs": [],
   "source": [
    "df['Time_taken'][df.Time_taken < 0.3*lv1] = 0.3*lv1"
   ]
  },
  {
   "cell_type": "code",
   "execution_count": 32,
   "metadata": {},
   "outputs": [
    {
     "data": {
      "text/html": [
       "<div>\n",
       "<style scoped>\n",
       "    .dataframe tbody tr th:only-of-type {\n",
       "        vertical-align: middle;\n",
       "    }\n",
       "\n",
       "    .dataframe tbody tr th {\n",
       "        vertical-align: top;\n",
       "    }\n",
       "\n",
       "    .dataframe thead th {\n",
       "        text-align: right;\n",
       "    }\n",
       "</style>\n",
       "<table border=\"1\" class=\"dataframe\">\n",
       "  <thead>\n",
       "    <tr style=\"text-align: right;\">\n",
       "      <th></th>\n",
       "      <th>Collection</th>\n",
       "      <th>Marketin_expense</th>\n",
       "      <th>Production_expense</th>\n",
       "      <th>Multiplex_coverage</th>\n",
       "      <th>Budget</th>\n",
       "      <th>Movie_length</th>\n",
       "      <th>Lead_ Actor_Rating</th>\n",
       "      <th>Lead_Actress_rating</th>\n",
       "      <th>Director_rating</th>\n",
       "      <th>Producer_rating</th>\n",
       "      <th>Critic_rating</th>\n",
       "      <th>Trailer_views</th>\n",
       "      <th>Time_taken</th>\n",
       "      <th>Twitter_hastags</th>\n",
       "      <th>Avg_age_actors</th>\n",
       "      <th>Num_multiplex</th>\n",
       "    </tr>\n",
       "  </thead>\n",
       "  <tbody>\n",
       "    <tr>\n",
       "      <th>count</th>\n",
       "      <td>400.000000</td>\n",
       "      <td>400.000000</td>\n",
       "      <td>400.000000</td>\n",
       "      <td>400.000000</td>\n",
       "      <td>400.000000</td>\n",
       "      <td>400.000000</td>\n",
       "      <td>400.000000</td>\n",
       "      <td>400.000000</td>\n",
       "      <td>400.000000</td>\n",
       "      <td>400.000000</td>\n",
       "      <td>400.000000</td>\n",
       "      <td>400.000000</td>\n",
       "      <td>400.000000</td>\n",
       "      <td>400.000000</td>\n",
       "      <td>400.00000</td>\n",
       "      <td>400.000000</td>\n",
       "    </tr>\n",
       "    <tr>\n",
       "      <th>mean</th>\n",
       "      <td>48646.500000</td>\n",
       "      <td>3.530168</td>\n",
       "      <td>73.832700</td>\n",
       "      <td>0.469881</td>\n",
       "      <td>35197.771537</td>\n",
       "      <td>137.581750</td>\n",
       "      <td>7.810275</td>\n",
       "      <td>7.982813</td>\n",
       "      <td>7.813375</td>\n",
       "      <td>7.993888</td>\n",
       "      <td>7.894100</td>\n",
       "      <td>463223.567500</td>\n",
       "      <td>157.952158</td>\n",
       "      <td>255.337840</td>\n",
       "      <td>38.72250</td>\n",
       "      <td>523.650000</td>\n",
       "    </tr>\n",
       "    <tr>\n",
       "      <th>std</th>\n",
       "      <td>18308.499136</td>\n",
       "      <td>0.744796</td>\n",
       "      <td>13.023426</td>\n",
       "      <td>0.113920</td>\n",
       "      <td>4075.766926</td>\n",
       "      <td>28.990673</td>\n",
       "      <td>1.088694</td>\n",
       "      <td>1.089923</td>\n",
       "      <td>1.093581</td>\n",
       "      <td>1.088619</td>\n",
       "      <td>0.672413</td>\n",
       "      <td>65225.567649</td>\n",
       "      <td>30.661822</td>\n",
       "      <td>47.492326</td>\n",
       "      <td>12.63069</td>\n",
       "      <td>103.661283</td>\n",
       "    </tr>\n",
       "    <tr>\n",
       "      <th>min</th>\n",
       "      <td>10000.000000</td>\n",
       "      <td>3.050523</td>\n",
       "      <td>55.920000</td>\n",
       "      <td>0.129000</td>\n",
       "      <td>19781.355000</td>\n",
       "      <td>76.400000</td>\n",
       "      <td>3.840000</td>\n",
       "      <td>4.035000</td>\n",
       "      <td>3.840000</td>\n",
       "      <td>4.030000</td>\n",
       "      <td>6.600000</td>\n",
       "      <td>215432.000000</td>\n",
       "      <td>32.431560</td>\n",
       "      <td>201.632000</td>\n",
       "      <td>6.00000</td>\n",
       "      <td>333.000000</td>\n",
       "    </tr>\n",
       "    <tr>\n",
       "      <th>25%</th>\n",
       "      <td>37800.000000</td>\n",
       "      <td>3.105570</td>\n",
       "      <td>63.250000</td>\n",
       "      <td>0.419000</td>\n",
       "      <td>32721.727500</td>\n",
       "      <td>111.175000</td>\n",
       "      <td>7.092500</td>\n",
       "      <td>7.252500</td>\n",
       "      <td>7.123750</td>\n",
       "      <td>7.273750</td>\n",
       "      <td>7.320000</td>\n",
       "      <td>436793.500000</td>\n",
       "      <td>133.550000</td>\n",
       "      <td>223.804000</td>\n",
       "      <td>26.00000</td>\n",
       "      <td>451.000000</td>\n",
       "    </tr>\n",
       "    <tr>\n",
       "      <th>50%</th>\n",
       "      <td>45000.000000</td>\n",
       "      <td>3.186959</td>\n",
       "      <td>69.030000</td>\n",
       "      <td>0.494500</td>\n",
       "      <td>34593.762500</td>\n",
       "      <td>142.250000</td>\n",
       "      <td>7.995000</td>\n",
       "      <td>8.157500</td>\n",
       "      <td>7.990000</td>\n",
       "      <td>8.140000</td>\n",
       "      <td>7.960000</td>\n",
       "      <td>474930.000000</td>\n",
       "      <td>158.760000</td>\n",
       "      <td>246.680000</td>\n",
       "      <td>39.00000</td>\n",
       "      <td>510.000000</td>\n",
       "    </tr>\n",
       "    <tr>\n",
       "      <th>75%</th>\n",
       "      <td>56500.000000</td>\n",
       "      <td>3.573403</td>\n",
       "      <td>82.840000</td>\n",
       "      <td>0.558000</td>\n",
       "      <td>37142.118750</td>\n",
       "      <td>165.400000</td>\n",
       "      <td>8.725000</td>\n",
       "      <td>8.912500</td>\n",
       "      <td>8.740000</td>\n",
       "      <td>8.931250</td>\n",
       "      <td>8.400000</td>\n",
       "      <td>507690.500000</td>\n",
       "      <td>182.890000</td>\n",
       "      <td>283.444000</td>\n",
       "      <td>50.00000</td>\n",
       "      <td>571.000000</td>\n",
       "    </tr>\n",
       "    <tr>\n",
       "      <th>max</th>\n",
       "      <td>100000.000000</td>\n",
       "      <td>7.495833</td>\n",
       "      <td>106.300000</td>\n",
       "      <td>0.615000</td>\n",
       "      <td>48772.900000</td>\n",
       "      <td>173.500000</td>\n",
       "      <td>9.435000</td>\n",
       "      <td>9.540000</td>\n",
       "      <td>9.425000</td>\n",
       "      <td>9.635000</td>\n",
       "      <td>9.400000</td>\n",
       "      <td>567784.000000</td>\n",
       "      <td>217.520000</td>\n",
       "      <td>924.000000</td>\n",
       "      <td>60.00000</td>\n",
       "      <td>868.000000</td>\n",
       "    </tr>\n",
       "  </tbody>\n",
       "</table>\n",
       "</div>"
      ],
      "text/plain": [
       "          Collection  Marketin_expense  Production_expense  \\\n",
       "count     400.000000        400.000000          400.000000   \n",
       "mean    48646.500000          3.530168           73.832700   \n",
       "std     18308.499136          0.744796           13.023426   \n",
       "min     10000.000000          3.050523           55.920000   \n",
       "25%     37800.000000          3.105570           63.250000   \n",
       "50%     45000.000000          3.186959           69.030000   \n",
       "75%     56500.000000          3.573403           82.840000   \n",
       "max    100000.000000          7.495833          106.300000   \n",
       "\n",
       "       Multiplex_coverage        Budget  Movie_length  Lead_ Actor_Rating  \\\n",
       "count          400.000000    400.000000    400.000000          400.000000   \n",
       "mean             0.469881  35197.771537    137.581750            7.810275   \n",
       "std              0.113920   4075.766926     28.990673            1.088694   \n",
       "min              0.129000  19781.355000     76.400000            3.840000   \n",
       "25%              0.419000  32721.727500    111.175000            7.092500   \n",
       "50%              0.494500  34593.762500    142.250000            7.995000   \n",
       "75%              0.558000  37142.118750    165.400000            8.725000   \n",
       "max              0.615000  48772.900000    173.500000            9.435000   \n",
       "\n",
       "       Lead_Actress_rating  Director_rating  Producer_rating  Critic_rating  \\\n",
       "count           400.000000       400.000000       400.000000     400.000000   \n",
       "mean              7.982813         7.813375         7.993888       7.894100   \n",
       "std               1.089923         1.093581         1.088619       0.672413   \n",
       "min               4.035000         3.840000         4.030000       6.600000   \n",
       "25%               7.252500         7.123750         7.273750       7.320000   \n",
       "50%               8.157500         7.990000         8.140000       7.960000   \n",
       "75%               8.912500         8.740000         8.931250       8.400000   \n",
       "max               9.540000         9.425000         9.635000       9.400000   \n",
       "\n",
       "       Trailer_views  Time_taken  Twitter_hastags  Avg_age_actors  \\\n",
       "count     400.000000  400.000000       400.000000       400.00000   \n",
       "mean   463223.567500  157.952158       255.337840        38.72250   \n",
       "std     65225.567649   30.661822        47.492326        12.63069   \n",
       "min    215432.000000   32.431560       201.632000         6.00000   \n",
       "25%    436793.500000  133.550000       223.804000        26.00000   \n",
       "50%    474930.000000  158.760000       246.680000        39.00000   \n",
       "75%    507690.500000  182.890000       283.444000        50.00000   \n",
       "max    567784.000000  217.520000       924.000000        60.00000   \n",
       "\n",
       "       Num_multiplex  \n",
       "count     400.000000  \n",
       "mean      523.650000  \n",
       "std       103.661283  \n",
       "min       333.000000  \n",
       "25%       451.000000  \n",
       "50%       510.000000  \n",
       "75%       571.000000  \n",
       "max       868.000000  "
      ]
     },
     "execution_count": 32,
     "metadata": {},
     "output_type": "execute_result"
    }
   ],
   "source": [
    "df.describe()"
   ]
  },
  {
   "cell_type": "markdown",
   "metadata": {},
   "source": [
    "#### *Aggregating columns and removing the unnecessary ones*"
   ]
  },
  {
   "cell_type": "code",
   "execution_count": 33,
   "metadata": {},
   "outputs": [],
   "source": [
    "df['Rating'] = (df['Lead_ Actor_Rating'] + df.Lead_Actress_rating + df.Director_rating + df.Producer_rating + df.Critic_rating)/5"
   ]
  },
  {
   "cell_type": "code",
   "execution_count": 34,
   "metadata": {},
   "outputs": [
    {
     "data": {
      "text/html": [
       "<div>\n",
       "<style scoped>\n",
       "    .dataframe tbody tr th:only-of-type {\n",
       "        vertical-align: middle;\n",
       "    }\n",
       "\n",
       "    .dataframe tbody tr th {\n",
       "        vertical-align: top;\n",
       "    }\n",
       "\n",
       "    .dataframe thead th {\n",
       "        text-align: right;\n",
       "    }\n",
       "</style>\n",
       "<table border=\"1\" class=\"dataframe\">\n",
       "  <thead>\n",
       "    <tr style=\"text-align: right;\">\n",
       "      <th></th>\n",
       "      <th>Collection</th>\n",
       "      <th>Marketin_expense</th>\n",
       "      <th>Production_expense</th>\n",
       "      <th>Multiplex_coverage</th>\n",
       "      <th>Budget</th>\n",
       "      <th>Movie_length</th>\n",
       "      <th>Lead_ Actor_Rating</th>\n",
       "      <th>Lead_Actress_rating</th>\n",
       "      <th>Director_rating</th>\n",
       "      <th>Producer_rating</th>\n",
       "      <th>Critic_rating</th>\n",
       "      <th>Trailer_views</th>\n",
       "      <th>Time_taken</th>\n",
       "      <th>Twitter_hastags</th>\n",
       "      <th>Genre</th>\n",
       "      <th>Avg_age_actors</th>\n",
       "      <th>Num_multiplex</th>\n",
       "      <th>3D_available</th>\n",
       "      <th>Rating</th>\n",
       "    </tr>\n",
       "  </thead>\n",
       "  <tbody>\n",
       "    <tr>\n",
       "      <th>0</th>\n",
       "      <td>48000</td>\n",
       "      <td>3.050523</td>\n",
       "      <td>59.62</td>\n",
       "      <td>0.462</td>\n",
       "      <td>36524.125</td>\n",
       "      <td>138.7</td>\n",
       "      <td>7.825</td>\n",
       "      <td>8.095</td>\n",
       "      <td>7.910</td>\n",
       "      <td>7.995</td>\n",
       "      <td>7.94</td>\n",
       "      <td>527367</td>\n",
       "      <td>109.60</td>\n",
       "      <td>223.840</td>\n",
       "      <td>Thriller</td>\n",
       "      <td>23</td>\n",
       "      <td>494</td>\n",
       "      <td>YES</td>\n",
       "      <td>7.953</td>\n",
       "    </tr>\n",
       "    <tr>\n",
       "      <th>1</th>\n",
       "      <td>43200</td>\n",
       "      <td>3.070199</td>\n",
       "      <td>69.14</td>\n",
       "      <td>0.531</td>\n",
       "      <td>35668.655</td>\n",
       "      <td>152.4</td>\n",
       "      <td>7.505</td>\n",
       "      <td>7.650</td>\n",
       "      <td>7.440</td>\n",
       "      <td>7.470</td>\n",
       "      <td>7.44</td>\n",
       "      <td>494055</td>\n",
       "      <td>146.64</td>\n",
       "      <td>243.456</td>\n",
       "      <td>Drama</td>\n",
       "      <td>42</td>\n",
       "      <td>462</td>\n",
       "      <td>NO</td>\n",
       "      <td>7.501</td>\n",
       "    </tr>\n",
       "    <tr>\n",
       "      <th>2</th>\n",
       "      <td>69400</td>\n",
       "      <td>3.070181</td>\n",
       "      <td>69.14</td>\n",
       "      <td>0.531</td>\n",
       "      <td>39912.675</td>\n",
       "      <td>134.6</td>\n",
       "      <td>7.485</td>\n",
       "      <td>7.570</td>\n",
       "      <td>7.495</td>\n",
       "      <td>7.515</td>\n",
       "      <td>7.44</td>\n",
       "      <td>547051</td>\n",
       "      <td>147.88</td>\n",
       "      <td>924.000</td>\n",
       "      <td>Comedy</td>\n",
       "      <td>38</td>\n",
       "      <td>458</td>\n",
       "      <td>NO</td>\n",
       "      <td>7.501</td>\n",
       "    </tr>\n",
       "    <tr>\n",
       "      <th>3</th>\n",
       "      <td>66800</td>\n",
       "      <td>3.074885</td>\n",
       "      <td>59.36</td>\n",
       "      <td>0.542</td>\n",
       "      <td>38873.890</td>\n",
       "      <td>119.3</td>\n",
       "      <td>6.895</td>\n",
       "      <td>7.035</td>\n",
       "      <td>6.920</td>\n",
       "      <td>7.020</td>\n",
       "      <td>8.26</td>\n",
       "      <td>516279</td>\n",
       "      <td>185.36</td>\n",
       "      <td>225.344</td>\n",
       "      <td>Drama</td>\n",
       "      <td>45</td>\n",
       "      <td>472</td>\n",
       "      <td>YES</td>\n",
       "      <td>7.226</td>\n",
       "    </tr>\n",
       "    <tr>\n",
       "      <th>4</th>\n",
       "      <td>72400</td>\n",
       "      <td>3.108212</td>\n",
       "      <td>59.36</td>\n",
       "      <td>0.542</td>\n",
       "      <td>39701.585</td>\n",
       "      <td>127.7</td>\n",
       "      <td>6.920</td>\n",
       "      <td>7.070</td>\n",
       "      <td>6.815</td>\n",
       "      <td>7.070</td>\n",
       "      <td>8.26</td>\n",
       "      <td>531448</td>\n",
       "      <td>176.48</td>\n",
       "      <td>225.792</td>\n",
       "      <td>Drama</td>\n",
       "      <td>55</td>\n",
       "      <td>395</td>\n",
       "      <td>NO</td>\n",
       "      <td>7.227</td>\n",
       "    </tr>\n",
       "  </tbody>\n",
       "</table>\n",
       "</div>"
      ],
      "text/plain": [
       "   Collection  Marketin_expense  Production_expense  Multiplex_coverage  \\\n",
       "0       48000          3.050523               59.62               0.462   \n",
       "1       43200          3.070199               69.14               0.531   \n",
       "2       69400          3.070181               69.14               0.531   \n",
       "3       66800          3.074885               59.36               0.542   \n",
       "4       72400          3.108212               59.36               0.542   \n",
       "\n",
       "      Budget  Movie_length  Lead_ Actor_Rating  Lead_Actress_rating  \\\n",
       "0  36524.125         138.7               7.825                8.095   \n",
       "1  35668.655         152.4               7.505                7.650   \n",
       "2  39912.675         134.6               7.485                7.570   \n",
       "3  38873.890         119.3               6.895                7.035   \n",
       "4  39701.585         127.7               6.920                7.070   \n",
       "\n",
       "   Director_rating  Producer_rating  Critic_rating  Trailer_views  Time_taken  \\\n",
       "0            7.910            7.995           7.94         527367      109.60   \n",
       "1            7.440            7.470           7.44         494055      146.64   \n",
       "2            7.495            7.515           7.44         547051      147.88   \n",
       "3            6.920            7.020           8.26         516279      185.36   \n",
       "4            6.815            7.070           8.26         531448      176.48   \n",
       "\n",
       "   Twitter_hastags     Genre  Avg_age_actors  Num_multiplex 3D_available  \\\n",
       "0          223.840  Thriller              23            494          YES   \n",
       "1          243.456     Drama              42            462           NO   \n",
       "2          924.000    Comedy              38            458           NO   \n",
       "3          225.344     Drama              45            472          YES   \n",
       "4          225.792     Drama              55            395           NO   \n",
       "\n",
       "   Rating  \n",
       "0   7.953  \n",
       "1   7.501  \n",
       "2   7.501  \n",
       "3   7.226  \n",
       "4   7.227  "
      ]
     },
     "execution_count": 34,
     "metadata": {},
     "output_type": "execute_result"
    }
   ],
   "source": [
    "df.head()"
   ]
  },
  {
   "cell_type": "code",
   "execution_count": 35,
   "metadata": {},
   "outputs": [],
   "source": [
    "del df['Lead_ Actor_Rating']"
   ]
  },
  {
   "cell_type": "code",
   "execution_count": 36,
   "metadata": {},
   "outputs": [],
   "source": [
    "del df['Lead_Actress_rating']"
   ]
  },
  {
   "cell_type": "code",
   "execution_count": 37,
   "metadata": {},
   "outputs": [],
   "source": [
    "del df['Director_rating']"
   ]
  },
  {
   "cell_type": "code",
   "execution_count": 38,
   "metadata": {},
   "outputs": [],
   "source": [
    "del df['Producer_rating']"
   ]
  },
  {
   "cell_type": "code",
   "execution_count": 39,
   "metadata": {},
   "outputs": [],
   "source": [
    "del df['Critic_rating']"
   ]
  },
  {
   "cell_type": "code",
   "execution_count": 40,
   "metadata": {},
   "outputs": [
    {
     "data": {
      "text/html": [
       "<div>\n",
       "<style scoped>\n",
       "    .dataframe tbody tr th:only-of-type {\n",
       "        vertical-align: middle;\n",
       "    }\n",
       "\n",
       "    .dataframe tbody tr th {\n",
       "        vertical-align: top;\n",
       "    }\n",
       "\n",
       "    .dataframe thead th {\n",
       "        text-align: right;\n",
       "    }\n",
       "</style>\n",
       "<table border=\"1\" class=\"dataframe\">\n",
       "  <thead>\n",
       "    <tr style=\"text-align: right;\">\n",
       "      <th></th>\n",
       "      <th>Collection</th>\n",
       "      <th>Marketin_expense</th>\n",
       "      <th>Production_expense</th>\n",
       "      <th>Multiplex_coverage</th>\n",
       "      <th>Budget</th>\n",
       "      <th>Movie_length</th>\n",
       "      <th>Trailer_views</th>\n",
       "      <th>Time_taken</th>\n",
       "      <th>Twitter_hastags</th>\n",
       "      <th>Genre</th>\n",
       "      <th>Avg_age_actors</th>\n",
       "      <th>Num_multiplex</th>\n",
       "      <th>3D_available</th>\n",
       "      <th>Rating</th>\n",
       "    </tr>\n",
       "  </thead>\n",
       "  <tbody>\n",
       "    <tr>\n",
       "      <th>0</th>\n",
       "      <td>48000</td>\n",
       "      <td>3.050523</td>\n",
       "      <td>59.62</td>\n",
       "      <td>0.462</td>\n",
       "      <td>36524.125</td>\n",
       "      <td>138.7</td>\n",
       "      <td>527367</td>\n",
       "      <td>109.60</td>\n",
       "      <td>223.840</td>\n",
       "      <td>Thriller</td>\n",
       "      <td>23</td>\n",
       "      <td>494</td>\n",
       "      <td>YES</td>\n",
       "      <td>7.953</td>\n",
       "    </tr>\n",
       "    <tr>\n",
       "      <th>1</th>\n",
       "      <td>43200</td>\n",
       "      <td>3.070199</td>\n",
       "      <td>69.14</td>\n",
       "      <td>0.531</td>\n",
       "      <td>35668.655</td>\n",
       "      <td>152.4</td>\n",
       "      <td>494055</td>\n",
       "      <td>146.64</td>\n",
       "      <td>243.456</td>\n",
       "      <td>Drama</td>\n",
       "      <td>42</td>\n",
       "      <td>462</td>\n",
       "      <td>NO</td>\n",
       "      <td>7.501</td>\n",
       "    </tr>\n",
       "    <tr>\n",
       "      <th>2</th>\n",
       "      <td>69400</td>\n",
       "      <td>3.070181</td>\n",
       "      <td>69.14</td>\n",
       "      <td>0.531</td>\n",
       "      <td>39912.675</td>\n",
       "      <td>134.6</td>\n",
       "      <td>547051</td>\n",
       "      <td>147.88</td>\n",
       "      <td>924.000</td>\n",
       "      <td>Comedy</td>\n",
       "      <td>38</td>\n",
       "      <td>458</td>\n",
       "      <td>NO</td>\n",
       "      <td>7.501</td>\n",
       "    </tr>\n",
       "    <tr>\n",
       "      <th>3</th>\n",
       "      <td>66800</td>\n",
       "      <td>3.074885</td>\n",
       "      <td>59.36</td>\n",
       "      <td>0.542</td>\n",
       "      <td>38873.890</td>\n",
       "      <td>119.3</td>\n",
       "      <td>516279</td>\n",
       "      <td>185.36</td>\n",
       "      <td>225.344</td>\n",
       "      <td>Drama</td>\n",
       "      <td>45</td>\n",
       "      <td>472</td>\n",
       "      <td>YES</td>\n",
       "      <td>7.226</td>\n",
       "    </tr>\n",
       "    <tr>\n",
       "      <th>4</th>\n",
       "      <td>72400</td>\n",
       "      <td>3.108212</td>\n",
       "      <td>59.36</td>\n",
       "      <td>0.542</td>\n",
       "      <td>39701.585</td>\n",
       "      <td>127.7</td>\n",
       "      <td>531448</td>\n",
       "      <td>176.48</td>\n",
       "      <td>225.792</td>\n",
       "      <td>Drama</td>\n",
       "      <td>55</td>\n",
       "      <td>395</td>\n",
       "      <td>NO</td>\n",
       "      <td>7.227</td>\n",
       "    </tr>\n",
       "  </tbody>\n",
       "</table>\n",
       "</div>"
      ],
      "text/plain": [
       "   Collection  Marketin_expense  Production_expense  Multiplex_coverage  \\\n",
       "0       48000          3.050523               59.62               0.462   \n",
       "1       43200          3.070199               69.14               0.531   \n",
       "2       69400          3.070181               69.14               0.531   \n",
       "3       66800          3.074885               59.36               0.542   \n",
       "4       72400          3.108212               59.36               0.542   \n",
       "\n",
       "      Budget  Movie_length  Trailer_views  Time_taken  Twitter_hastags  \\\n",
       "0  36524.125         138.7         527367      109.60          223.840   \n",
       "1  35668.655         152.4         494055      146.64          243.456   \n",
       "2  39912.675         134.6         547051      147.88          924.000   \n",
       "3  38873.890         119.3         516279      185.36          225.344   \n",
       "4  39701.585         127.7         531448      176.48          225.792   \n",
       "\n",
       "      Genre  Avg_age_actors  Num_multiplex 3D_available  Rating  \n",
       "0  Thriller              23            494          YES   7.953  \n",
       "1     Drama              42            462           NO   7.501  \n",
       "2    Comedy              38            458           NO   7.501  \n",
       "3     Drama              45            472          YES   7.226  \n",
       "4     Drama              55            395           NO   7.227  "
      ]
     },
     "execution_count": 40,
     "metadata": {},
     "output_type": "execute_result"
    }
   ],
   "source": [
    "df.head()"
   ]
  },
  {
   "cell_type": "markdown",
   "metadata": {},
   "source": [
    "#### *Creation of dummy variable*"
   ]
  },
  {
   "cell_type": "code",
   "execution_count": 41,
   "metadata": {},
   "outputs": [],
   "source": [
    "# Since categorical variable can't be used in modeling\n",
    "df = pd.get_dummies(df)"
   ]
  },
  {
   "cell_type": "code",
   "execution_count": 42,
   "metadata": {},
   "outputs": [
    {
     "data": {
      "text/html": [
       "<div>\n",
       "<style scoped>\n",
       "    .dataframe tbody tr th:only-of-type {\n",
       "        vertical-align: middle;\n",
       "    }\n",
       "\n",
       "    .dataframe tbody tr th {\n",
       "        vertical-align: top;\n",
       "    }\n",
       "\n",
       "    .dataframe thead th {\n",
       "        text-align: right;\n",
       "    }\n",
       "</style>\n",
       "<table border=\"1\" class=\"dataframe\">\n",
       "  <thead>\n",
       "    <tr style=\"text-align: right;\">\n",
       "      <th></th>\n",
       "      <th>Collection</th>\n",
       "      <th>Marketin_expense</th>\n",
       "      <th>Production_expense</th>\n",
       "      <th>Multiplex_coverage</th>\n",
       "      <th>Budget</th>\n",
       "      <th>Movie_length</th>\n",
       "      <th>Trailer_views</th>\n",
       "      <th>Time_taken</th>\n",
       "      <th>Twitter_hastags</th>\n",
       "      <th>Avg_age_actors</th>\n",
       "      <th>Num_multiplex</th>\n",
       "      <th>Rating</th>\n",
       "      <th>Genre_Action</th>\n",
       "      <th>Genre_Comedy</th>\n",
       "      <th>Genre_Drama</th>\n",
       "      <th>Genre_Thriller</th>\n",
       "      <th>3D_available_NO</th>\n",
       "      <th>3D_available_YES</th>\n",
       "    </tr>\n",
       "  </thead>\n",
       "  <tbody>\n",
       "    <tr>\n",
       "      <th>0</th>\n",
       "      <td>48000</td>\n",
       "      <td>3.050523</td>\n",
       "      <td>59.62</td>\n",
       "      <td>0.462</td>\n",
       "      <td>36524.125</td>\n",
       "      <td>138.7</td>\n",
       "      <td>527367</td>\n",
       "      <td>109.60</td>\n",
       "      <td>223.840</td>\n",
       "      <td>23</td>\n",
       "      <td>494</td>\n",
       "      <td>7.953</td>\n",
       "      <td>0</td>\n",
       "      <td>0</td>\n",
       "      <td>0</td>\n",
       "      <td>1</td>\n",
       "      <td>0</td>\n",
       "      <td>1</td>\n",
       "    </tr>\n",
       "    <tr>\n",
       "      <th>1</th>\n",
       "      <td>43200</td>\n",
       "      <td>3.070199</td>\n",
       "      <td>69.14</td>\n",
       "      <td>0.531</td>\n",
       "      <td>35668.655</td>\n",
       "      <td>152.4</td>\n",
       "      <td>494055</td>\n",
       "      <td>146.64</td>\n",
       "      <td>243.456</td>\n",
       "      <td>42</td>\n",
       "      <td>462</td>\n",
       "      <td>7.501</td>\n",
       "      <td>0</td>\n",
       "      <td>0</td>\n",
       "      <td>1</td>\n",
       "      <td>0</td>\n",
       "      <td>1</td>\n",
       "      <td>0</td>\n",
       "    </tr>\n",
       "    <tr>\n",
       "      <th>2</th>\n",
       "      <td>69400</td>\n",
       "      <td>3.070181</td>\n",
       "      <td>69.14</td>\n",
       "      <td>0.531</td>\n",
       "      <td>39912.675</td>\n",
       "      <td>134.6</td>\n",
       "      <td>547051</td>\n",
       "      <td>147.88</td>\n",
       "      <td>924.000</td>\n",
       "      <td>38</td>\n",
       "      <td>458</td>\n",
       "      <td>7.501</td>\n",
       "      <td>0</td>\n",
       "      <td>1</td>\n",
       "      <td>0</td>\n",
       "      <td>0</td>\n",
       "      <td>1</td>\n",
       "      <td>0</td>\n",
       "    </tr>\n",
       "    <tr>\n",
       "      <th>3</th>\n",
       "      <td>66800</td>\n",
       "      <td>3.074885</td>\n",
       "      <td>59.36</td>\n",
       "      <td>0.542</td>\n",
       "      <td>38873.890</td>\n",
       "      <td>119.3</td>\n",
       "      <td>516279</td>\n",
       "      <td>185.36</td>\n",
       "      <td>225.344</td>\n",
       "      <td>45</td>\n",
       "      <td>472</td>\n",
       "      <td>7.226</td>\n",
       "      <td>0</td>\n",
       "      <td>0</td>\n",
       "      <td>1</td>\n",
       "      <td>0</td>\n",
       "      <td>0</td>\n",
       "      <td>1</td>\n",
       "    </tr>\n",
       "    <tr>\n",
       "      <th>4</th>\n",
       "      <td>72400</td>\n",
       "      <td>3.108212</td>\n",
       "      <td>59.36</td>\n",
       "      <td>0.542</td>\n",
       "      <td>39701.585</td>\n",
       "      <td>127.7</td>\n",
       "      <td>531448</td>\n",
       "      <td>176.48</td>\n",
       "      <td>225.792</td>\n",
       "      <td>55</td>\n",
       "      <td>395</td>\n",
       "      <td>7.227</td>\n",
       "      <td>0</td>\n",
       "      <td>0</td>\n",
       "      <td>1</td>\n",
       "      <td>0</td>\n",
       "      <td>1</td>\n",
       "      <td>0</td>\n",
       "    </tr>\n",
       "  </tbody>\n",
       "</table>\n",
       "</div>"
      ],
      "text/plain": [
       "   Collection  Marketin_expense  Production_expense  Multiplex_coverage  \\\n",
       "0       48000          3.050523               59.62               0.462   \n",
       "1       43200          3.070199               69.14               0.531   \n",
       "2       69400          3.070181               69.14               0.531   \n",
       "3       66800          3.074885               59.36               0.542   \n",
       "4       72400          3.108212               59.36               0.542   \n",
       "\n",
       "      Budget  Movie_length  Trailer_views  Time_taken  Twitter_hastags  \\\n",
       "0  36524.125         138.7         527367      109.60          223.840   \n",
       "1  35668.655         152.4         494055      146.64          243.456   \n",
       "2  39912.675         134.6         547051      147.88          924.000   \n",
       "3  38873.890         119.3         516279      185.36          225.344   \n",
       "4  39701.585         127.7         531448      176.48          225.792   \n",
       "\n",
       "   Avg_age_actors  Num_multiplex  Rating  Genre_Action  Genre_Comedy  \\\n",
       "0              23            494   7.953             0             0   \n",
       "1              42            462   7.501             0             0   \n",
       "2              38            458   7.501             0             1   \n",
       "3              45            472   7.226             0             0   \n",
       "4              55            395   7.227             0             0   \n",
       "\n",
       "   Genre_Drama  Genre_Thriller  3D_available_NO  3D_available_YES  \n",
       "0            0               1                0                 1  \n",
       "1            1               0                1                 0  \n",
       "2            0               0                1                 0  \n",
       "3            1               0                0                 1  \n",
       "4            1               0                1                 0  "
      ]
     },
     "execution_count": 42,
     "metadata": {},
     "output_type": "execute_result"
    }
   ],
   "source": [
    "df.head()"
   ]
  },
  {
   "cell_type": "code",
   "execution_count": 43,
   "metadata": {},
   "outputs": [],
   "source": [
    "del df['3D_available_NO']"
   ]
  },
  {
   "cell_type": "code",
   "execution_count": 44,
   "metadata": {},
   "outputs": [],
   "source": [
    "del df['Genre_Thriller']"
   ]
  },
  {
   "cell_type": "code",
   "execution_count": 45,
   "metadata": {},
   "outputs": [
    {
     "data": {
      "text/html": [
       "<div>\n",
       "<style scoped>\n",
       "    .dataframe tbody tr th:only-of-type {\n",
       "        vertical-align: middle;\n",
       "    }\n",
       "\n",
       "    .dataframe tbody tr th {\n",
       "        vertical-align: top;\n",
       "    }\n",
       "\n",
       "    .dataframe thead th {\n",
       "        text-align: right;\n",
       "    }\n",
       "</style>\n",
       "<table border=\"1\" class=\"dataframe\">\n",
       "  <thead>\n",
       "    <tr style=\"text-align: right;\">\n",
       "      <th></th>\n",
       "      <th>Collection</th>\n",
       "      <th>Marketin_expense</th>\n",
       "      <th>Production_expense</th>\n",
       "      <th>Multiplex_coverage</th>\n",
       "      <th>Budget</th>\n",
       "      <th>Movie_length</th>\n",
       "      <th>Trailer_views</th>\n",
       "      <th>Time_taken</th>\n",
       "      <th>Twitter_hastags</th>\n",
       "      <th>Avg_age_actors</th>\n",
       "      <th>Num_multiplex</th>\n",
       "      <th>Rating</th>\n",
       "      <th>Genre_Action</th>\n",
       "      <th>Genre_Comedy</th>\n",
       "      <th>Genre_Drama</th>\n",
       "      <th>3D_available_YES</th>\n",
       "    </tr>\n",
       "  </thead>\n",
       "  <tbody>\n",
       "    <tr>\n",
       "      <th>0</th>\n",
       "      <td>48000</td>\n",
       "      <td>3.050523</td>\n",
       "      <td>59.62</td>\n",
       "      <td>0.462</td>\n",
       "      <td>36524.125</td>\n",
       "      <td>138.7</td>\n",
       "      <td>527367</td>\n",
       "      <td>109.60</td>\n",
       "      <td>223.840</td>\n",
       "      <td>23</td>\n",
       "      <td>494</td>\n",
       "      <td>7.953</td>\n",
       "      <td>0</td>\n",
       "      <td>0</td>\n",
       "      <td>0</td>\n",
       "      <td>1</td>\n",
       "    </tr>\n",
       "    <tr>\n",
       "      <th>1</th>\n",
       "      <td>43200</td>\n",
       "      <td>3.070199</td>\n",
       "      <td>69.14</td>\n",
       "      <td>0.531</td>\n",
       "      <td>35668.655</td>\n",
       "      <td>152.4</td>\n",
       "      <td>494055</td>\n",
       "      <td>146.64</td>\n",
       "      <td>243.456</td>\n",
       "      <td>42</td>\n",
       "      <td>462</td>\n",
       "      <td>7.501</td>\n",
       "      <td>0</td>\n",
       "      <td>0</td>\n",
       "      <td>1</td>\n",
       "      <td>0</td>\n",
       "    </tr>\n",
       "    <tr>\n",
       "      <th>2</th>\n",
       "      <td>69400</td>\n",
       "      <td>3.070181</td>\n",
       "      <td>69.14</td>\n",
       "      <td>0.531</td>\n",
       "      <td>39912.675</td>\n",
       "      <td>134.6</td>\n",
       "      <td>547051</td>\n",
       "      <td>147.88</td>\n",
       "      <td>924.000</td>\n",
       "      <td>38</td>\n",
       "      <td>458</td>\n",
       "      <td>7.501</td>\n",
       "      <td>0</td>\n",
       "      <td>1</td>\n",
       "      <td>0</td>\n",
       "      <td>0</td>\n",
       "    </tr>\n",
       "    <tr>\n",
       "      <th>3</th>\n",
       "      <td>66800</td>\n",
       "      <td>3.074885</td>\n",
       "      <td>59.36</td>\n",
       "      <td>0.542</td>\n",
       "      <td>38873.890</td>\n",
       "      <td>119.3</td>\n",
       "      <td>516279</td>\n",
       "      <td>185.36</td>\n",
       "      <td>225.344</td>\n",
       "      <td>45</td>\n",
       "      <td>472</td>\n",
       "      <td>7.226</td>\n",
       "      <td>0</td>\n",
       "      <td>0</td>\n",
       "      <td>1</td>\n",
       "      <td>1</td>\n",
       "    </tr>\n",
       "    <tr>\n",
       "      <th>4</th>\n",
       "      <td>72400</td>\n",
       "      <td>3.108212</td>\n",
       "      <td>59.36</td>\n",
       "      <td>0.542</td>\n",
       "      <td>39701.585</td>\n",
       "      <td>127.7</td>\n",
       "      <td>531448</td>\n",
       "      <td>176.48</td>\n",
       "      <td>225.792</td>\n",
       "      <td>55</td>\n",
       "      <td>395</td>\n",
       "      <td>7.227</td>\n",
       "      <td>0</td>\n",
       "      <td>0</td>\n",
       "      <td>1</td>\n",
       "      <td>0</td>\n",
       "    </tr>\n",
       "  </tbody>\n",
       "</table>\n",
       "</div>"
      ],
      "text/plain": [
       "   Collection  Marketin_expense  Production_expense  Multiplex_coverage  \\\n",
       "0       48000          3.050523               59.62               0.462   \n",
       "1       43200          3.070199               69.14               0.531   \n",
       "2       69400          3.070181               69.14               0.531   \n",
       "3       66800          3.074885               59.36               0.542   \n",
       "4       72400          3.108212               59.36               0.542   \n",
       "\n",
       "      Budget  Movie_length  Trailer_views  Time_taken  Twitter_hastags  \\\n",
       "0  36524.125         138.7         527367      109.60          223.840   \n",
       "1  35668.655         152.4         494055      146.64          243.456   \n",
       "2  39912.675         134.6         547051      147.88          924.000   \n",
       "3  38873.890         119.3         516279      185.36          225.344   \n",
       "4  39701.585         127.7         531448      176.48          225.792   \n",
       "\n",
       "   Avg_age_actors  Num_multiplex  Rating  Genre_Action  Genre_Comedy  \\\n",
       "0              23            494   7.953             0             0   \n",
       "1              42            462   7.501             0             0   \n",
       "2              38            458   7.501             0             1   \n",
       "3              45            472   7.226             0             0   \n",
       "4              55            395   7.227             0             0   \n",
       "\n",
       "   Genre_Drama  3D_available_YES  \n",
       "0            0                 1  \n",
       "1            1                 0  \n",
       "2            0                 0  \n",
       "3            1                 1  \n",
       "4            1                 0  "
      ]
     },
     "execution_count": 45,
     "metadata": {},
     "output_type": "execute_result"
    }
   ],
   "source": [
    "df.head()"
   ]
  },
  {
   "cell_type": "markdown",
   "metadata": {},
   "source": [
    "#### *Bivariate analysis*"
   ]
  },
  {
   "cell_type": "code",
   "execution_count": 46,
   "metadata": {},
   "outputs": [
    {
     "data": {
      "text/html": [
       "<div>\n",
       "<style scoped>\n",
       "    .dataframe tbody tr th:only-of-type {\n",
       "        vertical-align: middle;\n",
       "    }\n",
       "\n",
       "    .dataframe tbody tr th {\n",
       "        vertical-align: top;\n",
       "    }\n",
       "\n",
       "    .dataframe thead th {\n",
       "        text-align: right;\n",
       "    }\n",
       "</style>\n",
       "<table border=\"1\" class=\"dataframe\">\n",
       "  <thead>\n",
       "    <tr style=\"text-align: right;\">\n",
       "      <th></th>\n",
       "      <th>Collection</th>\n",
       "      <th>Marketin_expense</th>\n",
       "      <th>Production_expense</th>\n",
       "      <th>Multiplex_coverage</th>\n",
       "      <th>Budget</th>\n",
       "      <th>Movie_length</th>\n",
       "      <th>Trailer_views</th>\n",
       "      <th>Time_taken</th>\n",
       "      <th>Twitter_hastags</th>\n",
       "      <th>Avg_age_actors</th>\n",
       "      <th>Num_multiplex</th>\n",
       "      <th>Rating</th>\n",
       "      <th>Genre_Action</th>\n",
       "      <th>Genre_Comedy</th>\n",
       "      <th>Genre_Drama</th>\n",
       "      <th>3D_available_YES</th>\n",
       "    </tr>\n",
       "  </thead>\n",
       "  <tbody>\n",
       "    <tr>\n",
       "      <th>Collection</th>\n",
       "      <td>1.000000</td>\n",
       "      <td>-0.309711</td>\n",
       "      <td>-0.373947</td>\n",
       "      <td>0.303971</td>\n",
       "      <td>0.754353</td>\n",
       "      <td>-0.278718</td>\n",
       "      <td>0.678691</td>\n",
       "      <td>0.141036</td>\n",
       "      <td>0.052651</td>\n",
       "      <td>-0.004951</td>\n",
       "      <td>-0.272365</td>\n",
       "      <td>-0.060482</td>\n",
       "      <td>-0.061967</td>\n",
       "      <td>-0.036113</td>\n",
       "      <td>0.020424</td>\n",
       "      <td>0.192355</td>\n",
       "    </tr>\n",
       "    <tr>\n",
       "      <th>Marketin_expense</th>\n",
       "      <td>-0.309711</td>\n",
       "      <td>1.000000</td>\n",
       "      <td>0.615376</td>\n",
       "      <td>-0.707648</td>\n",
       "      <td>-0.306339</td>\n",
       "      <td>0.533402</td>\n",
       "      <td>-0.526549</td>\n",
       "      <td>0.047003</td>\n",
       "      <td>0.049715</td>\n",
       "      <td>0.023778</td>\n",
       "      <td>0.636746</td>\n",
       "      <td>0.531693</td>\n",
       "      <td>0.034316</td>\n",
       "      <td>0.035203</td>\n",
       "      <td>0.011118</td>\n",
       "      <td>-0.120489</td>\n",
       "    </tr>\n",
       "    <tr>\n",
       "      <th>Production_expense</th>\n",
       "      <td>-0.373947</td>\n",
       "      <td>0.615376</td>\n",
       "      <td>1.000000</td>\n",
       "      <td>-0.747325</td>\n",
       "      <td>-0.403334</td>\n",
       "      <td>0.609577</td>\n",
       "      <td>-0.537165</td>\n",
       "      <td>0.023676</td>\n",
       "      <td>-0.057913</td>\n",
       "      <td>0.028625</td>\n",
       "      <td>0.691225</td>\n",
       "      <td>0.644509</td>\n",
       "      <td>0.044404</td>\n",
       "      <td>0.040700</td>\n",
       "      <td>0.016143</td>\n",
       "      <td>-0.086836</td>\n",
       "    </tr>\n",
       "    <tr>\n",
       "      <th>Multiplex_coverage</th>\n",
       "      <td>0.303971</td>\n",
       "      <td>-0.707648</td>\n",
       "      <td>-0.747325</td>\n",
       "      <td>1.000000</td>\n",
       "      <td>0.314842</td>\n",
       "      <td>-0.714380</td>\n",
       "      <td>0.524445</td>\n",
       "      <td>0.029570</td>\n",
       "      <td>0.016897</td>\n",
       "      <td>-0.078275</td>\n",
       "      <td>-0.914065</td>\n",
       "      <td>-0.741956</td>\n",
       "      <td>-0.015216</td>\n",
       "      <td>-0.028551</td>\n",
       "      <td>0.008637</td>\n",
       "      <td>0.065540</td>\n",
       "    </tr>\n",
       "    <tr>\n",
       "      <th>Budget</th>\n",
       "      <td>0.754353</td>\n",
       "      <td>-0.306339</td>\n",
       "      <td>-0.403334</td>\n",
       "      <td>0.314842</td>\n",
       "      <td>1.000000</td>\n",
       "      <td>-0.233983</td>\n",
       "      <td>0.632985</td>\n",
       "      <td>0.068059</td>\n",
       "      <td>0.045096</td>\n",
       "      <td>-0.043389</td>\n",
       "      <td>-0.290950</td>\n",
       "      <td>-0.129034</td>\n",
       "      <td>0.018271</td>\n",
       "      <td>-0.051806</td>\n",
       "      <td>-0.024516</td>\n",
       "      <td>0.167132</td>\n",
       "    </tr>\n",
       "    <tr>\n",
       "      <th>Movie_length</th>\n",
       "      <td>-0.278718</td>\n",
       "      <td>0.533402</td>\n",
       "      <td>0.609577</td>\n",
       "      <td>-0.714380</td>\n",
       "      <td>-0.233983</td>\n",
       "      <td>1.000000</td>\n",
       "      <td>-0.554295</td>\n",
       "      <td>-0.005124</td>\n",
       "      <td>-0.008140</td>\n",
       "      <td>0.064616</td>\n",
       "      <td>0.655003</td>\n",
       "      <td>0.700465</td>\n",
       "      <td>0.008192</td>\n",
       "      <td>0.075355</td>\n",
       "      <td>0.024897</td>\n",
       "      <td>0.021640</td>\n",
       "    </tr>\n",
       "    <tr>\n",
       "      <th>Trailer_views</th>\n",
       "      <td>0.678691</td>\n",
       "      <td>-0.526549</td>\n",
       "      <td>-0.537165</td>\n",
       "      <td>0.524445</td>\n",
       "      <td>0.632985</td>\n",
       "      <td>-0.554295</td>\n",
       "      <td>1.000000</td>\n",
       "      <td>0.103208</td>\n",
       "      <td>0.033717</td>\n",
       "      <td>-0.004503</td>\n",
       "      <td>-0.498964</td>\n",
       "      <td>-0.384919</td>\n",
       "      <td>-0.014643</td>\n",
       "      <td>-0.101046</td>\n",
       "      <td>-0.025268</td>\n",
       "      <td>0.091796</td>\n",
       "    </tr>\n",
       "    <tr>\n",
       "      <th>Time_taken</th>\n",
       "      <td>0.141036</td>\n",
       "      <td>0.047003</td>\n",
       "      <td>0.023676</td>\n",
       "      <td>0.029570</td>\n",
       "      <td>0.068059</td>\n",
       "      <td>-0.005124</td>\n",
       "      <td>0.103208</td>\n",
       "      <td>1.000000</td>\n",
       "      <td>0.011968</td>\n",
       "      <td>0.031533</td>\n",
       "      <td>-0.059100</td>\n",
       "      <td>0.053285</td>\n",
       "      <td>0.039925</td>\n",
       "      <td>-0.059402</td>\n",
       "      <td>0.084258</td>\n",
       "      <td>-0.031467</td>\n",
       "    </tr>\n",
       "    <tr>\n",
       "      <th>Twitter_hastags</th>\n",
       "      <td>0.052651</td>\n",
       "      <td>0.049715</td>\n",
       "      <td>-0.057913</td>\n",
       "      <td>0.016897</td>\n",
       "      <td>0.045096</td>\n",
       "      <td>-0.008140</td>\n",
       "      <td>0.033717</td>\n",
       "      <td>0.011968</td>\n",
       "      <td>1.000000</td>\n",
       "      <td>0.050787</td>\n",
       "      <td>-0.002665</td>\n",
       "      <td>-0.012972</td>\n",
       "      <td>0.031257</td>\n",
       "      <td>0.075995</td>\n",
       "      <td>-0.031783</td>\n",
       "      <td>-0.035927</td>\n",
       "    </tr>\n",
       "    <tr>\n",
       "      <th>Avg_age_actors</th>\n",
       "      <td>-0.004951</td>\n",
       "      <td>0.023778</td>\n",
       "      <td>0.028625</td>\n",
       "      <td>-0.078275</td>\n",
       "      <td>-0.043389</td>\n",
       "      <td>0.064616</td>\n",
       "      <td>-0.004503</td>\n",
       "      <td>0.031533</td>\n",
       "      <td>0.050787</td>\n",
       "      <td>1.000000</td>\n",
       "      <td>0.059223</td>\n",
       "      <td>0.005345</td>\n",
       "      <td>0.086925</td>\n",
       "      <td>-0.042074</td>\n",
       "      <td>-0.020477</td>\n",
       "      <td>-0.030538</td>\n",
       "    </tr>\n",
       "    <tr>\n",
       "      <th>Num_multiplex</th>\n",
       "      <td>-0.272365</td>\n",
       "      <td>0.636746</td>\n",
       "      <td>0.691225</td>\n",
       "      <td>-0.914065</td>\n",
       "      <td>-0.290950</td>\n",
       "      <td>0.655003</td>\n",
       "      <td>-0.498964</td>\n",
       "      <td>-0.059100</td>\n",
       "      <td>-0.002665</td>\n",
       "      <td>0.059223</td>\n",
       "      <td>1.000000</td>\n",
       "      <td>0.682263</td>\n",
       "      <td>0.035437</td>\n",
       "      <td>0.033252</td>\n",
       "      <td>-0.010194</td>\n",
       "      <td>-0.049067</td>\n",
       "    </tr>\n",
       "    <tr>\n",
       "      <th>Rating</th>\n",
       "      <td>-0.060482</td>\n",
       "      <td>0.531693</td>\n",
       "      <td>0.644509</td>\n",
       "      <td>-0.741956</td>\n",
       "      <td>-0.129034</td>\n",
       "      <td>0.700465</td>\n",
       "      <td>-0.384919</td>\n",
       "      <td>0.053285</td>\n",
       "      <td>-0.012972</td>\n",
       "      <td>0.005345</td>\n",
       "      <td>0.682263</td>\n",
       "      <td>1.000000</td>\n",
       "      <td>0.022995</td>\n",
       "      <td>0.020145</td>\n",
       "      <td>-0.009447</td>\n",
       "      <td>0.014253</td>\n",
       "    </tr>\n",
       "    <tr>\n",
       "      <th>Genre_Action</th>\n",
       "      <td>-0.061967</td>\n",
       "      <td>0.034316</td>\n",
       "      <td>0.044404</td>\n",
       "      <td>-0.015216</td>\n",
       "      <td>0.018271</td>\n",
       "      <td>0.008192</td>\n",
       "      <td>-0.014643</td>\n",
       "      <td>0.039925</td>\n",
       "      <td>0.031257</td>\n",
       "      <td>0.086925</td>\n",
       "      <td>0.035437</td>\n",
       "      <td>0.022995</td>\n",
       "      <td>1.000000</td>\n",
       "      <td>-0.248256</td>\n",
       "      <td>-0.196934</td>\n",
       "      <td>-0.081668</td>\n",
       "    </tr>\n",
       "    <tr>\n",
       "      <th>Genre_Comedy</th>\n",
       "      <td>-0.036113</td>\n",
       "      <td>0.035203</td>\n",
       "      <td>0.040700</td>\n",
       "      <td>-0.028551</td>\n",
       "      <td>-0.051806</td>\n",
       "      <td>0.075355</td>\n",
       "      <td>-0.101046</td>\n",
       "      <td>-0.059402</td>\n",
       "      <td>0.075995</td>\n",
       "      <td>-0.042074</td>\n",
       "      <td>0.033252</td>\n",
       "      <td>0.020145</td>\n",
       "      <td>-0.248256</td>\n",
       "      <td>1.000000</td>\n",
       "      <td>-0.320091</td>\n",
       "      <td>0.054472</td>\n",
       "    </tr>\n",
       "    <tr>\n",
       "      <th>Genre_Drama</th>\n",
       "      <td>0.020424</td>\n",
       "      <td>0.011118</td>\n",
       "      <td>0.016143</td>\n",
       "      <td>0.008637</td>\n",
       "      <td>-0.024516</td>\n",
       "      <td>0.024897</td>\n",
       "      <td>-0.025268</td>\n",
       "      <td>0.084258</td>\n",
       "      <td>-0.031783</td>\n",
       "      <td>-0.020477</td>\n",
       "      <td>-0.010194</td>\n",
       "      <td>-0.009447</td>\n",
       "      <td>-0.196934</td>\n",
       "      <td>-0.320091</td>\n",
       "      <td>1.000000</td>\n",
       "      <td>0.005348</td>\n",
       "    </tr>\n",
       "    <tr>\n",
       "      <th>3D_available_YES</th>\n",
       "      <td>0.192355</td>\n",
       "      <td>-0.120489</td>\n",
       "      <td>-0.086836</td>\n",
       "      <td>0.065540</td>\n",
       "      <td>0.167132</td>\n",
       "      <td>0.021640</td>\n",
       "      <td>0.091796</td>\n",
       "      <td>-0.031467</td>\n",
       "      <td>-0.035927</td>\n",
       "      <td>-0.030538</td>\n",
       "      <td>-0.049067</td>\n",
       "      <td>0.014253</td>\n",
       "      <td>-0.081668</td>\n",
       "      <td>0.054472</td>\n",
       "      <td>0.005348</td>\n",
       "      <td>1.000000</td>\n",
       "    </tr>\n",
       "  </tbody>\n",
       "</table>\n",
       "</div>"
      ],
      "text/plain": [
       "                    Collection  Marketin_expense  Production_expense  \\\n",
       "Collection            1.000000         -0.309711           -0.373947   \n",
       "Marketin_expense     -0.309711          1.000000            0.615376   \n",
       "Production_expense   -0.373947          0.615376            1.000000   \n",
       "Multiplex_coverage    0.303971         -0.707648           -0.747325   \n",
       "Budget                0.754353         -0.306339           -0.403334   \n",
       "Movie_length         -0.278718          0.533402            0.609577   \n",
       "Trailer_views         0.678691         -0.526549           -0.537165   \n",
       "Time_taken            0.141036          0.047003            0.023676   \n",
       "Twitter_hastags       0.052651          0.049715           -0.057913   \n",
       "Avg_age_actors       -0.004951          0.023778            0.028625   \n",
       "Num_multiplex        -0.272365          0.636746            0.691225   \n",
       "Rating               -0.060482          0.531693            0.644509   \n",
       "Genre_Action         -0.061967          0.034316            0.044404   \n",
       "Genre_Comedy         -0.036113          0.035203            0.040700   \n",
       "Genre_Drama           0.020424          0.011118            0.016143   \n",
       "3D_available_YES      0.192355         -0.120489           -0.086836   \n",
       "\n",
       "                    Multiplex_coverage    Budget  Movie_length  Trailer_views  \\\n",
       "Collection                    0.303971  0.754353     -0.278718       0.678691   \n",
       "Marketin_expense             -0.707648 -0.306339      0.533402      -0.526549   \n",
       "Production_expense           -0.747325 -0.403334      0.609577      -0.537165   \n",
       "Multiplex_coverage            1.000000  0.314842     -0.714380       0.524445   \n",
       "Budget                        0.314842  1.000000     -0.233983       0.632985   \n",
       "Movie_length                 -0.714380 -0.233983      1.000000      -0.554295   \n",
       "Trailer_views                 0.524445  0.632985     -0.554295       1.000000   \n",
       "Time_taken                    0.029570  0.068059     -0.005124       0.103208   \n",
       "Twitter_hastags               0.016897  0.045096     -0.008140       0.033717   \n",
       "Avg_age_actors               -0.078275 -0.043389      0.064616      -0.004503   \n",
       "Num_multiplex                -0.914065 -0.290950      0.655003      -0.498964   \n",
       "Rating                       -0.741956 -0.129034      0.700465      -0.384919   \n",
       "Genre_Action                 -0.015216  0.018271      0.008192      -0.014643   \n",
       "Genre_Comedy                 -0.028551 -0.051806      0.075355      -0.101046   \n",
       "Genre_Drama                   0.008637 -0.024516      0.024897      -0.025268   \n",
       "3D_available_YES              0.065540  0.167132      0.021640       0.091796   \n",
       "\n",
       "                    Time_taken  Twitter_hastags  Avg_age_actors  \\\n",
       "Collection            0.141036         0.052651       -0.004951   \n",
       "Marketin_expense      0.047003         0.049715        0.023778   \n",
       "Production_expense    0.023676        -0.057913        0.028625   \n",
       "Multiplex_coverage    0.029570         0.016897       -0.078275   \n",
       "Budget                0.068059         0.045096       -0.043389   \n",
       "Movie_length         -0.005124        -0.008140        0.064616   \n",
       "Trailer_views         0.103208         0.033717       -0.004503   \n",
       "Time_taken            1.000000         0.011968        0.031533   \n",
       "Twitter_hastags       0.011968         1.000000        0.050787   \n",
       "Avg_age_actors        0.031533         0.050787        1.000000   \n",
       "Num_multiplex        -0.059100        -0.002665        0.059223   \n",
       "Rating                0.053285        -0.012972        0.005345   \n",
       "Genre_Action          0.039925         0.031257        0.086925   \n",
       "Genre_Comedy         -0.059402         0.075995       -0.042074   \n",
       "Genre_Drama           0.084258        -0.031783       -0.020477   \n",
       "3D_available_YES     -0.031467        -0.035927       -0.030538   \n",
       "\n",
       "                    Num_multiplex    Rating  Genre_Action  Genre_Comedy  \\\n",
       "Collection              -0.272365 -0.060482     -0.061967     -0.036113   \n",
       "Marketin_expense         0.636746  0.531693      0.034316      0.035203   \n",
       "Production_expense       0.691225  0.644509      0.044404      0.040700   \n",
       "Multiplex_coverage      -0.914065 -0.741956     -0.015216     -0.028551   \n",
       "Budget                  -0.290950 -0.129034      0.018271     -0.051806   \n",
       "Movie_length             0.655003  0.700465      0.008192      0.075355   \n",
       "Trailer_views           -0.498964 -0.384919     -0.014643     -0.101046   \n",
       "Time_taken              -0.059100  0.053285      0.039925     -0.059402   \n",
       "Twitter_hastags         -0.002665 -0.012972      0.031257      0.075995   \n",
       "Avg_age_actors           0.059223  0.005345      0.086925     -0.042074   \n",
       "Num_multiplex            1.000000  0.682263      0.035437      0.033252   \n",
       "Rating                   0.682263  1.000000      0.022995      0.020145   \n",
       "Genre_Action             0.035437  0.022995      1.000000     -0.248256   \n",
       "Genre_Comedy             0.033252  0.020145     -0.248256      1.000000   \n",
       "Genre_Drama             -0.010194 -0.009447     -0.196934     -0.320091   \n",
       "3D_available_YES        -0.049067  0.014253     -0.081668      0.054472   \n",
       "\n",
       "                    Genre_Drama  3D_available_YES  \n",
       "Collection             0.020424          0.192355  \n",
       "Marketin_expense       0.011118         -0.120489  \n",
       "Production_expense     0.016143         -0.086836  \n",
       "Multiplex_coverage     0.008637          0.065540  \n",
       "Budget                -0.024516          0.167132  \n",
       "Movie_length           0.024897          0.021640  \n",
       "Trailer_views         -0.025268          0.091796  \n",
       "Time_taken             0.084258         -0.031467  \n",
       "Twitter_hastags       -0.031783         -0.035927  \n",
       "Avg_age_actors        -0.020477         -0.030538  \n",
       "Num_multiplex         -0.010194         -0.049067  \n",
       "Rating                -0.009447          0.014253  \n",
       "Genre_Action          -0.196934         -0.081668  \n",
       "Genre_Comedy          -0.320091          0.054472  \n",
       "Genre_Drama            1.000000          0.005348  \n",
       "3D_available_YES       0.005348          1.000000  "
      ]
     },
     "execution_count": 46,
     "metadata": {},
     "output_type": "execute_result"
    }
   ],
   "source": [
    "df.corr()"
   ]
  },
  {
   "cell_type": "markdown",
   "metadata": {},
   "source": [
    "* We can see Num_multiplex and Multiplex_coverage are highly correlated (negatively)\n",
    "* Hence to avoid multicollinearity we need to drop one column\n",
    "* dropping the column which has low collinearity with the target variable"
   ]
  },
  {
   "cell_type": "code",
   "execution_count": 47,
   "metadata": {},
   "outputs": [],
   "source": [
    "# Dropping Num_multiplex\n",
    "del df['Num_multiplex']"
   ]
  },
  {
   "cell_type": "code",
   "execution_count": 48,
   "metadata": {},
   "outputs": [
    {
     "data": {
      "text/html": [
       "<div>\n",
       "<style scoped>\n",
       "    .dataframe tbody tr th:only-of-type {\n",
       "        vertical-align: middle;\n",
       "    }\n",
       "\n",
       "    .dataframe tbody tr th {\n",
       "        vertical-align: top;\n",
       "    }\n",
       "\n",
       "    .dataframe thead th {\n",
       "        text-align: right;\n",
       "    }\n",
       "</style>\n",
       "<table border=\"1\" class=\"dataframe\">\n",
       "  <thead>\n",
       "    <tr style=\"text-align: right;\">\n",
       "      <th></th>\n",
       "      <th>Collection</th>\n",
       "      <th>Marketin_expense</th>\n",
       "      <th>Production_expense</th>\n",
       "      <th>Multiplex_coverage</th>\n",
       "      <th>Budget</th>\n",
       "      <th>Movie_length</th>\n",
       "      <th>Trailer_views</th>\n",
       "      <th>Time_taken</th>\n",
       "      <th>Twitter_hastags</th>\n",
       "      <th>Avg_age_actors</th>\n",
       "      <th>Rating</th>\n",
       "      <th>Genre_Action</th>\n",
       "      <th>Genre_Comedy</th>\n",
       "      <th>Genre_Drama</th>\n",
       "      <th>3D_available_YES</th>\n",
       "    </tr>\n",
       "  </thead>\n",
       "  <tbody>\n",
       "    <tr>\n",
       "      <th>0</th>\n",
       "      <td>48000</td>\n",
       "      <td>3.050523</td>\n",
       "      <td>59.62</td>\n",
       "      <td>0.462</td>\n",
       "      <td>36524.125</td>\n",
       "      <td>138.7</td>\n",
       "      <td>527367</td>\n",
       "      <td>109.60</td>\n",
       "      <td>223.840</td>\n",
       "      <td>23</td>\n",
       "      <td>7.953</td>\n",
       "      <td>0</td>\n",
       "      <td>0</td>\n",
       "      <td>0</td>\n",
       "      <td>1</td>\n",
       "    </tr>\n",
       "    <tr>\n",
       "      <th>1</th>\n",
       "      <td>43200</td>\n",
       "      <td>3.070199</td>\n",
       "      <td>69.14</td>\n",
       "      <td>0.531</td>\n",
       "      <td>35668.655</td>\n",
       "      <td>152.4</td>\n",
       "      <td>494055</td>\n",
       "      <td>146.64</td>\n",
       "      <td>243.456</td>\n",
       "      <td>42</td>\n",
       "      <td>7.501</td>\n",
       "      <td>0</td>\n",
       "      <td>0</td>\n",
       "      <td>1</td>\n",
       "      <td>0</td>\n",
       "    </tr>\n",
       "    <tr>\n",
       "      <th>2</th>\n",
       "      <td>69400</td>\n",
       "      <td>3.070181</td>\n",
       "      <td>69.14</td>\n",
       "      <td>0.531</td>\n",
       "      <td>39912.675</td>\n",
       "      <td>134.6</td>\n",
       "      <td>547051</td>\n",
       "      <td>147.88</td>\n",
       "      <td>924.000</td>\n",
       "      <td>38</td>\n",
       "      <td>7.501</td>\n",
       "      <td>0</td>\n",
       "      <td>1</td>\n",
       "      <td>0</td>\n",
       "      <td>0</td>\n",
       "    </tr>\n",
       "    <tr>\n",
       "      <th>3</th>\n",
       "      <td>66800</td>\n",
       "      <td>3.074885</td>\n",
       "      <td>59.36</td>\n",
       "      <td>0.542</td>\n",
       "      <td>38873.890</td>\n",
       "      <td>119.3</td>\n",
       "      <td>516279</td>\n",
       "      <td>185.36</td>\n",
       "      <td>225.344</td>\n",
       "      <td>45</td>\n",
       "      <td>7.226</td>\n",
       "      <td>0</td>\n",
       "      <td>0</td>\n",
       "      <td>1</td>\n",
       "      <td>1</td>\n",
       "    </tr>\n",
       "    <tr>\n",
       "      <th>4</th>\n",
       "      <td>72400</td>\n",
       "      <td>3.108212</td>\n",
       "      <td>59.36</td>\n",
       "      <td>0.542</td>\n",
       "      <td>39701.585</td>\n",
       "      <td>127.7</td>\n",
       "      <td>531448</td>\n",
       "      <td>176.48</td>\n",
       "      <td>225.792</td>\n",
       "      <td>55</td>\n",
       "      <td>7.227</td>\n",
       "      <td>0</td>\n",
       "      <td>0</td>\n",
       "      <td>1</td>\n",
       "      <td>0</td>\n",
       "    </tr>\n",
       "  </tbody>\n",
       "</table>\n",
       "</div>"
      ],
      "text/plain": [
       "   Collection  Marketin_expense  Production_expense  Multiplex_coverage  \\\n",
       "0       48000          3.050523               59.62               0.462   \n",
       "1       43200          3.070199               69.14               0.531   \n",
       "2       69400          3.070181               69.14               0.531   \n",
       "3       66800          3.074885               59.36               0.542   \n",
       "4       72400          3.108212               59.36               0.542   \n",
       "\n",
       "      Budget  Movie_length  Trailer_views  Time_taken  Twitter_hastags  \\\n",
       "0  36524.125         138.7         527367      109.60          223.840   \n",
       "1  35668.655         152.4         494055      146.64          243.456   \n",
       "2  39912.675         134.6         547051      147.88          924.000   \n",
       "3  38873.890         119.3         516279      185.36          225.344   \n",
       "4  39701.585         127.7         531448      176.48          225.792   \n",
       "\n",
       "   Avg_age_actors  Rating  Genre_Action  Genre_Comedy  Genre_Drama  \\\n",
       "0              23   7.953             0             0            0   \n",
       "1              42   7.501             0             0            1   \n",
       "2              38   7.501             0             1            0   \n",
       "3              45   7.226             0             0            1   \n",
       "4              55   7.227             0             0            1   \n",
       "\n",
       "   3D_available_YES  \n",
       "0                 1  \n",
       "1                 0  \n",
       "2                 0  \n",
       "3                 1  \n",
       "4                 0  "
      ]
     },
     "execution_count": 48,
     "metadata": {},
     "output_type": "execute_result"
    }
   ],
   "source": [
    "df.head()"
   ]
  },
  {
   "cell_type": "markdown",
   "metadata": {},
   "source": [
    "### Linear Regression Model"
   ]
  },
  {
   "cell_type": "markdown",
   "metadata": {},
   "source": [
    "###  *1. Ordinary Least square* "
   ]
  },
  {
   "cell_type": "code",
   "execution_count": 49,
   "metadata": {},
   "outputs": [],
   "source": [
    "# Ordinary Least squared method (OLS)\n",
    "from sklearn.linear_model import LinearRegression"
   ]
  },
  {
   "cell_type": "code",
   "execution_count": 50,
   "metadata": {},
   "outputs": [],
   "source": [
    "y = df['Collection']"
   ]
  },
  {
   "cell_type": "code",
   "execution_count": 51,
   "metadata": {},
   "outputs": [],
   "source": [
    "# Simple Linear Regression\n",
    "X = df[['Budget']]"
   ]
  },
  {
   "cell_type": "code",
   "execution_count": 52,
   "metadata": {},
   "outputs": [],
   "source": [
    "lr = LinearRegression()"
   ]
  },
  {
   "cell_type": "code",
   "execution_count": 55,
   "metadata": {},
   "outputs": [
    {
     "data": {
      "text/plain": [
       "LinearRegression()"
      ]
     },
     "execution_count": 55,
     "metadata": {},
     "output_type": "execute_result"
    }
   ],
   "source": [
    "lr.fit(X,y)"
   ]
  },
  {
   "cell_type": "code",
   "execution_count": 56,
   "metadata": {},
   "outputs": [
    {
     "name": "stdout",
     "output_type": "stream",
     "text": [
      "-70624.10545910448 [3.388584]\n"
     ]
    }
   ],
   "source": [
    "print(lr.intercept_,lr.coef_)"
   ]
  },
  {
   "cell_type": "code",
   "execution_count": 57,
   "metadata": {},
   "outputs": [],
   "source": [
    "y_pred = lr.predict(X)"
   ]
  },
  {
   "cell_type": "code",
   "execution_count": 58,
   "metadata": {},
   "outputs": [
    {
     "data": {
      "text/plain": [
       "<seaborn.axisgrid.JointGrid at 0x1bf2a7136d0>"
      ]
     },
     "execution_count": 58,
     "metadata": {},
     "output_type": "execute_result"
    },
    {
     "data": {
      "image/png": "[encoded data removed]",
      "text/plain": [
       "<Figure size 432x432 with 3 Axes>"
      ]
     },
     "metadata": {
      "needs_background": "light"
     },
     "output_type": "display_data"
    }
   ],
   "source": [
    "sns.jointplot(x=df['Budget'],y=df['Collection'],data=df,kind = 'reg')"
   ]
  },
  {
   "cell_type": "markdown",
   "metadata": {},
   "source": [
    "## Multiple Linear Regression"
   ]
  },
  {
   "cell_type": "code",
   "execution_count": 59,
   "metadata": {},
   "outputs": [],
   "source": [
    "X_multi = df.drop(columns= \"Collection\")"
   ]
  },
  {
   "cell_type": "code",
   "execution_count": 60,
   "metadata": {},
   "outputs": [
    {
     "data": {
      "text/html": [
       "<div>\n",
       "<style scoped>\n",
       "    .dataframe tbody tr th:only-of-type {\n",
       "        vertical-align: middle;\n",
       "    }\n",
       "\n",
       "    .dataframe tbody tr th {\n",
       "        vertical-align: top;\n",
       "    }\n",
       "\n",
       "    .dataframe thead th {\n",
       "        text-align: right;\n",
       "    }\n",
       "</style>\n",
       "<table border=\"1\" class=\"dataframe\">\n",
       "  <thead>\n",
       "    <tr style=\"text-align: right;\">\n",
       "      <th></th>\n",
       "      <th>Marketin_expense</th>\n",
       "      <th>Production_expense</th>\n",
       "      <th>Multiplex_coverage</th>\n",
       "      <th>Budget</th>\n",
       "      <th>Movie_length</th>\n",
       "      <th>Trailer_views</th>\n",
       "      <th>Time_taken</th>\n",
       "      <th>Twitter_hastags</th>\n",
       "      <th>Avg_age_actors</th>\n",
       "      <th>Rating</th>\n",
       "      <th>Genre_Action</th>\n",
       "      <th>Genre_Comedy</th>\n",
       "      <th>Genre_Drama</th>\n",
       "      <th>3D_available_YES</th>\n",
       "    </tr>\n",
       "  </thead>\n",
       "  <tbody>\n",
       "    <tr>\n",
       "      <th>0</th>\n",
       "      <td>3.050523</td>\n",
       "      <td>59.62</td>\n",
       "      <td>0.462</td>\n",
       "      <td>36524.125</td>\n",
       "      <td>138.7</td>\n",
       "      <td>527367</td>\n",
       "      <td>109.60</td>\n",
       "      <td>223.840</td>\n",
       "      <td>23</td>\n",
       "      <td>7.953</td>\n",
       "      <td>0</td>\n",
       "      <td>0</td>\n",
       "      <td>0</td>\n",
       "      <td>1</td>\n",
       "    </tr>\n",
       "    <tr>\n",
       "      <th>1</th>\n",
       "      <td>3.070199</td>\n",
       "      <td>69.14</td>\n",
       "      <td>0.531</td>\n",
       "      <td>35668.655</td>\n",
       "      <td>152.4</td>\n",
       "      <td>494055</td>\n",
       "      <td>146.64</td>\n",
       "      <td>243.456</td>\n",
       "      <td>42</td>\n",
       "      <td>7.501</td>\n",
       "      <td>0</td>\n",
       "      <td>0</td>\n",
       "      <td>1</td>\n",
       "      <td>0</td>\n",
       "    </tr>\n",
       "    <tr>\n",
       "      <th>2</th>\n",
       "      <td>3.070181</td>\n",
       "      <td>69.14</td>\n",
       "      <td>0.531</td>\n",
       "      <td>39912.675</td>\n",
       "      <td>134.6</td>\n",
       "      <td>547051</td>\n",
       "      <td>147.88</td>\n",
       "      <td>924.000</td>\n",
       "      <td>38</td>\n",
       "      <td>7.501</td>\n",
       "      <td>0</td>\n",
       "      <td>1</td>\n",
       "      <td>0</td>\n",
       "      <td>0</td>\n",
       "    </tr>\n",
       "    <tr>\n",
       "      <th>3</th>\n",
       "      <td>3.074885</td>\n",
       "      <td>59.36</td>\n",
       "      <td>0.542</td>\n",
       "      <td>38873.890</td>\n",
       "      <td>119.3</td>\n",
       "      <td>516279</td>\n",
       "      <td>185.36</td>\n",
       "      <td>225.344</td>\n",
       "      <td>45</td>\n",
       "      <td>7.226</td>\n",
       "      <td>0</td>\n",
       "      <td>0</td>\n",
       "      <td>1</td>\n",
       "      <td>1</td>\n",
       "    </tr>\n",
       "    <tr>\n",
       "      <th>4</th>\n",
       "      <td>3.108212</td>\n",
       "      <td>59.36</td>\n",
       "      <td>0.542</td>\n",
       "      <td>39701.585</td>\n",
       "      <td>127.7</td>\n",
       "      <td>531448</td>\n",
       "      <td>176.48</td>\n",
       "      <td>225.792</td>\n",
       "      <td>55</td>\n",
       "      <td>7.227</td>\n",
       "      <td>0</td>\n",
       "      <td>0</td>\n",
       "      <td>1</td>\n",
       "      <td>0</td>\n",
       "    </tr>\n",
       "  </tbody>\n",
       "</table>\n",
       "</div>"
      ],
      "text/plain": [
       "   Marketin_expense  Production_expense  Multiplex_coverage     Budget  \\\n",
       "0          3.050523               59.62               0.462  36524.125   \n",
       "1          3.070199               69.14               0.531  35668.655   \n",
       "2          3.070181               69.14               0.531  39912.675   \n",
       "3          3.074885               59.36               0.542  38873.890   \n",
       "4          3.108212               59.36               0.542  39701.585   \n",
       "\n",
       "   Movie_length  Trailer_views  Time_taken  Twitter_hastags  Avg_age_actors  \\\n",
       "0         138.7         527367      109.60          223.840              23   \n",
       "1         152.4         494055      146.64          243.456              42   \n",
       "2         134.6         547051      147.88          924.000              38   \n",
       "3         119.3         516279      185.36          225.344              45   \n",
       "4         127.7         531448      176.48          225.792              55   \n",
       "\n",
       "   Rating  Genre_Action  Genre_Comedy  Genre_Drama  3D_available_YES  \n",
       "0   7.953             0             0            0                 1  \n",
       "1   7.501             0             0            1                 0  \n",
       "2   7.501             0             1            0                 0  \n",
       "3   7.226             0             0            1                 1  \n",
       "4   7.227             0             0            1                 0  "
      ]
     },
     "execution_count": 60,
     "metadata": {},
     "output_type": "execute_result"
    }
   ],
   "source": [
    "X_multi.head()"
   ]
  },
  {
   "cell_type": "code",
   "execution_count": 61,
   "metadata": {},
   "outputs": [],
   "source": [
    "lr_multi = LinearRegression()"
   ]
  },
  {
   "cell_type": "code",
   "execution_count": 64,
   "metadata": {},
   "outputs": [
    {
     "data": {
      "text/plain": [
       "LinearRegression()"
      ]
     },
     "execution_count": 64,
     "metadata": {},
     "output_type": "execute_result"
    }
   ],
   "source": [
    "lr_multi.fit(X_multi,y)"
   ]
  },
  {
   "cell_type": "code",
   "execution_count": 65,
   "metadata": {},
   "outputs": [
    {
     "name": "stdout",
     "output_type": "stream",
     "text": [
      "-124538.13687035927 [ 4.76762086e+02 -9.92625753e+01  1.05739441e+04  2.20601281e+00\n",
      " -5.96997643e+01  9.96925234e-02  3.28837920e+01  6.08954205e+00\n",
      "  5.13504510e+01  6.04522168e+03 -2.82378228e+03  1.26776606e+03\n",
      "  1.94901878e+03  2.39292380e+03]\n"
     ]
    }
   ],
   "source": [
    "print(lr_multi.intercept_,lr_multi.coef_)"
   ]
  },
  {
   "cell_type": "code",
   "execution_count": 66,
   "metadata": {},
   "outputs": [],
   "source": [
    "from sklearn.model_selection import train_test_split"
   ]
  },
  {
   "cell_type": "code",
   "execution_count": 67,
   "metadata": {},
   "outputs": [],
   "source": [
    "# Splitting and training of data\n",
    "X_train,X_test,y_train,y_test = train_test_split(X_multi,y,test_size=0.2,random_state=0)"
   ]
  },
  {
   "cell_type": "code",
   "execution_count": 68,
   "metadata": {},
   "outputs": [
    {
     "name": "stdout",
     "output_type": "stream",
     "text": [
      "(320, 14) (80, 14) (320,) (80,)\n"
     ]
    }
   ],
   "source": [
    "print(X_train.shape,X_test.shape,y_train.shape,y_test.shape)"
   ]
  },
  {
   "cell_type": "code",
   "execution_count": 69,
   "metadata": {},
   "outputs": [],
   "source": [
    "lr = LinearRegression()"
   ]
  },
  {
   "cell_type": "code",
   "execution_count": 70,
   "metadata": {},
   "outputs": [
    {
     "data": {
      "text/plain": [
       "LinearRegression()"
      ]
     },
     "execution_count": 70,
     "metadata": {},
     "output_type": "execute_result"
    }
   ],
   "source": [
    "lr.fit(X_train,y_train)"
   ]
  },
  {
   "cell_type": "code",
   "execution_count": 71,
   "metadata": {},
   "outputs": [],
   "source": [
    "y_pred = lr.predict(X_test)"
   ]
  },
  {
   "cell_type": "code",
   "execution_count": 72,
   "metadata": {},
   "outputs": [],
   "source": [
    "y_train_pred = lr.predict(X_train)"
   ]
  },
  {
   "cell_type": "code",
   "execution_count": 73,
   "metadata": {},
   "outputs": [],
   "source": [
    "from sklearn.metrics import r2_score"
   ]
  },
  {
   "cell_type": "code",
   "execution_count": 74,
   "metadata": {},
   "outputs": [
    {
     "data": {
      "text/plain": [
       "0.6414482814383258"
      ]
     },
     "execution_count": 74,
     "metadata": {},
     "output_type": "execute_result"
    }
   ],
   "source": [
    "r2_score(y_test,y_pred)"
   ]
  },
  {
   "cell_type": "code",
   "execution_count": 75,
   "metadata": {},
   "outputs": [
    {
     "data": {
      "text/plain": [
       "0.6876230653419215"
      ]
     },
     "execution_count": 75,
     "metadata": {},
     "output_type": "execute_result"
    }
   ],
   "source": [
    "r2_score(y_train,y_train_pred)"
   ]
  },
  {
   "cell_type": "code",
   "execution_count": 76,
   "metadata": {},
   "outputs": [],
   "source": [
    "from sklearn import preprocessing"
   ]
  },
  {
   "cell_type": "code",
   "execution_count": 77,
   "metadata": {},
   "outputs": [],
   "source": [
    "scaler = preprocessing.StandardScaler().fit(X_train)"
   ]
  },
  {
   "cell_type": "code",
   "execution_count": 78,
   "metadata": {},
   "outputs": [],
   "source": [
    "X_train_s = scaler.transform(X_train)"
   ]
  },
  {
   "cell_type": "code",
   "execution_count": 79,
   "metadata": {},
   "outputs": [],
   "source": [
    "X_test_s = scaler.transform(X_test)"
   ]
  },
  {
   "cell_type": "markdown",
   "metadata": {},
   "source": [
    "### *2. Variable shrinkage with Ridge*"
   ]
  },
  {
   "cell_type": "code",
   "execution_count": 80,
   "metadata": {},
   "outputs": [],
   "source": [
    "from sklearn.linear_model import Ridge"
   ]
  },
  {
   "cell_type": "code",
   "execution_count": 81,
   "metadata": {},
   "outputs": [
    {
     "data": {
      "text/plain": [
       "Ridge(alpha=0.5)"
      ]
     },
     "execution_count": 81,
     "metadata": {},
     "output_type": "execute_result"
    }
   ],
   "source": [
    "lm_r = Ridge(alpha = 0.5)\n",
    "lm_r.fit(X_train_s , y_train)"
   ]
  },
  {
   "cell_type": "code",
   "execution_count": 82,
   "metadata": {},
   "outputs": [
    {
     "data": {
      "text/plain": [
       "0.6415877062962205"
      ]
     },
     "execution_count": 82,
     "metadata": {},
     "output_type": "execute_result"
    }
   ],
   "source": [
    "r2_score(y_test ,lm_r.predict(X_test_s))"
   ]
  },
  {
   "cell_type": "code",
   "execution_count": 83,
   "metadata": {},
   "outputs": [],
   "source": [
    "from sklearn.model_selection import validation_curve"
   ]
  },
  {
   "cell_type": "code",
   "execution_count": 84,
   "metadata": {},
   "outputs": [
    {
     "data": {
      "text/plain": [
       "array([1.00000000e-02, 1.26185688e-02, 1.59228279e-02, 2.00923300e-02,\n",
       "       2.53536449e-02, 3.19926714e-02, 4.03701726e-02, 5.09413801e-02,\n",
       "       6.42807312e-02, 8.11130831e-02, 1.02353102e-01, 1.29154967e-01,\n",
       "       1.62975083e-01, 2.05651231e-01, 2.59502421e-01, 3.27454916e-01,\n",
       "       4.13201240e-01, 5.21400829e-01, 6.57933225e-01, 8.30217568e-01,\n",
       "       1.04761575e+00, 1.32194115e+00, 1.66810054e+00, 2.10490414e+00,\n",
       "       2.65608778e+00, 3.35160265e+00, 4.22924287e+00, 5.33669923e+00,\n",
       "       6.73415066e+00, 8.49753436e+00, 1.07226722e+01, 1.35304777e+01,\n",
       "       1.70735265e+01, 2.15443469e+01, 2.71858824e+01, 3.43046929e+01,\n",
       "       4.32876128e+01, 5.46227722e+01, 6.89261210e+01, 8.69749003e+01,\n",
       "       1.09749877e+02, 1.38488637e+02, 1.74752840e+02, 2.20513074e+02,\n",
       "       2.78255940e+02, 3.51119173e+02, 4.43062146e+02, 5.59081018e+02,\n",
       "       7.05480231e+02, 8.90215085e+02, 1.12332403e+03, 1.41747416e+03,\n",
       "       1.78864953e+03, 2.25701972e+03, 2.84803587e+03, 3.59381366e+03,\n",
       "       4.53487851e+03, 5.72236766e+03, 7.22080902e+03, 9.11162756e+03,\n",
       "       1.14975700e+04, 1.45082878e+04, 1.83073828e+04, 2.31012970e+04,\n",
       "       2.91505306e+04, 3.67837977e+04, 4.64158883e+04, 5.85702082e+04,\n",
       "       7.39072203e+04, 9.32603347e+04, 1.17681195e+05, 1.48496826e+05,\n",
       "       1.87381742e+05, 2.36448941e+05, 2.98364724e+05, 3.76493581e+05,\n",
       "       4.75081016e+05, 5.99484250e+05, 7.56463328e+05, 9.54548457e+05,\n",
       "       1.20450354e+06, 1.51991108e+06, 1.91791026e+06, 2.42012826e+06,\n",
       "       3.05385551e+06, 3.85352859e+06, 4.86260158e+06, 6.13590727e+06,\n",
       "       7.74263683e+06, 9.77009957e+06, 1.23284674e+07, 1.55567614e+07,\n",
       "       1.96304065e+07, 2.47707636e+07, 3.12571585e+07, 3.94420606e+07,\n",
       "       4.97702356e+07, 6.28029144e+07, 7.92482898e+07, 1.00000000e+08])"
      ]
     },
     "execution_count": 84,
     "metadata": {},
     "output_type": "execute_result"
    }
   ],
   "source": [
    "param_range = np.logspace(-2,8,100)\n",
    "param_range"
   ]
  },
  {
   "cell_type": "code",
   "execution_count": 85,
   "metadata": {},
   "outputs": [],
   "source": [
    "train_scores,test_scores = validation_curve(Ridge(), X_train_s,y_train,\"alpha\",param_range,scoring='r2')"
   ]
  },
  {
   "cell_type": "code",
   "execution_count": 86,
   "metadata": {},
   "outputs": [
    {
     "name": "stdout",
     "output_type": "stream",
     "text": [
      "[[7.21416843e-01 6.78927721e-01 6.69732346e-01 6.64739706e-01\n",
      "  7.32525351e-01]\n",
      " [7.21416842e-01 6.78927720e-01 6.69732346e-01 6.64739705e-01\n",
      "  7.32525350e-01]\n",
      " [7.21416841e-01 6.78927719e-01 6.69732345e-01 6.64739704e-01\n",
      "  7.32525349e-01]\n",
      " [7.21416840e-01 6.78927718e-01 6.69732344e-01 6.64739703e-01\n",
      "  7.32525348e-01]\n",
      " [7.21416838e-01 6.78927716e-01 6.69732342e-01 6.64739701e-01\n",
      "  7.32525346e-01]\n",
      " [7.21416834e-01 6.78927714e-01 6.69732339e-01 6.64739698e-01\n",
      "  7.32525342e-01]\n",
      " [7.21416828e-01 6.78927709e-01 6.69732335e-01 6.64739693e-01\n",
      "  7.32525336e-01]\n",
      " [7.21416818e-01 6.78927702e-01 6.69732328e-01 6.64739686e-01\n",
      "  7.32525326e-01]\n",
      " [7.21416802e-01 6.78927690e-01 6.69732316e-01 6.64739673e-01\n",
      "  7.32525311e-01]\n",
      " [7.21416778e-01 6.78927672e-01 6.69732298e-01 6.64739654e-01\n",
      "  7.32525287e-01]\n",
      " [7.21416738e-01 6.78927643e-01 6.69732270e-01 6.64739622e-01\n",
      "  7.32525249e-01]\n",
      " [7.21416676e-01 6.78927597e-01 6.69732224e-01 6.64739573e-01\n",
      "  7.32525188e-01]\n",
      " [7.21416576e-01 6.78927523e-01 6.69732152e-01 6.64739494e-01\n",
      "  7.32525092e-01]\n",
      " [7.21416418e-01 6.78927406e-01 6.69732036e-01 6.64739368e-01\n",
      "  7.32524938e-01]\n",
      " [7.21416167e-01 6.78927220e-01 6.69731853e-01 6.64739169e-01\n",
      "  7.32524694e-01]\n",
      " [7.21415767e-01 6.78926925e-01 6.69731561e-01 6.64738851e-01\n",
      "  7.32524305e-01]\n",
      " [7.21415132e-01 6.78926454e-01 6.69731097e-01 6.64738346e-01\n",
      "  7.32523688e-01]\n",
      " [7.21414123e-01 6.78925708e-01 6.69730359e-01 6.64737544e-01\n",
      "  7.32522707e-01]\n",
      " [7.21412523e-01 6.78924522e-01 6.69729187e-01 6.64736270e-01\n",
      "  7.32521151e-01]\n",
      " [7.21409987e-01 6.78922641e-01 6.69727326e-01 6.64734248e-01\n",
      "  7.32518684e-01]\n",
      " [7.21405971e-01 6.78919660e-01 6.69724374e-01 6.64731043e-01\n",
      "  7.32514777e-01]\n",
      " [7.21399622e-01 6.78914942e-01 6.69719695e-01 6.64725967e-01\n",
      "  7.32508597e-01]\n",
      " [7.21389600e-01 6.78907484e-01 6.69712287e-01 6.64717937e-01\n",
      "  7.32498840e-01]\n",
      " [7.21373815e-01 6.78895717e-01 6.69700576e-01 6.64705259e-01\n",
      "  7.32483466e-01]\n",
      " [7.21349020e-01 6.78877193e-01 6.69682095e-01 6.64685281e-01\n",
      "  7.32459303e-01]\n",
      " [7.21310193e-01 6.78848114e-01 6.69652994e-01 6.64653880e-01\n",
      "  7.32421448e-01]\n",
      " [7.21249628e-01 6.78802618e-01 6.69607294e-01 6.64604677e-01\n",
      "  7.32362368e-01]\n",
      " [7.21155584e-01 6.78731725e-01 6.69535761e-01 6.64527873e-01\n",
      "  7.32270590e-01]\n",
      " [7.21010338e-01 6.78621794e-01 6.69424233e-01 6.64408524e-01\n",
      "  7.32128801e-01]\n",
      " [7.20787409e-01 6.78452306e-01 6.69251176e-01 6.64224067e-01\n",
      "  7.31911176e-01]\n",
      " [7.20447687e-01 6.78192742e-01 6.68984156e-01 6.63940798e-01\n",
      "  7.31579681e-01]\n",
      " [7.19934134e-01 6.77798280e-01 6.68574889e-01 6.63509025e-01\n",
      "  7.31079120e-01]\n",
      " [7.19164725e-01 6.77204024e-01 6.67952461e-01 6.62856549e-01\n",
      "  7.30330674e-01]\n",
      " [7.18023298e-01 6.76317459e-01 6.67014363e-01 6.61880251e-01\n",
      "  7.29223786e-01]\n",
      " [7.16348173e-01 6.75008945e-01 6.65615175e-01 6.60435714e-01\n",
      "  7.27606385e-01]\n",
      " [7.13918827e-01 6.73100300e-01 6.63553179e-01 6.58325291e-01\n",
      "  7.25273820e-01]\n",
      " [7.10441812e-01 6.70352094e-01 6.60556115e-01 6.55285809e-01\n",
      "  7.21957498e-01]\n",
      " [7.05538592e-01 6.66451343e-01 6.56268707e-01 6.50978387e-01\n",
      "  7.17315353e-01]\n",
      " [6.98739997e-01 6.61002955e-01 6.50246631e-01 6.44984536e-01\n",
      "  7.10927762e-01]\n",
      " [6.89493947e-01 6.53530327e-01 6.41963501e-01 6.36814336e-01\n",
      "  7.02304116e-01]\n",
      " [6.77193750e-01 6.43491999e-01 6.30838331e-01 6.25933027e-01\n",
      "  6.90905937e-01]\n",
      " [6.61232170e-01 6.30320742e-01 6.16288774e-01 6.11810225e-01\n",
      "  6.76190758e-01]\n",
      " [6.41080274e-01 6.13487331e-01 5.97809193e-01 5.93990089e-01\n",
      "  6.57675994e-01]\n",
      " [6.16380690e-01 5.92583014e-01 5.75062524e-01 5.72171686e-01\n",
      "  6.35014019e-01]\n",
      " [5.87035334e-01 5.67404653e-01 5.47964768e-01 5.46280229e-01\n",
      "  6.08061865e-01]\n",
      " [5.53263223e-01 5.38019695e-01 5.16736817e-01 5.16507438e-01\n",
      "  5.76926137e-01]\n",
      " [5.15609089e-01 5.04790053e-01 4.81905082e-01 4.83306980e-01\n",
      "  5.41969878e-01]\n",
      " [4.74898029e-01 4.68346400e-01 4.44249224e-01 4.47346983e-01\n",
      "  5.03781801e-01]\n",
      " [4.32149141e-01 4.29521917e-01 4.04713937e-01 4.09437333e-01\n",
      "  4.63121977e-01]\n",
      " [3.88472343e-01 3.89267297e-01 3.64311544e-01 3.70455309e-01\n",
      "  4.20862940e-01]\n",
      " [3.44971765e-01 3.48569218e-01 3.24037947e-01 3.31285831e-01\n",
      "  3.77938154e-01]\n",
      " [3.02668647e-01 3.08384225e-01 2.84811078e-01 2.92778542e-01\n",
      "  3.35297307e-01]\n",
      " [2.62445365e-01 2.69587778e-01 2.47428710e-01 2.55713736e-01\n",
      "  2.93860223e-01]\n",
      " [2.25007018e-01 2.32932949e-01 2.12538518e-01 2.20768956e-01\n",
      "  2.54464015e-01]\n",
      " [1.90858334e-01 1.99016155e-01 1.80617041e-01 1.88485518e-01\n",
      "  2.17807691e-01]\n",
      " [1.60296770e-01 1.68253085e-01 1.51959471e-01 1.59241680e-01\n",
      "  1.84406304e-01]\n",
      " [1.33423116e-01 1.40870448e-01 1.26683826e-01 1.33240930e-01\n",
      "  1.54566865e-01]\n",
      " [1.10168218e-01 1.16916552e-01 1.04750417e-01 1.10519651e-01\n",
      "  1.28391439e-01]\n",
      " [9.03308454e-02 9.62885235e-02 8.59932993e-02 9.09720355e-02\n",
      "  1.05804157e-01]\n",
      " [7.36198075e-02 7.87697987e-02 7.01575926e-02 7.43855967e-02\n",
      "  8.65930645e-02]\n",
      " [5.96938412e-02 6.40702803e-02 5.69363019e-02 6.04794403e-02\n",
      "  7.04564754e-02]\n",
      " [4.81948778e-02 5.18628962e-02 4.60019545e-02 4.89390354e-02\n",
      "  5.70456357e-02]\n",
      " [3.87727683e-02 4.18128900e-02 3.70307193e-02 3.94439159e-02\n",
      "  4.59990402e-02]\n",
      " [3.11015573e-02 3.35986836e-02 2.97187048e-02 3.16872553e-02\n",
      "  3.69669374e-02]\n",
      " [2.48885872e-02 2.69249108e-02 2.37914264e-02 2.53879625e-02\n",
      "  2.96267266e-02]\n",
      " [1.98781784e-02 2.15291218e-02 1.90079906e-02 2.02967797e-02\n",
      "  2.36910121e-02]\n",
      " [1.58515960e-02 1.71838900e-02 1.51615921e-02 1.61980634e-02\n",
      "  1.89103402e-02]\n",
      " [1.26247360e-02 1.36959006e-02 1.20776971e-02 1.29087525e-02\n",
      "  1.50724457e-02]\n",
      " [1.00446023e-02 1.09032733e-02 9.61095649e-03 1.02757122e-02\n",
      "  1.19994537e-02]\n",
      " [7.98531416e-03 8.67202383e-03 7.64158427e-03 8.17230302e-03\n",
      "  9.54407156e-03]\n",
      " [6.34411156e-03 6.89226793e-03 6.07166903e-03 6.49473278e-03\n",
      "  7.58546060e-03]\n",
      " [5.03762683e-03 5.47453246e-03 4.82169581e-03 5.15853401e-03\n",
      "  6.02520576e-03]\n",
      " [3.99855518e-03 4.34637618e-03 3.82741871e-03 4.09534712e-03\n",
      "  4.78361308e-03]\n",
      " [3.17276948e-03 3.44940947e-03 3.03713788e-03 3.25009102e-03\n",
      "  3.79643959e-03]\n",
      " [2.51687315e-03 2.73673476e-03 2.40938206e-03 2.57853735e-03\n",
      "  3.01208200e-03]\n",
      " [1.99615687e-03 2.17078983e-03 1.91096877e-03 2.04526930e-03\n",
      "  2.38920650e-03]\n",
      " [1.58291273e-03 1.72155593e-03 1.51540063e-03 1.62198751e-03\n",
      "  1.89477862e-03]\n",
      " [1.25505539e-03 1.36508480e-03 1.20155198e-03 1.28611841e-03\n",
      "  1.50244331e-03]\n",
      " [9.95002286e-04 1.08229750e-03 9.52600992e-04 1.01968017e-03\n",
      "  1.19120361e-03]\n",
      " [7.88768897e-04 8.58010982e-04 7.55166128e-04 8.08364040e-04\n",
      "  9.44349786e-04]\n",
      " [6.25240830e-04 6.80153050e-04 5.98610920e-04 6.40793751e-04\n",
      "  7.48595544e-04]\n",
      " [4.95590037e-04 5.39131578e-04 4.74486109e-04 5.07930612e-04\n",
      "  5.93383943e-04]\n",
      " [3.92807805e-04 4.27329157e-04 3.76083191e-04 4.02597021e-04\n",
      "  4.70331306e-04]\n",
      " [3.11331900e-04 3.38699173e-04 2.98077859e-04 3.19095669e-04\n",
      "  3.72782716e-04]\n",
      " [2.46749349e-04 2.68443534e-04 2.36245704e-04 2.52905762e-04\n",
      "  2.95457346e-04]\n",
      " [1.95559805e-04 2.12755900e-04 1.87235818e-04 2.00441018e-04\n",
      "  2.34165887e-04]\n",
      " [1.54987326e-04 1.68617341e-04 1.48390692e-04 1.58857088e-04\n",
      "  1.85585647e-04]\n",
      " [1.22830789e-04 1.33633852e-04 1.17603058e-04 1.25898440e-04\n",
      "  1.47081734e-04]\n",
      " [9.73450574e-05 1.05907248e-04 9.32021636e-05 9.97767042e-05\n",
      "  1.16564961e-04]\n",
      " [7.71466535e-05 8.39326389e-05 7.38634768e-05 7.90740596e-05\n",
      "  9.23790054e-05]\n",
      " [6.11388860e-05 6.65170374e-05 5.85370219e-05 6.26665532e-05\n",
      "  7.32108341e-05]\n",
      " [4.84524526e-05 5.27147806e-05 4.63905181e-05 4.96632478e-05\n",
      "  5.80196229e-05]\n",
      " [3.83983248e-05 4.17762944e-05 3.67642760e-05 3.93579504e-05\n",
      "  4.59803684e-05]\n",
      " [3.04303830e-05 3.31074588e-05 2.91354266e-05 3.11909271e-05\n",
      "  3.64391640e-05]\n",
      " [2.41157887e-05 2.62373837e-05 2.30895575e-05 2.47185429e-05\n",
      "  2.88777336e-05]\n",
      " [1.91114950e-05 2.07928593e-05 1.82982241e-05 1.95891899e-05\n",
      "  2.28853105e-05]\n",
      " [1.51456239e-05 1.64780993e-05 1.45011205e-05 1.55242031e-05\n",
      "  1.81363432e-05]\n",
      " [1.20027051e-05 1.30586835e-05 1.14919470e-05 1.23027315e-05\n",
      "  1.43728209e-05]\n",
      " [9.51197440e-06 1.03488283e-05 9.10720728e-06 9.74974582e-06\n",
      "  1.13902644e-05]\n",
      " [7.53809958e-06 8.20129765e-06 7.21732852e-06 7.72653287e-06\n",
      "  9.02662097e-06]]\n",
      "[[ 4.39396202e-01  7.06343628e-01  7.39097633e-01  7.41863131e-01\n",
      "   4.82583558e-01]\n",
      " [ 4.39403771e-01  7.06343737e-01  7.39097024e-01  7.41862474e-01\n",
      "   4.82585442e-01]\n",
      " [ 4.39413321e-01  7.06343873e-01  7.39096254e-01  7.41861644e-01\n",
      "   4.82587819e-01]\n",
      " [ 4.39425370e-01  7.06344045e-01  7.39095283e-01  7.41860597e-01\n",
      "   4.82590818e-01]\n",
      " [ 4.39440573e-01  7.06344261e-01  7.39094057e-01  7.41859275e-01\n",
      "   4.82594601e-01]\n",
      " [ 4.39459753e-01  7.06344532e-01  7.39092510e-01  7.41857606e-01\n",
      "   4.82599373e-01]\n",
      " [ 4.39483951e-01  7.06344873e-01  7.39090558e-01  7.41855499e-01\n",
      "   4.82605391e-01]\n",
      " [ 4.39514476e-01  7.06345301e-01  7.39088093e-01  7.41852838e-01\n",
      "   4.82612980e-01]\n",
      " [ 4.39552983e-01  7.06345836e-01  7.39084982e-01  7.41849479e-01\n",
      "   4.82622548e-01]\n",
      " [ 4.39601551e-01  7.06346504e-01  7.39081053e-01  7.41845235e-01\n",
      "   4.82634610e-01]\n",
      " [ 4.39662805e-01  7.06347337e-01  7.39076092e-01  7.41839873e-01\n",
      "   4.82649811e-01]\n",
      " [ 4.39740047e-01  7.06348371e-01  7.39069827e-01  7.41833097e-01\n",
      "   4.82668960e-01]\n",
      " [ 4.39837431e-01  7.06349648e-01  7.39061912e-01  7.41824530e-01\n",
      "   4.82693074e-01]\n",
      " [ 4.39960184e-01  7.06351216e-01  7.39051911e-01  7.41813693e-01\n",
      "   4.82723424e-01]\n",
      " [ 4.40114872e-01  7.06353126e-01  7.39039268e-01  7.41799975e-01\n",
      "   4.82761595e-01]\n",
      " [ 4.40309732e-01  7.06355428e-01  7.39023278e-01  7.41782598e-01\n",
      "   4.82809561e-01]\n",
      " [ 4.40555090e-01  7.06358159e-01  7.39003045e-01  7.41760563e-01\n",
      "   4.82869772e-01]\n",
      " [ 4.40863860e-01  7.06361331e-01  7.38977424e-01  7.41732588e-01\n",
      "   4.82945248e-01]\n",
      " [ 4.41252160e-01  7.06364901e-01  7.38944951e-01  7.41697018e-01\n",
      "   4.83039694e-01]\n",
      " [ 4.41740046e-01  7.06368721e-01  7.38903748e-01  7.41651707e-01\n",
      "   4.83157618e-01]\n",
      " [ 4.42352391e-01  7.06372463e-01  7.38851397e-01  7.41593859e-01\n",
      "   4.83304446e-01]\n",
      " [ 4.43119893e-01  7.06375492e-01  7.38784771e-01  7.41519802e-01\n",
      "   4.83486617e-01]\n",
      " [ 4.44080233e-01  7.06376660e-01  7.38699803e-01  7.41424686e-01\n",
      "   4.83711624e-01]\n",
      " [ 4.45279328e-01  7.06373997e-01  7.38591175e-01  7.41302051e-01\n",
      "   4.83987954e-01]\n",
      " [ 4.46772631e-01  7.06364216e-01  7.38451887e-01  7.41143228e-01\n",
      "   4.84324842e-01]\n",
      " [ 4.48626357e-01  7.06341977e-01  7.38272657e-01  7.40936487e-01\n",
      "   4.84731733e-01]\n",
      " [ 4.50918444e-01  7.06298777e-01  7.38041085e-01  7.40665842e-01\n",
      "   4.85217260e-01]\n",
      " [ 4.53738958e-01  7.06221335e-01  7.37740476e-01  7.40309363e-01\n",
      "   4.85787550e-01]\n",
      " [ 4.57189542e-01  7.06089284e-01  7.37348188e-01  7.39836819e-01\n",
      "   4.86443541e-01]\n",
      " [ 4.61381326e-01  7.05871975e-01  7.36833307e-01  7.39206415e-01\n",
      "   4.87177014e-01]\n",
      " [ 4.66430602e-01  7.05524193e-01  7.36153385e-01  7.38360347e-01\n",
      "   4.87964995e-01]\n",
      " [ 4.72451316e-01  7.04980629e-01  7.35249926e-01  7.37218889e-01\n",
      "   4.88762321e-01]\n",
      " [ 4.79543322e-01  7.04149073e-01  7.34042196e-01  7.35672729e-01\n",
      "   4.89492301e-01]\n",
      " [ 4.87775144e-01  7.02902446e-01  7.32418964e-01  7.33573457e-01\n",
      "   4.90035813e-01]\n",
      " [ 4.97160117e-01  7.01070023e-01  7.30227845e-01  7.30722381e-01\n",
      "   4.90219667e-01]\n",
      " [ 5.07625281e-01  6.98428520e-01  7.27262328e-01  7.26858516e-01\n",
      "   4.89805768e-01]\n",
      " [ 5.18973903e-01  6.94694080e-01  7.23247399e-01  7.21647567e-01\n",
      "   4.88483456e-01]\n",
      " [ 5.30845364e-01  6.89516914e-01  7.17826117e-01  7.14675217e-01\n",
      "   4.85868398e-01]\n",
      " [ 5.42680304e-01  6.82481262e-01  7.10551603e-01  7.05449703e-01\n",
      "   4.81512251e-01]\n",
      " [ 5.53703398e-01  6.73114624e-01  7.00891090e-01  6.93419979e-01\n",
      "   4.74927597e-01]\n",
      " [ 5.62938421e-01  6.60910899e-01  6.88249780e-01  6.78015437e-01\n",
      "   4.65631342e-01]\n",
      " [ 5.69267526e-01  6.45371294e-01  6.72020579e-01  6.58709786e-01\n",
      "   4.53205905e-01]\n",
      " [ 5.71536947e-01  6.26063132e-01  6.51659850e-01  6.35104380e-01\n",
      "   4.37370949e-01]\n",
      " [ 5.68696280e-01  6.02690141e-01  6.26779588e-01  6.07016370e-01\n",
      "   4.18050601e-01]\n",
      " [ 5.59943776e-01  5.75160211e-01  5.97236214e-01  5.74548680e-01\n",
      "   3.95416047e-01]\n",
      " [ 5.44843582e-01  5.43632254e-01  5.63191480e-01  5.38118077e-01\n",
      "   3.69885717e-01]\n",
      " [ 5.23387768e-01  5.08526692e-01  5.25126284e-01  4.98428170e-01\n",
      "   3.42077218e-01]\n",
      " [ 4.95994205e-01  4.70495111e-01  4.83803209e-01  4.56393142e-01\n",
      "   3.12723117e-01]\n",
      " [ 4.63451561e-01  4.30358770e-01  4.40190569e-01  4.13035681e-01\n",
      "   2.82577385e-01]\n",
      " [ 4.26833565e-01  3.89034814e-01  3.95370348e-01  3.69388543e-01\n",
      "   2.52341386e-01]\n",
      " [ 3.87402149e-01  3.47467594e-01  3.50449842e-01  3.26420422e-01\n",
      "   2.22625718e-01]\n",
      " [ 3.46508596e-01  3.06572788e-01  3.06486559e-01  2.84990427e-01\n",
      "   1.93944953e-01]\n",
      " [ 3.05494242e-01  2.67192065e-01  2.64426787e-01  2.45822661e-01\n",
      "   1.66728405e-01]\n",
      " [ 2.65593284e-01  2.30053108e-01  2.25055994e-01  2.09489903e-01\n",
      "   1.41329004e-01]\n",
      " [ 2.27846917e-01  1.95734042e-01  1.88962437e-01  1.76401269e-01\n",
      "   1.18021650e-01]\n",
      " [ 1.93042210e-01  1.64637162e-01  1.56518586e-01  1.46795907e-01\n",
      "   9.69937900e-02]\n",
      " [ 1.61686009e-01  1.36978751e-01  1.27884021e-01  1.20747534e-01\n",
      "   7.83368209e-02]\n",
      " [ 1.34015329e-01  1.12798407e-01  1.03029034e-01  9.81823008e-02\n",
      "   6.20458244e-02]\n",
      " [ 1.10036528e-01  9.19856302e-02  8.17731796e-02  7.89079733e-02\n",
      "   4.80300727e-02]\n",
      " [ 8.95805310e-02  7.43170852e-02  6.38304684e-02  6.26491307e-02\n",
      "   3.61319744e-02]\n",
      " [ 7.23613714e-02  5.94967005e-02  4.88533358e-02  4.90823475e-02\n",
      "   2.61497962e-02]\n",
      " [ 5.80287465e-02  4.71922206e-02  3.64699490e-02  3.78667057e-02\n",
      "   1.78596586e-02]\n",
      " [ 4.62096736e-02  3.70644739e-02  2.63123471e-02  2.86671917e-02\n",
      "   1.10338242e-02]\n",
      " [ 3.65380669e-02  2.87881825e-02  1.80352861e-02  2.11705391e-02\n",
      "   5.45403382e-03]\n",
      " [ 2.86734024e-02  2.20649232e-02  1.13270898e-02  1.50943933e-02\n",
      "   9.19968318e-04]\n",
      " [ 2.23107266e-02  1.66297461e-02  5.91439036e-03  1.01912756e-02\n",
      "  -2.74635710e-03]\n",
      " [ 1.71844454e-02  1.22531976e-02  1.56264370e-03  6.24890146e-03\n",
      "  -5.69920985e-03]\n",
      " [ 1.30680444e-02  8.74032871e-03 -1.92598815e-03  3.08820756e-03\n",
      "  -8.06976055e-03]\n",
      " [ 9.77140891e-03  5.92794751e-03 -4.71618446e-03  5.60124924e-04\n",
      "  -9.96788673e-03]\n",
      " [ 7.13693562e-03  3.68102089e-03 -6.94360877e-03 -1.45816949e-03\n",
      "  -1.14845587e-02]\n",
      " [ 5.03522336e-03  1.88882730e-03 -8.71911442e-03 -3.06705334e-03\n",
      "  -1.26944036e-02]\n",
      " [ 3.36082144e-03  4.61226731e-04 -1.01327026e-02 -4.34803534e-03\n",
      "  -1.36582001e-02]\n",
      " [ 2.02830130e-03 -6.74752674e-04 -1.12570763e-02 -5.36696706e-03\n",
      "  -1.44251665e-02]\n",
      " [ 9.68774517e-04 -1.57792229e-03 -1.21507303e-02 -6.17683747e-03\n",
      "  -1.50349799e-02]\n",
      " [ 1.26892514e-04 -2.29551469e-03 -1.28605803e-02 -6.82015014e-03\n",
      "  -1.55195124e-02]\n",
      " [-5.41686962e-04 -2.86535805e-03 -1.34241605e-02 -7.33091247e-03\n",
      "  -1.59042941e-02]\n",
      " [-1.07240797e-03 -3.31768214e-03 -1.38714407e-02 -7.73627996e-03\n",
      "  -1.62097298e-02]\n",
      " [-1.49355119e-03 -3.67660268e-03 -1.42263133e-02 -8.05790258e-03\n",
      "  -1.64520988e-02]\n",
      " [-1.82764974e-03 -3.96133139e-03 -1.45078021e-02 -8.31301945e-03\n",
      "  -1.66443712e-02]\n",
      " [-2.09263708e-03 -4.18715663e-03 -1.47310396e-02 -8.51534391e-03\n",
      "  -1.67968691e-02]\n",
      " [-2.30277330e-03 -4.36623410e-03 -1.49080537e-02 -8.67577608e-03\n",
      "  -1.69177999e-02]\n",
      " [-2.46938959e-03 -4.50822210e-03 -1.50483986e-02 -8.80297460e-03\n",
      "  -1.70136849e-02]\n",
      " [-2.60148478e-03 -4.62079052e-03 -1.51596598e-02 -8.90381419e-03\n",
      "  -1.70897033e-02]\n",
      " [-2.70620229e-03 -4.71002758e-03 -1.52478578e-02 -8.98375104e-03\n",
      "  -1.71499661e-02]\n",
      " [-2.78921069e-03 -4.78076433e-03 -1.53177691e-02 -9.04711422e-03\n",
      "  -1.71977357e-02]\n",
      " [-2.85500698e-03 -4.83683325e-03 -1.53731827e-02 -9.09733761e-03\n",
      "  -1.72355999e-02]\n",
      " [-2.90715793e-03 -4.88127398e-03 -1.54171032e-02 -9.13714454e-03\n",
      "  -1.72656116e-02]\n",
      " [-2.94849201e-03 -4.91649694e-03 -1.54519135e-02 -9.16869447e-03\n",
      "  -1.72893983e-02]\n",
      " [-2.98125192e-03 -4.94441332e-03 -1.54795025e-02 -9.19369952e-03\n",
      "  -1.73082508e-02]\n",
      " [-3.00721569e-03 -4.96653833e-03 -1.55013679e-02 -9.21351702e-03\n",
      "  -1.73231923e-02]\n",
      " [-3.02779287e-03 -4.98407312e-03 -1.55186968e-02 -9.22922295e-03\n",
      "  -1.73350340e-02]\n",
      " [-3.04410076e-03 -4.99796983e-03 -1.55324303e-02 -9.24167019e-03\n",
      "  -1.73444187e-02]\n",
      " [-3.05702501e-03 -5.00898317e-03 -1.55433142e-02 -9.25153477e-03\n",
      "  -1.73518563e-02]\n",
      " [-3.06726758e-03 -5.01771133e-03 -1.55519398e-02 -9.25935250e-03\n",
      "  -1.73577506e-02]\n",
      " [-3.07538486e-03 -5.02462841e-03 -1.55587756e-02 -9.26554806e-03\n",
      "  -1.73624219e-02]\n",
      " [-3.08181778e-03 -5.03011019e-03 -1.55641929e-02 -9.27045802e-03\n",
      "  -1.73661239e-02]\n",
      " [-3.08691585e-03 -5.03445448e-03 -1.55684861e-02 -9.27434914e-03\n",
      "  -1.73690577e-02]\n",
      " [-3.09095603e-03 -5.03789729e-03 -1.55718884e-02 -9.27743282e-03\n",
      "  -1.73713827e-02]\n",
      " [-3.09415784e-03 -5.04062569e-03 -1.55745847e-02 -9.27987660e-03\n",
      "  -1.73732253e-02]\n",
      " [-3.09669524e-03 -5.04278792e-03 -1.55767215e-02 -9.28181327e-03\n",
      "  -1.73746855e-02]]\n"
     ]
    }
   ],
   "source": [
    "print(train_scores)\n",
    "print(test_scores)"
   ]
  },
  {
   "cell_type": "code",
   "execution_count": 87,
   "metadata": {},
   "outputs": [],
   "source": [
    "train_mean = np.mean(train_scores, axis=1)"
   ]
  },
  {
   "cell_type": "code",
   "execution_count": 88,
   "metadata": {},
   "outputs": [],
   "source": [
    "test_mean = np.mean(test_scores, axis=1)"
   ]
  },
  {
   "cell_type": "code",
   "execution_count": 89,
   "metadata": {},
   "outputs": [
    {
     "data": {
      "text/plain": [
       "array([6.93468393e-01, 6.93468393e-01, 6.93468392e-01, 6.93468391e-01,\n",
       "       6.93468389e-01, 6.93468385e-01, 6.93468380e-01, 6.93468372e-01,\n",
       "       6.93468359e-01, 6.93468338e-01, 6.93468305e-01, 6.93468252e-01,\n",
       "       6.93468167e-01, 6.93468033e-01, 6.93467820e-01, 6.93467482e-01,\n",
       "       6.93466943e-01, 6.93466088e-01, 6.93464731e-01, 6.93462577e-01,\n",
       "       6.93459165e-01, 6.93453765e-01, 6.93445230e-01, 6.93431767e-01,\n",
       "       6.93410578e-01, 6.93377326e-01, 6.93325317e-01, 6.93244306e-01,\n",
       "       6.93118738e-01, 6.92925227e-01, 6.92629013e-01, 6.92179090e-01,\n",
       "       6.91501687e-01, 6.90491831e-01, 6.89002878e-01, 6.86834283e-01,\n",
       "       6.83718666e-01, 6.79310476e-01, 6.73180376e-01, 6.64821245e-01,\n",
       "       6.53672609e-01, 6.39168534e-01, 6.20808576e-01, 5.98242387e-01,\n",
       "       5.71349370e-01, 5.40290662e-01, 5.05516216e-01, 4.67724487e-01,\n",
       "       4.27788861e-01, 3.86673887e-01, 3.45360583e-01, 3.04787960e-01,\n",
       "       2.65807163e-01, 2.29142291e-01, 1.95356948e-01, 1.64831462e-01,\n",
       "       1.37757037e-01, 1.14149255e-01, 9.38777721e-02, 7.67051720e-02,\n",
       "       6.23272678e-02, 5.04088799e-02, 4.06118668e-02, 3.26146277e-02,\n",
       "       2.61239227e-02, 2.08806165e-02, 1.66610963e-02, 1.32759064e-02,\n",
       "       1.05667996e-02, 8.40305937e-03, 6.67764838e-03, 5.30351897e-03,\n",
       "       4.21026206e-03, 3.34116949e-03, 2.65072186e-03, 2.10247825e-03,\n",
       "       1.66732708e-03, 1.32205078e-03, 1.04815691e-03, 8.30931967e-04,\n",
       "       6.58678819e-04, 5.22104456e-04, 4.13829696e-04, 3.27997463e-04,\n",
       "       2.59960339e-04, 2.06031686e-04, 1.63287619e-04, 1.29409575e-04,\n",
       "       1.02559227e-04, 8.12791668e-05, 6.44140665e-05, 5.10481244e-05,\n",
       "       4.04554428e-05, 3.20606719e-05, 2.54078013e-05, 2.01354158e-05,\n",
       "       1.59570780e-05, 1.26457776e-05, 1.00216040e-05, 7.94197592e-06])"
      ]
     },
     "execution_count": 89,
     "metadata": {},
     "output_type": "execute_result"
    }
   ],
   "source": [
    "train_mean"
   ]
  },
  {
   "cell_type": "code",
   "execution_count": 90,
   "metadata": {},
   "outputs": [
    {
     "data": {
      "text/plain": [
       "array([ 6.21856831e-01,  6.21858489e-01,  6.21860582e-01,  6.21863222e-01,\n",
       "        6.21866553e-01,  6.21870755e-01,  6.21876054e-01,  6.21882738e-01,\n",
       "        6.21891165e-01,  6.21901791e-01,  6.21915184e-01,  6.21932060e-01,\n",
       "        6.21953319e-01,  6.21980086e-01,  6.22013767e-01,  6.22056119e-01,\n",
       "        6.22109326e-01,  6.22176090e-01,  6.22259745e-01,  6.22364368e-01,\n",
       "        6.22494911e-01,  6.22657315e-01,  6.22858601e-01,  6.23106901e-01,\n",
       "        6.23411361e-01,  6.23781842e-01,  6.24228281e-01,  6.24759536e-01,\n",
       "        6.25381475e-01,  6.26094007e-01,  6.26886704e-01,  6.27732616e-01,\n",
       "        6.28579924e-01,  6.29341165e-01,  6.29880007e-01,  6.29996082e-01,\n",
       "        6.29409281e-01,  6.27746402e-01,  6.24535025e-01,  6.19211338e-01,\n",
       "        6.11149176e-01,  5.99715018e-01,  5.84347052e-01,  5.64646596e-01,\n",
       "        5.40460986e-01,  5.11934222e-01,  4.79509227e-01,  4.43881757e-01,\n",
       "        4.05922793e-01,  3.66593731e-01,  3.26873145e-01,  2.87700664e-01,\n",
       "        2.49932832e-01,  2.14304258e-01,  1.81393263e-01,  1.51597531e-01,\n",
       "        1.25126627e-01,  1.02014179e-01,  8.21466768e-02,  6.53018379e-02,\n",
       "        5.11887103e-02,  3.94834561e-02,  2.98575021e-02,  2.19972217e-02,\n",
       "        1.56159554e-02,  1.04599563e-02,  6.30999566e-03,  2.98016640e-03,\n",
       "        3.15082031e-04, -1.81367608e-03, -3.51130413e-03, -4.86337799e-03,\n",
       "       -5.93913224e-03, -6.79433910e-03, -7.47377300e-03, -8.01328241e-03,\n",
       "       -8.44150810e-03, -8.78129370e-03, -9.05083478e-03, -9.26460928e-03,\n",
       "       -9.43412742e-03, -9.56853396e-03, -9.67509053e-03, -9.75956097e-03,\n",
       "       -9.82651881e-03, -9.87959209e-03, -9.92165826e-03, -9.95499905e-03,\n",
       "       -9.98142362e-03, -1.00023663e-02, -1.00189639e-02, -1.00321180e-02,\n",
       "       -1.00425427e-02, -1.00508044e-02, -1.00573518e-02, -1.00625406e-02,\n",
       "       -1.00666526e-02, -1.00699114e-02, -1.00724940e-02, -1.00745407e-02])"
      ]
     },
     "execution_count": 90,
     "metadata": {},
     "output_type": "execute_result"
    }
   ],
   "source": [
    "test_mean"
   ]
  },
  {
   "cell_type": "code",
   "execution_count": 91,
   "metadata": {},
   "outputs": [
    {
     "data": {
      "text/plain": [
       "0.629996082336865"
      ]
     },
     "execution_count": 91,
     "metadata": {},
     "output_type": "execute_result"
    }
   ],
   "source": [
    "max(test_mean)"
   ]
  },
  {
   "cell_type": "code",
   "execution_count": 92,
   "metadata": {},
   "outputs": [
    {
     "data": {
      "text/plain": [
       "<seaborn.axisgrid.JointGrid at 0x1bf2a8c1b20>"
      ]
     },
     "execution_count": 92,
     "metadata": {},
     "output_type": "execute_result"
    },
    {
     "data": {
      "image/png": "[encoded data removed]",
      "text/plain": [
       "<Figure size 432x432 with 3 Axes>"
      ]
     },
     "metadata": {
      "needs_background": "light"
     },
     "output_type": "display_data"
    }
   ],
   "source": [
    "sns.jointplot(x = np.log(param_range), y= test_mean)"
   ]
  },
  {
   "cell_type": "code",
   "execution_count": 93,
   "metadata": {},
   "outputs": [
    {
     "data": {
      "text/plain": [
       "(array([35], dtype=int64),)"
      ]
     },
     "execution_count": 93,
     "metadata": {},
     "output_type": "execute_result"
    }
   ],
   "source": [
    "np.where(test_mean == max(test_mean))"
   ]
  },
  {
   "cell_type": "code",
   "execution_count": 94,
   "metadata": {},
   "outputs": [
    {
     "data": {
      "text/plain": [
       "34.30469286314919"
      ]
     },
     "execution_count": 94,
     "metadata": {},
     "output_type": "execute_result"
    }
   ],
   "source": [
    "param_range[35]"
   ]
  },
  {
   "cell_type": "code",
   "execution_count": 95,
   "metadata": {},
   "outputs": [],
   "source": [
    "lm_r_best = Ridge(alpha = param_range[35])"
   ]
  },
  {
   "cell_type": "code",
   "execution_count": 96,
   "metadata": {},
   "outputs": [
    {
     "data": {
      "text/plain": [
       "Ridge(alpha=34.30469286314919)"
      ]
     },
     "execution_count": 96,
     "metadata": {},
     "output_type": "execute_result"
    }
   ],
   "source": [
    "lm_r_best.fit(X_train_s , y_train)"
   ]
  },
  {
   "cell_type": "code",
   "execution_count": 97,
   "metadata": {},
   "outputs": [
    {
     "data": {
      "text/plain": [
       "0.6456921822659961"
      ]
     },
     "execution_count": 97,
     "metadata": {},
     "output_type": "execute_result"
    }
   ],
   "source": [
    "r2_score(y_test , lm_r_best.predict(X_test_s))"
   ]
  },
  {
   "cell_type": "code",
   "execution_count": 98,
   "metadata": {},
   "outputs": [
    {
     "data": {
      "text/plain": [
       "0.6833365331925498"
      ]
     },
     "execution_count": 98,
     "metadata": {},
     "output_type": "execute_result"
    }
   ],
   "source": [
    "r2_score(y_train , lm_r_best.predict(X_train_s))"
   ]
  },
  {
   "cell_type": "markdown",
   "metadata": {},
   "source": [
    "### *3. Variable shrinkage with Lasso*"
   ]
  },
  {
   "cell_type": "code",
   "execution_count": 99,
   "metadata": {},
   "outputs": [],
   "source": [
    "from sklearn.linear_model import Lasso"
   ]
  },
  {
   "cell_type": "code",
   "execution_count": 100,
   "metadata": {},
   "outputs": [],
   "source": [
    "lm_l = Lasso(alpha = 0.4)"
   ]
  },
  {
   "cell_type": "code",
   "execution_count": 101,
   "metadata": {},
   "outputs": [
    {
     "data": {
      "text/plain": [
       "Lasso(alpha=0.4)"
      ]
     },
     "execution_count": 101,
     "metadata": {},
     "output_type": "execute_result"
    }
   ],
   "source": [
    "lm_l.fit(X_train_s , y_train)"
   ]
  },
  {
   "cell_type": "code",
   "execution_count": 102,
   "metadata": {},
   "outputs": [
    {
     "data": {
      "text/plain": [
       "0.6414528540721067"
      ]
     },
     "execution_count": 102,
     "metadata": {},
     "output_type": "execute_result"
    }
   ],
   "source": [
    "r2_score(y_test ,lm_l.predict(X_test_s))"
   ]
  },
  {
   "cell_type": "code",
   "execution_count": 103,
   "metadata": {},
   "outputs": [],
   "source": [
    "from sklearn.model_selection import validation_curve"
   ]
  },
  {
   "cell_type": "code",
   "execution_count": 104,
   "metadata": {},
   "outputs": [
    {
     "data": {
      "text/plain": [
       "array([1.00000000e-02, 1.26185688e-02, 1.59228279e-02, 2.00923300e-02,\n",
       "       2.53536449e-02, 3.19926714e-02, 4.03701726e-02, 5.09413801e-02,\n",
       "       6.42807312e-02, 8.11130831e-02, 1.02353102e-01, 1.29154967e-01,\n",
       "       1.62975083e-01, 2.05651231e-01, 2.59502421e-01, 3.27454916e-01,\n",
       "       4.13201240e-01, 5.21400829e-01, 6.57933225e-01, 8.30217568e-01,\n",
       "       1.04761575e+00, 1.32194115e+00, 1.66810054e+00, 2.10490414e+00,\n",
       "       2.65608778e+00, 3.35160265e+00, 4.22924287e+00, 5.33669923e+00,\n",
       "       6.73415066e+00, 8.49753436e+00, 1.07226722e+01, 1.35304777e+01,\n",
       "       1.70735265e+01, 2.15443469e+01, 2.71858824e+01, 3.43046929e+01,\n",
       "       4.32876128e+01, 5.46227722e+01, 6.89261210e+01, 8.69749003e+01,\n",
       "       1.09749877e+02, 1.38488637e+02, 1.74752840e+02, 2.20513074e+02,\n",
       "       2.78255940e+02, 3.51119173e+02, 4.43062146e+02, 5.59081018e+02,\n",
       "       7.05480231e+02, 8.90215085e+02, 1.12332403e+03, 1.41747416e+03,\n",
       "       1.78864953e+03, 2.25701972e+03, 2.84803587e+03, 3.59381366e+03,\n",
       "       4.53487851e+03, 5.72236766e+03, 7.22080902e+03, 9.11162756e+03,\n",
       "       1.14975700e+04, 1.45082878e+04, 1.83073828e+04, 2.31012970e+04,\n",
       "       2.91505306e+04, 3.67837977e+04, 4.64158883e+04, 5.85702082e+04,\n",
       "       7.39072203e+04, 9.32603347e+04, 1.17681195e+05, 1.48496826e+05,\n",
       "       1.87381742e+05, 2.36448941e+05, 2.98364724e+05, 3.76493581e+05,\n",
       "       4.75081016e+05, 5.99484250e+05, 7.56463328e+05, 9.54548457e+05,\n",
       "       1.20450354e+06, 1.51991108e+06, 1.91791026e+06, 2.42012826e+06,\n",
       "       3.05385551e+06, 3.85352859e+06, 4.86260158e+06, 6.13590727e+06,\n",
       "       7.74263683e+06, 9.77009957e+06, 1.23284674e+07, 1.55567614e+07,\n",
       "       1.96304065e+07, 2.47707636e+07, 3.12571585e+07, 3.94420606e+07,\n",
       "       4.97702356e+07, 6.28029144e+07, 7.92482898e+07, 1.00000000e+08])"
      ]
     },
     "execution_count": 104,
     "metadata": {},
     "output_type": "execute_result"
    }
   ],
   "source": [
    "param_range = np.logspace(-2,8,100)\n",
    "param_range"
   ]
  },
  {
   "cell_type": "code",
   "execution_count": 105,
   "metadata": {},
   "outputs": [],
   "source": [
    "train_scores,test_scores = validation_curve(Lasso(), X_train_s,y_train,\"alpha\",param_range,scoring='r2')"
   ]
  },
  {
   "cell_type": "code",
   "execution_count": 106,
   "metadata": {},
   "outputs": [
    {
     "name": "stdout",
     "output_type": "stream",
     "text": [
      "[[0.72141684 0.67892772 0.66973235 0.66473971 0.73252535]\n",
      " [0.72141684 0.67892772 0.66973235 0.66473971 0.73252535]\n",
      " [0.72141684 0.67892772 0.66973235 0.66473971 0.73252535]\n",
      " [0.72141684 0.67892772 0.66973235 0.66473971 0.73252535]\n",
      " [0.72141684 0.67892772 0.66973235 0.66473971 0.73252535]\n",
      " [0.72141684 0.67892772 0.66973235 0.66473971 0.73252535]\n",
      " [0.72141684 0.67892772 0.66973235 0.66473971 0.73252535]\n",
      " [0.72141684 0.67892772 0.66973235 0.66473971 0.73252535]\n",
      " [0.72141684 0.67892772 0.66973235 0.66473971 0.73252535]\n",
      " [0.72141684 0.67892772 0.66973235 0.66473971 0.73252535]\n",
      " [0.72141684 0.67892772 0.66973235 0.66473971 0.73252535]\n",
      " [0.72141684 0.67892772 0.66973235 0.66473971 0.73252535]\n",
      " [0.72141684 0.67892772 0.66973235 0.6647397  0.73252535]\n",
      " [0.72141684 0.67892772 0.66973234 0.6647397  0.73252535]\n",
      " [0.72141684 0.67892772 0.66973234 0.6647397  0.73252535]\n",
      " [0.72141684 0.67892771 0.66973234 0.6647397  0.73252534]\n",
      " [0.72141683 0.67892771 0.66973234 0.6647397  0.73252534]\n",
      " [0.72141682 0.6789277  0.66973233 0.66473969 0.73252533]\n",
      " [0.72141681 0.67892769 0.66973232 0.66473968 0.73252531]\n",
      " [0.72141679 0.67892767 0.66973231 0.66473967 0.73252529]\n",
      " [0.72141676 0.67892764 0.66973229 0.66473965 0.73252525]\n",
      " [0.72141671 0.67892759 0.66973225 0.66473961 0.73252519]\n",
      " [0.72141664 0.67892751 0.6697322  0.66473955 0.73252509]\n",
      " [0.72141651 0.67892738 0.66973211 0.66473946 0.73252493]\n",
      " [0.72141632 0.67892718 0.66973197 0.66473932 0.73252468]\n",
      " [0.72141601 0.67892686 0.66973175 0.66473909 0.73252429]\n",
      " [0.72141565 0.67892635 0.6697314  0.66473873 0.73252366]\n",
      " [0.72141491 0.67892574 0.66973084 0.66473815 0.73252265]\n",
      " [0.72141372 0.67892452 0.66972995 0.66473723 0.73252105]\n",
      " [0.7214118  0.67892254 0.66972853 0.66473576 0.73251851]\n",
      " [0.72140873 0.67891938 0.66972628 0.66473343 0.73251444]\n",
      " [0.72140382 0.67891431 0.66972272 0.66472973 0.73250797]\n",
      " [0.72139597 0.67890622 0.66971707 0.66472385 0.73249764]\n",
      " [0.72138344 0.67889328 0.6697081  0.66471457 0.73248124]\n",
      " [0.72136345 0.67887263 0.66969386 0.66469982 0.73245516]\n",
      " [0.72133155 0.67883923 0.66967095 0.66467613 0.73242194]\n",
      " [0.7212807  0.67878703 0.66963443 0.6646384  0.73238255]\n",
      " [0.72119963 0.67870903 0.66957623 0.66457831 0.73231915]\n",
      " [0.72107043 0.67861179 0.66948351 0.66448261 0.73221831]\n",
      " [0.72086457 0.67845685 0.66933581 0.66433019 0.7320573 ]\n",
      " [0.72053659 0.67823216 0.66910054 0.66408829 0.73180081]\n",
      " [0.72001411 0.67791548 0.66875557 0.66370193 0.73139227]\n",
      " [0.71918319 0.67741177 0.66821478 0.66311393 0.73074158]\n",
      " [0.71822032 0.67660902 0.66735459 0.66218226 0.72970532]\n",
      " [0.71695276 0.67539048 0.66601826 0.66069847 0.72828144]\n",
      " [0.71495172 0.67353686 0.6639199  0.65833824 0.72601294]\n",
      " [0.71188505 0.67093435 0.66145724 0.6554168  0.72240056]\n",
      " [0.70830555 0.66791778 0.65822895 0.65214205 0.71664825]\n",
      " [0.70448614 0.66311496 0.65316867 0.64790206 0.7087951 ]\n",
      " [0.69919043 0.65684019 0.64527741 0.64195353 0.6988991 ]\n",
      " [0.69186957 0.64964685 0.63694896 0.63338033 0.68788862]\n",
      " [0.68088389 0.63850693 0.62845753 0.62139664 0.67431718]\n",
      " [0.66772522 0.6253988  0.61663977 0.60581683 0.66403868]\n",
      " [0.64955488 0.60595067 0.59858353 0.59502634 0.65477344]\n",
      " [0.63210234 0.59355647 0.58708676 0.58335356 0.64223158]\n",
      " [0.61561457 0.57806882 0.56877996 0.56476686 0.62345561]\n",
      " [0.58936027 0.55340689 0.53962929 0.53517131 0.59355904]\n",
      " [0.54755844 0.51413772 0.49321293 0.48804659 0.54595515]\n",
      " [0.48099363 0.45161294 0.41930495 0.41301296 0.47015854]\n",
      " [0.37500654 0.3520509  0.30162492 0.29353454 0.3494638 ]\n",
      " [0.21451075 0.19432415 0.11531068 0.10329044 0.16724256]\n",
      " [0.         0.         0.         0.         0.        ]\n",
      " [0.         0.         0.         0.         0.        ]\n",
      " [0.         0.         0.         0.         0.        ]\n",
      " [0.         0.         0.         0.         0.        ]\n",
      " [0.         0.         0.         0.         0.        ]\n",
      " [0.         0.         0.         0.         0.        ]\n",
      " [0.         0.         0.         0.         0.        ]\n",
      " [0.         0.         0.         0.         0.        ]\n",
      " [0.         0.         0.         0.         0.        ]\n",
      " [0.         0.         0.         0.         0.        ]\n",
      " [0.         0.         0.         0.         0.        ]\n",
      " [0.         0.         0.         0.         0.        ]\n",
      " [0.         0.         0.         0.         0.        ]\n",
      " [0.         0.         0.         0.         0.        ]\n",
      " [0.         0.         0.         0.         0.        ]\n",
      " [0.         0.         0.         0.         0.        ]\n",
      " [0.         0.         0.         0.         0.        ]\n",
      " [0.         0.         0.         0.         0.        ]\n",
      " [0.         0.         0.         0.         0.        ]\n",
      " [0.         0.         0.         0.         0.        ]\n",
      " [0.         0.         0.         0.         0.        ]\n",
      " [0.         0.         0.         0.         0.        ]\n",
      " [0.         0.         0.         0.         0.        ]\n",
      " [0.         0.         0.         0.         0.        ]\n",
      " [0.         0.         0.         0.         0.        ]\n",
      " [0.         0.         0.         0.         0.        ]\n",
      " [0.         0.         0.         0.         0.        ]\n",
      " [0.         0.         0.         0.         0.        ]\n",
      " [0.         0.         0.         0.         0.        ]\n",
      " [0.         0.         0.         0.         0.        ]\n",
      " [0.         0.         0.         0.         0.        ]\n",
      " [0.         0.         0.         0.         0.        ]\n",
      " [0.         0.         0.         0.         0.        ]\n",
      " [0.         0.         0.         0.         0.        ]\n",
      " [0.         0.         0.         0.         0.        ]\n",
      " [0.         0.         0.         0.         0.        ]\n",
      " [0.         0.         0.         0.         0.        ]\n",
      " [0.         0.         0.         0.         0.        ]\n",
      " [0.         0.         0.         0.         0.        ]]\n",
      "[[ 0.43936884  0.70634355  0.73909956  0.74186559  0.48257734]\n",
      " [ 0.43936927  0.70634366  0.73909945  0.7418655   0.48257759]\n",
      " [ 0.43936981  0.70634378  0.73909932  0.74186539  0.48257792]\n",
      " [ 0.43937049  0.70634395  0.73909914  0.74186525  0.48257833]\n",
      " [ 0.4393714   0.70634417  0.73909893  0.74186508  0.48257887]\n",
      " [ 0.43937248  0.70634445  0.73909866  0.74186486  0.48257951]\n",
      " [ 0.43937385  0.7063448   0.73909833  0.74186459  0.48258033]\n",
      " [ 0.43937557  0.70634524  0.7390979   0.74186424  0.48258135]\n",
      " [ 0.43937775  0.7063458   0.73909735  0.7418639   0.48258264]\n",
      " [ 0.43938059  0.70634651  0.73909668  0.74186334  0.48258426]\n",
      " [ 0.43938406  0.70634738  0.73909582  0.74186264  0.48258628]\n",
      " [ 0.43938843  0.7063485   0.73909474  0.74186176  0.4825884 ]\n",
      " [ 0.43939411  0.70634991  0.73909338  0.74186064  0.48259168]\n",
      " [ 0.43940107  0.70635169  0.73909165  0.74185924  0.48259582]\n",
      " [ 0.43941009  0.70635394  0.73908948  0.74185755  0.48260085]\n",
      " [ 0.43942117  0.70635678  0.73908674  0.74185531  0.48260744]\n",
      " [ 0.43943547  0.70636038  0.73908327  0.74185248  0.48261576]\n",
      " [ 0.4394535   0.70636495  0.73907891  0.74184896  0.48262606]\n",
      " [ 0.43947618  0.70637064  0.73907339  0.74184445  0.48263929]\n",
      " [ 0.43950426  0.70637793  0.73906645  0.74183873  0.48265585]\n",
      " [ 0.43954006  0.70638715  0.73905766  0.74183154  0.48267689]\n",
      " [ 0.43958497  0.70639881  0.73904659  0.74182229  0.48270345]\n",
      " [ 0.43964121  0.70641316  0.73903263  0.74181082  0.48273714]\n",
      " [ 0.43971224  0.70643157  0.73901504  0.74179594  0.48277992]\n",
      " [ 0.43980111  0.70645472  0.73899278  0.74177693  0.48283421]\n",
      " [ 0.43991398  0.70648375  0.73896465  0.74175271  0.48290126]\n",
      " [ 0.44000455  0.70651957  0.73892921  0.74172341  0.48298746]\n",
      " [ 0.44018372  0.70655048  0.7388843   0.74168483  0.48309381]\n",
      " [ 0.44040929  0.70660675  0.73882769  0.74163783  0.4832302 ]\n",
      " [ 0.4406931   0.706677    0.73875586  0.74157632  0.48339849]\n",
      " [ 0.4410499   0.70676443  0.73866519  0.74149842  0.48361339]\n",
      " [ 0.44149803  0.70687281  0.73855078  0.74140212  0.48388315]\n",
      " [ 0.44206016  0.70700648  0.73840519  0.7412772   0.48422631]\n",
      " [ 0.44276415  0.70717024  0.73822016  0.74111837  0.4846476 ]\n",
      " [ 0.44364398  0.70736906  0.73798453  0.74091951  0.48517096]\n",
      " [ 0.44474065  0.70761297  0.73768408  0.74066092  0.4856982 ]\n",
      " [ 0.44610296  0.7078894   0.73730032  0.74032677  0.48620182]\n",
      " [ 0.44778767  0.70807526  0.7368087   0.73989262  0.48681933]\n",
      " [ 0.44985893  0.70768054  0.7361766   0.73932492  0.48757837]\n",
      " [ 0.45238566  0.70711518  0.73536031  0.73857688  0.48852521]\n",
      " [ 0.45543565  0.7062588   0.73430051  0.73758854  0.4896657 ]\n",
      " [ 0.45906409  0.70603871  0.7328189   0.7362533   0.49101569]\n",
      " [ 0.46329388  0.70562974  0.73084714  0.73432157  0.49257889]\n",
      " [ 0.46465599  0.70486783  0.72823759  0.73167539  0.4943293 ]\n",
      " [ 0.46570534  0.70374194  0.7247782   0.72803685  0.49572331]\n",
      " [ 0.4664127   0.70204463  0.72012968  0.72298772  0.49706477]\n",
      " [ 0.46723615  0.70005727  0.71587112  0.71717331  0.49806446]\n",
      " [ 0.47090599  0.69965888  0.71165461  0.71274543  0.49822252]\n",
      " [ 0.47720463  0.69797203  0.70581073  0.70835588  0.49635298]\n",
      " [ 0.48712618  0.69529738  0.69792763  0.70281274  0.49228258]\n",
      " [ 0.49663706  0.6942102   0.68890585  0.69549104  0.48770278]\n",
      " [ 0.50394897  0.69142577  0.68038692  0.68372808  0.48149964]\n",
      " [ 0.50905028  0.68248702  0.66865144  0.66580642  0.48466617]\n",
      " [ 0.5114794   0.66747791  0.6514534   0.65130785  0.49273076]\n",
      " [ 0.51158982  0.64962627  0.63545009  0.6363435   0.49054228]\n",
      " [ 0.51034283  0.62616383  0.61161761  0.61357749  0.47937742]\n",
      " [ 0.50145721  0.59205918  0.57575079  0.57866811  0.45942842]\n",
      " [ 0.47859414  0.54186248  0.52126862  0.52477446  0.42492432]\n",
      " [ 0.43120471  0.46712117  0.4378341   0.44110072  0.36652832]\n",
      " [ 0.34187589  0.35464843  0.30917064  0.31055493  0.2691813 ]\n",
      " [ 0.19700208  0.18485941  0.11048706  0.10608849  0.11896288]\n",
      " [-0.00310639 -0.00505105 -0.01558488 -0.00928921 -0.01738026]\n",
      " [-0.00310639 -0.00505105 -0.01558488 -0.00928921 -0.01738026]\n",
      " [-0.00310639 -0.00505105 -0.01558488 -0.00928921 -0.01738026]\n",
      " [-0.00310639 -0.00505105 -0.01558488 -0.00928921 -0.01738026]\n",
      " [-0.00310639 -0.00505105 -0.01558488 -0.00928921 -0.01738026]\n",
      " [-0.00310639 -0.00505105 -0.01558488 -0.00928921 -0.01738026]\n",
      " [-0.00310639 -0.00505105 -0.01558488 -0.00928921 -0.01738026]\n",
      " [-0.00310639 -0.00505105 -0.01558488 -0.00928921 -0.01738026]\n",
      " [-0.00310639 -0.00505105 -0.01558488 -0.00928921 -0.01738026]\n",
      " [-0.00310639 -0.00505105 -0.01558488 -0.00928921 -0.01738026]\n",
      " [-0.00310639 -0.00505105 -0.01558488 -0.00928921 -0.01738026]\n",
      " [-0.00310639 -0.00505105 -0.01558488 -0.00928921 -0.01738026]\n",
      " [-0.00310639 -0.00505105 -0.01558488 -0.00928921 -0.01738026]\n",
      " [-0.00310639 -0.00505105 -0.01558488 -0.00928921 -0.01738026]\n",
      " [-0.00310639 -0.00505105 -0.01558488 -0.00928921 -0.01738026]\n",
      " [-0.00310639 -0.00505105 -0.01558488 -0.00928921 -0.01738026]\n",
      " [-0.00310639 -0.00505105 -0.01558488 -0.00928921 -0.01738026]\n",
      " [-0.00310639 -0.00505105 -0.01558488 -0.00928921 -0.01738026]\n",
      " [-0.00310639 -0.00505105 -0.01558488 -0.00928921 -0.01738026]\n",
      " [-0.00310639 -0.00505105 -0.01558488 -0.00928921 -0.01738026]\n",
      " [-0.00310639 -0.00505105 -0.01558488 -0.00928921 -0.01738026]\n",
      " [-0.00310639 -0.00505105 -0.01558488 -0.00928921 -0.01738026]\n",
      " [-0.00310639 -0.00505105 -0.01558488 -0.00928921 -0.01738026]\n",
      " [-0.00310639 -0.00505105 -0.01558488 -0.00928921 -0.01738026]\n",
      " [-0.00310639 -0.00505105 -0.01558488 -0.00928921 -0.01738026]\n",
      " [-0.00310639 -0.00505105 -0.01558488 -0.00928921 -0.01738026]\n",
      " [-0.00310639 -0.00505105 -0.01558488 -0.00928921 -0.01738026]\n",
      " [-0.00310639 -0.00505105 -0.01558488 -0.00928921 -0.01738026]\n",
      " [-0.00310639 -0.00505105 -0.01558488 -0.00928921 -0.01738026]\n",
      " [-0.00310639 -0.00505105 -0.01558488 -0.00928921 -0.01738026]\n",
      " [-0.00310639 -0.00505105 -0.01558488 -0.00928921 -0.01738026]\n",
      " [-0.00310639 -0.00505105 -0.01558488 -0.00928921 -0.01738026]\n",
      " [-0.00310639 -0.00505105 -0.01558488 -0.00928921 -0.01738026]\n",
      " [-0.00310639 -0.00505105 -0.01558488 -0.00928921 -0.01738026]\n",
      " [-0.00310639 -0.00505105 -0.01558488 -0.00928921 -0.01738026]\n",
      " [-0.00310639 -0.00505105 -0.01558488 -0.00928921 -0.01738026]\n",
      " [-0.00310639 -0.00505105 -0.01558488 -0.00928921 -0.01738026]\n",
      " [-0.00310639 -0.00505105 -0.01558488 -0.00928921 -0.01738026]\n",
      " [-0.00310639 -0.00505105 -0.01558488 -0.00928921 -0.01738026]]\n"
     ]
    }
   ],
   "source": [
    "print(train_scores)\n",
    "print(test_scores)"
   ]
  },
  {
   "cell_type": "code",
   "execution_count": 107,
   "metadata": {},
   "outputs": [],
   "source": [
    "train_mean = np.mean(train_scores, axis=1)"
   ]
  },
  {
   "cell_type": "code",
   "execution_count": 108,
   "metadata": {},
   "outputs": [],
   "source": [
    "test_mean = np.mean(test_scores, axis=1)"
   ]
  },
  {
   "cell_type": "code",
   "execution_count": 109,
   "metadata": {},
   "outputs": [
    {
     "data": {
      "text/plain": [
       "0.6253342412894599"
      ]
     },
     "execution_count": 109,
     "metadata": {},
     "output_type": "execute_result"
    }
   ],
   "source": [
    "max(test_mean)"
   ]
  },
  {
   "cell_type": "code",
   "execution_count": 110,
   "metadata": {},
   "outputs": [
    {
     "data": {
      "text/plain": [
       "<seaborn.axisgrid.JointGrid at 0x1bf2a999880>"
      ]
     },
     "execution_count": 110,
     "metadata": {},
     "output_type": "execute_result"
    },
    {
     "data": {
      "image/png": "[encoded data removed]",
      "text/plain": [
       "<Figure size 432x432 with 3 Axes>"
      ]
     },
     "metadata": {
      "needs_background": "light"
     },
     "output_type": "display_data"
    }
   ],
   "source": [
    "sns.jointplot(x = np.log(param_range), y= test_mean)"
   ]
  },
  {
   "cell_type": "code",
   "execution_count": 111,
   "metadata": {},
   "outputs": [
    {
     "data": {
      "text/plain": [
       "(array([42], dtype=int64),)"
      ]
     },
     "execution_count": 111,
     "metadata": {},
     "output_type": "execute_result"
    }
   ],
   "source": [
    "np.where(test_mean == max(test_mean))"
   ]
  },
  {
   "cell_type": "code",
   "execution_count": 112,
   "metadata": {},
   "outputs": [
    {
     "data": {
      "text/plain": [
       "174.7528400007683"
      ]
     },
     "execution_count": 112,
     "metadata": {},
     "output_type": "execute_result"
    }
   ],
   "source": [
    "param_range[42]"
   ]
  },
  {
   "cell_type": "code",
   "execution_count": 113,
   "metadata": {},
   "outputs": [],
   "source": [
    "lm_l_best = Lasso(alpha = param_range[42])"
   ]
  },
  {
   "cell_type": "code",
   "execution_count": 114,
   "metadata": {},
   "outputs": [
    {
     "data": {
      "text/plain": [
       "Lasso(alpha=174.7528400007683)"
      ]
     },
     "execution_count": 114,
     "metadata": {},
     "output_type": "execute_result"
    }
   ],
   "source": [
    "lm_l_best.fit(X_train_s , y_train)"
   ]
  },
  {
   "cell_type": "code",
   "execution_count": 115,
   "metadata": {},
   "outputs": [
    {
     "data": {
      "text/plain": [
       "0.6447462034184359"
      ]
     },
     "execution_count": 115,
     "metadata": {},
     "output_type": "execute_result"
    }
   ],
   "source": [
    "r2_score(y_test , lm_l_best.predict(X_test_s))"
   ]
  },
  {
   "cell_type": "code",
   "execution_count": 116,
   "metadata": {},
   "outputs": [
    {
     "data": {
      "text/plain": [
       "0.6861196549018225"
      ]
     },
     "execution_count": 116,
     "metadata": {},
     "output_type": "execute_result"
    }
   ],
   "source": [
    "r2_score(y_train , lm_l_best.predict(X_train_s))"
   ]
  },
  {
   "cell_type": "markdown",
   "metadata": {},
   "source": [
    "## *Inference:-*\n",
    "  From the above three model's r2 score, we can clearly conclude that Ridge model i best for this dataset."
   ]
  }
 ],
 "metadata": {
  "kernelspec": {
   "display_name": "Python 3",
   "language": "python",
   "name": "python3"
  },
  "language_info": {
   "codemirror_mode": {
    "name": "ipython",
    "version": 3
   },
   "file_extension": ".py",
   "mimetype": "text/x-python",
   "name": "python",
   "nbconvert_exporter": "python",
   "pygments_lexer": "ipython3",
   "version": "3.9.0"
  }
 },
 "nbformat": 4,
 "nbformat_minor": 4
}
